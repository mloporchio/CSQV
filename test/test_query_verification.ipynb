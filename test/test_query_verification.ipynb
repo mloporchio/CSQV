{
 "cells": [
  {
   "cell_type": "code",
   "execution_count": 1,
   "id": "4349209e",
   "metadata": {},
   "outputs": [],
   "source": [
    "import pandas as pd\n",
    "import numpy as np\n",
    "import matplotlib.pyplot as plt\n",
    "import os\n",
    "import random\n",
    "import struct\n",
    "import subprocess\n",
    "import sys\n",
    "from matplotlib.patches import Rectangle"
   ]
  },
  {
   "cell_type": "code",
   "execution_count": 2,
   "id": "c7de77b3",
   "metadata": {},
   "outputs": [],
   "source": [
    "base_dir = os.getcwd()\n",
    "exec_dir = '..'"
   ]
  },
  {
   "cell_type": "code",
   "execution_count": 3,
   "id": "64ea4bc5",
   "metadata": {},
   "outputs": [],
   "source": [
    "# Returns all records whose location is in the given range.\n",
    "def range_query(df, lx, ly, ux, uy):\n",
    "    return (df[(df.ACCLOC_X >= lx) & (df.ACCLOC_X <= ux) & \n",
    "              (df.ACCLOC_Y >= ly) & (df.ACCLOC_Y <= uy)])\n",
    "\n",
    "# Returns the bounding rectangle of a Pandas dataframe.\n",
    "def bounding_rect(df):\n",
    "    return (np.min(df['ACCLOC_X']), np.min(df['ACCLOC_Y']), \n",
    "            np.max(df['ACCLOC_X']), np.max(df['ACCLOC_Y']))\n",
    "\n",
    "# Generates a random rectangle inside the given interval.\n",
    "def random_rect(lx, ly, ux, uy):\n",
    "    # Generate a random lower-left vertex.\n",
    "    px = random.uniform(lx, ux)\n",
    "    py = random.uniform(ly, uy)\n",
    "    width = random.uniform(0, ux-px)\n",
    "    height = random.uniform(0, uy-py)\n",
    "    return (px, py, px+width, py+height)\n",
    "\n",
    "def to_string(rect):\n",
    "    return '({}, {}, {}, {})'.format(rect[0],rect[1],rect[2],rect[3])"
   ]
  },
  {
   "cell_type": "code",
   "execution_count": 4,
   "id": "9eab531e",
   "metadata": {},
   "outputs": [
    {
     "data": {
      "text/html": [
       "<div>\n",
       "<style scoped>\n",
       "    .dataframe tbody tr th:only-of-type {\n",
       "        vertical-align: middle;\n",
       "    }\n",
       "\n",
       "    .dataframe tbody tr th {\n",
       "        vertical-align: top;\n",
       "    }\n",
       "\n",
       "    .dataframe thead th {\n",
       "        text-align: right;\n",
       "    }\n",
       "</style>\n",
       "<table border=\"1\" class=\"dataframe\">\n",
       "  <thead>\n",
       "    <tr style=\"text-align: right;\">\n",
       "      <th></th>\n",
       "      <th>REPORT_ID</th>\n",
       "      <th>Year</th>\n",
       "      <th>Month</th>\n",
       "      <th>Day</th>\n",
       "      <th>Time</th>\n",
       "      <th>ACCLOC_X</th>\n",
       "      <th>ACCLOC_Y</th>\n",
       "    </tr>\n",
       "  </thead>\n",
       "  <tbody>\n",
       "    <tr>\n",
       "      <th>0</th>\n",
       "      <td>2012-1-27/05/2021</td>\n",
       "      <td>2012</td>\n",
       "      <td>January</td>\n",
       "      <td>Sunday</td>\n",
       "      <td>04:30 pm</td>\n",
       "      <td>1330659.71</td>\n",
       "      <td>1671795.87</td>\n",
       "    </tr>\n",
       "    <tr>\n",
       "      <th>1</th>\n",
       "      <td>2012-2-27/05/2021</td>\n",
       "      <td>2012</td>\n",
       "      <td>January</td>\n",
       "      <td>Sunday</td>\n",
       "      <td>09:10 am</td>\n",
       "      <td>1329400.16</td>\n",
       "      <td>1668462.66</td>\n",
       "    </tr>\n",
       "    <tr>\n",
       "      <th>2</th>\n",
       "      <td>2012-3-27/05/2021</td>\n",
       "      <td>2012</td>\n",
       "      <td>January</td>\n",
       "      <td>Wednesday</td>\n",
       "      <td>11:30 am</td>\n",
       "      <td>1313748.22</td>\n",
       "      <td>1624241.28</td>\n",
       "    </tr>\n",
       "    <tr>\n",
       "      <th>3</th>\n",
       "      <td>2012-4-27/05/2021</td>\n",
       "      <td>2012</td>\n",
       "      <td>January</td>\n",
       "      <td>Wednesday</td>\n",
       "      <td>10:20 am</td>\n",
       "      <td>1325326.77</td>\n",
       "      <td>1672425.55</td>\n",
       "    </tr>\n",
       "    <tr>\n",
       "      <th>4</th>\n",
       "      <td>2012-5-27/05/2021</td>\n",
       "      <td>2012</td>\n",
       "      <td>January</td>\n",
       "      <td>Wednesday</td>\n",
       "      <td>03:30 pm</td>\n",
       "      <td>1326056.45</td>\n",
       "      <td>1673028.42</td>\n",
       "    </tr>\n",
       "  </tbody>\n",
       "</table>\n",
       "</div>"
      ],
      "text/plain": [
       "           REPORT_ID  Year    Month        Day      Time    ACCLOC_X  \\\n",
       "0  2012-1-27/05/2021  2012  January     Sunday  04:30 pm  1330659.71   \n",
       "1  2012-2-27/05/2021  2012  January     Sunday  09:10 am  1329400.16   \n",
       "2  2012-3-27/05/2021  2012  January  Wednesday  11:30 am  1313748.22   \n",
       "3  2012-4-27/05/2021  2012  January  Wednesday  10:20 am  1325326.77   \n",
       "4  2012-5-27/05/2021  2012  January  Wednesday  03:30 pm  1326056.45   \n",
       "\n",
       "     ACCLOC_Y  \n",
       "0  1671795.87  \n",
       "1  1668462.66  \n",
       "2  1624241.28  \n",
       "3  1672425.55  \n",
       "4  1673028.42  "
      ]
     },
     "execution_count": 4,
     "metadata": {},
     "output_type": "execute_result"
    }
   ],
   "source": [
    "df = pd.read_csv('data/crash_data.csv')\n",
    "df.head()"
   ]
  },
  {
   "cell_type": "code",
   "execution_count": 5,
   "id": "69b744af",
   "metadata": {},
   "outputs": [
    {
     "data": {
      "text/plain": [
       "<matplotlib.patches.Rectangle at 0x115193be0>"
      ]
     },
     "execution_count": 5,
     "metadata": {},
     "output_type": "execute_result"
    },
    {
     "data": {
      "image/png": "[encoded data removed]",
      "text/plain": [
       "<Figure size 432x288 with 1 Axes>"
      ]
     },
     "metadata": {
      "needs_background": "light"
     },
     "output_type": "display_data"
    }
   ],
   "source": [
    "r = bounding_rect(df)\n",
    "q = random_rect(r[0],r[1],r[2],r[3])\n",
    "plt.scatter(df['ACCLOC_X'], df['ACCLOC_Y'])\n",
    "plt.gca().add_patch(Rectangle((r[0], r[1]), r[2]-r[0], r[3]-r[1], fill=None, alpha=1))\n",
    "plt.gca().add_patch(Rectangle((q[0], q[1]), q[2]-q[0], q[3]-q[1], fill=None, alpha=1))"
   ]
  },
  {
   "cell_type": "markdown",
   "id": "91f04655",
   "metadata": {},
   "source": [
    "# Query generation\n",
    "\n",
    "First experiment: generate random queries."
   ]
  },
  {
   "cell_type": "raw",
   "id": "a6a5a02c",
   "metadata": {},
   "source": [
    "test_df = pd.read_csv('./test_query_verification/crash_data_50000.csv')\n",
    "query_file = './test_query_verification/queries.csv'\n",
    "test_mbr = bounding_rect(test_df)\n",
    "n_queries = 10000\n",
    "n_records = len(test_df)\n",
    "\n",
    "f = open(query_file, 'w')\n",
    "f.write('lx,ly,ux,uy,matching,fraction\\n')\n",
    "\n",
    "for i in range(0, n_queries):\n",
    "    rq = random_rect(test_mbr[0], test_mbr[1], test_mbr[2], test_mbr[3]) \n",
    "    result = range_query(test_df, rq[0], rq[1], rq[2], rq[3])\n",
    "    matching = len(result)\n",
    "    fraction = matching/n_records\n",
    "    f.write('{},{},{},{},{},{}\\n'.format(rq[0],rq[1],rq[2],rq[3],matching,fraction))\n",
    "    \n",
    "f.close()\n",
    "    \n",
    "print('Done!')"
   ]
  },
  {
   "cell_type": "markdown",
   "id": "8ea33839",
   "metadata": {},
   "source": [
    "# Random queries\n",
    "\n",
    "We fix $m = 50000$, $c=20$ and perform 1000 queries which are randomly selected among the ones we have generated.\n",
    "We measure the average query and verification times."
   ]
  },
  {
   "cell_type": "raw",
   "id": "e657d9f5",
   "metadata": {},
   "source": [
    "m=50000\n",
    "c=20\n",
    "n_queries = 5000\n",
    "query_df = pd.read_csv('./test_query_verification/queries.csv')\n",
    "query_df = query_df.sample(n=n_queries, random_state=100)\n",
    "avg_query, avg_verif = 0, 0\n",
    "\n",
    "input_file='./test/test_query_verification/crash_data_{}.csv'.format(m)\n",
    "output_file = './test_query_verification/test_random_queries.csv'\n",
    "\n",
    "f = open(output_file, 'w')\n",
    "f.write('m,avg_query,avg_verif\\n')\n",
    "\n",
    "os.chdir(exec_dir)\n",
    "\n",
    "# Iterate over the queries.\n",
    "for row in query_df.iterrows():\n",
    "    q = row[1]\n",
    "    # Run the C++ implementation.\n",
    "    params = ['./TestQuery', input_file, str(c), str(q.lx), str(q.ly), str(q.ux), str(q.uy)]\n",
    "    p = subprocess.run(params, capture_output=True, check=True)\n",
    "    lines = p.stdout.decode('utf-8').splitlines()\n",
    "    avg_query += int((lines[4].split(':'))[1])\n",
    "    avg_verif += int((lines[5].split(':'))[1])\n",
    "\n",
    "f.write('{},{}\\n'.format(avg_query,avg_verif))\n",
    "\n",
    "f.close()\n",
    "\n",
    "os.chdir(base_dir)\n",
    "print('Done!')    "
   ]
  },
  {
   "cell_type": "markdown",
   "id": "7ee847f8",
   "metadata": {},
   "source": [
    "# Fraction of records (10%-90%)\n",
    "\n",
    "Selected query IDs:\n",
    "\n",
    "|  F  |  ID  |\n",
    "|:---:|:----:|\n",
    "| 10% | 7323 |\n",
    "| 20% | 26   |\n",
    "| 30% | 4515 |\n",
    "| 40% | 2823 |\n",
    "| 50% | 7182 |\n",
    "| 60% | 3734 |\n",
    "| 70% | 1338 |\n",
    "| 80% | 1131 |\n",
    "| 90% | 8966 |"
   ]
  },
  {
   "cell_type": "code",
   "execution_count": 6,
   "id": "6bc6ca19",
   "metadata": {},
   "outputs": [],
   "source": [
    "def print_fraction(df, fmin, fmax):\n",
    "    return (df[(df.fraction > fmin) & (df.fraction <= fmax)]).sort_values('fraction')"
   ]
  },
  {
   "cell_type": "code",
   "execution_count": 7,
   "id": "91e6eab0",
   "metadata": {},
   "outputs": [],
   "source": [
    "m=50000\n",
    "c=20\n",
    "query_df = pd.read_csv('./test_query_verification/queries.csv')\n",
    "query_ids = [7323, 26, 4515, 2823, 7182, 3734, 1338, 1131, 8966]\n",
    "n_trials=20"
   ]
  },
  {
   "cell_type": "code",
   "execution_count": 8,
   "id": "2e544b4a",
   "metadata": {},
   "outputs": [
    {
     "name": "stdout",
     "output_type": "stream",
     "text": [
      "Testing q = (997923.198619161, 1558406.4419705148, 1319835.4583058036, 2629320.42603949)...\n",
      "Testing q = (1157641.0138630343, 1683783.3693743732, 1461543.232077348, 2055540.3656423616)...\n",
      "Testing q = (1239611.6155656772, 1469332.0660300502, 1325904.56827415, 1862367.547333857)...\n",
      "Testing q = (1044485.882382357, 1674909.8671160382, 1454703.58104226, 2108267.1311829914)...\n",
      "Testing q = (1294312.379426788, 1671411.025779427, 1470627.338848919, 2518146.158722629)...\n",
      "Testing q = (1300543.9466481828, 1668891.3886098117, 1512512.705079927, 1954040.253304719)...\n",
      "Testing q = (709315.0886249999, 1663851.4289746964, 1435565.5497201788, 1723813.4023714047)...\n",
      "Testing q = (725598.1453333314, 1661606.186857487, 1564111.3644731976, 2633604.596985729)...\n",
      "Testing q = (766763.0224548833, 1646890.2957389615, 1427003.449221035, 2375236.7044423344)...\n",
      "Done!\n"
     ]
    }
   ],
   "source": [
    "input_file = '{}/test_query_verification/crash_data_{}.csv'.format(base_dir, m)\n",
    "output_file = '{}/test_query_verification/test_fraction.csv'.format(base_dir)\n",
    "test_df = pd.read_csv(input_file)\n",
    "\n",
    "f = open(output_file, 'w')\n",
    "f.write('fraction,returned,matching,avg_query,avg_verif\\n')\n",
    "\n",
    "os.chdir(exec_dir)\n",
    "\n",
    "for qid in query_ids:\n",
    "    query = query_df.loc[qid]\n",
    "    q = (query.lx, query.ly, query.ux, query.uy)\n",
    "    # Run the C++ implementation.\n",
    "    print('Testing q = {}...'.format(to_string(q)))\n",
    "    avg_query, avg_verif, returned_rec, matching_rec = 0, 0, 0, 0\n",
    "    for i in range(0, n_trials):\n",
    "        params = ['./TestQuery', input_file, str(c), str(q[0]), str(q[1]), str(q[2]), str(q[3])]\n",
    "        p = subprocess.run(params, capture_output=True, check=True)\n",
    "        lines = p.stdout.decode('utf-8').splitlines()\n",
    "        returned_rec += int((lines[2].split(':'))[1])\n",
    "        matching_rec += int((lines[3].split(':'))[1])\n",
    "        avg_query += int((lines[4].split(':'))[1])\n",
    "        avg_verif += int((lines[5].split(':'))[1])\n",
    "    returned_rec /= n_trials \n",
    "    matching_rec /= n_trials\n",
    "    avg_query /= n_trials\n",
    "    avg_verif /= n_trials\n",
    "    f.write('{},{},{},{},{}\\n'.format(query.fraction,returned_rec,matching_rec,avg_query,avg_verif))\n",
    "\n",
    "f.close()\n",
    "\n",
    "os.chdir(base_dir)\n",
    "print('Done!')"
   ]
  },
  {
   "cell_type": "code",
   "execution_count": 26,
   "id": "61e15e1d",
   "metadata": {},
   "outputs": [
    {
     "name": "stdout",
     "output_type": "stream",
     "text": [
      "\\begin{tabular}{rrrrr}\n",
      "\\toprule\n",
      " fraction &  returned &  matching &  avg\\_query &  avg\\_verif \\\\\n",
      "\\midrule\n",
      "  0.10296 &      5600 &      5148 &      0.625 &      6.790 \\\\\n",
      "  0.20120 &     47600 &     10060 &      5.340 &     34.176 \\\\\n",
      "  0.30520 &     16400 &     15260 &      1.851 &     21.238 \\\\\n",
      "  0.41442 &     48400 &     20721 &      5.725 &     43.994 \\\\\n",
      "  0.50042 &     46000 &     25021 &      5.301 &     47.124 \\\\\n",
      "  0.61756 &     47200 &     30878 &      5.684 &     52.796 \\\\\n",
      "  0.70100 &     48400 &     35050 &      5.572 &     58.478 \\\\\n",
      "  0.80042 &     50000 &     40021 &      5.524 &     62.722 \\\\\n",
      "  0.90000 &     48400 &     45000 &      5.326 &     66.519 \\\\\n",
      "\\bottomrule\n",
      "\\end{tabular}\n",
      "\n"
     ]
    }
   ],
   "source": [
    "df=pd.read_csv('./test_query_verification/test_fraction.csv')\n",
    "# Convert returned and matching columns to integer type.\n",
    "df = df.astype({'returned': int, 'matching': int})\n",
    "# Divide by 1000 to convert microseconds to milliseconds.\n",
    "df['avg_query'] /= 1000\n",
    "df['avg_verif'] /= 1000\n",
    "# Round the execution times to 3 decimal places.\n",
    "df = df.round({'avg_query': 3, 'avg_verif': 3})\n",
    "print(df.to_latex(index=False))"
   ]
  },
  {
   "cell_type": "code",
   "execution_count": null,
   "id": "34473629",
   "metadata": {},
   "outputs": [],
   "source": []
  },
  {
   "cell_type": "markdown",
   "id": "f087480d",
   "metadata": {},
   "source": [
    "# Low fractions (1%-9%)"
   ]
  },
  {
   "cell_type": "code",
   "execution_count": 10,
   "id": "181be5a6",
   "metadata": {},
   "outputs": [
    {
     "name": "stdout",
     "output_type": "stream",
     "text": [
      "Testing q = (942146.4828215725, 1601094.6764700513, 1186940.8920336757, 2002733.5569788069)...\n",
      "Testing q = (1195006.9123851154, 1822915.6191936345, 1334405.8580820167, 2327513.6636538645)...\n",
      "Testing q = (862069.3583306521, 1512952.002674613, 1258714.281072412, 2273237.600525875)...\n",
      "Testing q = (924247.7129558946, 1760586.635249185, 1474485.3012335233, 2304914.5786552755)...\n",
      "Testing q = (736030.4439881082, 1315892.1643492484, 1306169.1747889316, 2413979.3748069825)...\n",
      "Testing q = (1260005.0356259854, 1699595.5640831431, 1502337.8553615368, 1922775.105442376)...\n",
      "Testing q = (1344953.1781479376, 1608583.6269631651, 1495202.0046324665, 2632597.7046906888)...\n",
      "Testing q = (667993.7867674043, 1696273.7010104558, 1462892.0594907994, 1814201.717823445)...\n",
      "Testing q = (971084.5911677694, 1698628.0895208037, 1469963.2430290284, 2498029.334852431)...\n",
      "Done!\n"
     ]
    }
   ],
   "source": [
    "m=50000\n",
    "c=20\n",
    "n_trials=20\n",
    "\n",
    "query_df = pd.read_csv('./test_query_verification/queries.csv')\n",
    "query_ids = [8846, 557, 6001, 1746, 3456, 7561, 3818, 5366, 4192]\n",
    "input_file = '{}/test_query_verification/crash_data_{}.csv'.format(base_dir, m)\n",
    "output_file = '{}/test_query_verification/test_fraction_low.csv'.format(base_dir)\n",
    "test_df = pd.read_csv(input_file)\n",
    "\n",
    "f = open(output_file, 'w')\n",
    "f.write('fraction,returned,matching,avg_query,avg_verif\\n')\n",
    "\n",
    "os.chdir(exec_dir)\n",
    "\n",
    "for qid in query_ids:\n",
    "    query = query_df.loc[qid]\n",
    "    q = (query.lx, query.ly, query.ux, query.uy)\n",
    "    # Run the C++ implementation.\n",
    "    print('Testing q = {}...'.format(to_string(q)))\n",
    "    avg_query, avg_verif, returned_rec, matching_rec = 0, 0, 0, 0\n",
    "    for i in range(0, n_trials):\n",
    "        params = ['./TestQuery', input_file, str(c), str(q[0]), str(q[1]), str(q[2]), str(q[3])]\n",
    "        p = subprocess.run(params, capture_output=True, check=True)\n",
    "        lines = p.stdout.decode('utf-8').splitlines()\n",
    "        returned_rec += int((lines[2].split(':'))[1])\n",
    "        matching_rec += int((lines[3].split(':'))[1])\n",
    "        avg_query += int((lines[4].split(':'))[1])\n",
    "        avg_verif += int((lines[5].split(':'))[1])\n",
    "    returned_rec /= n_trials \n",
    "    matching_rec /= n_trials\n",
    "    avg_query /= n_trials\n",
    "    avg_verif /= n_trials\n",
    "    f.write('{},{},{},{},{}\\n'.format(query.fraction,returned_rec,matching_rec,avg_query,avg_verif))\n",
    "\n",
    "f.close()\n",
    "\n",
    "os.chdir(base_dir)\n",
    "print('Done!')"
   ]
  },
  {
   "cell_type": "code",
   "execution_count": 27,
   "id": "ec5bb567",
   "metadata": {},
   "outputs": [
    {
     "name": "stdout",
     "output_type": "stream",
     "text": [
      "\\begin{tabular}{rrrrr}\n",
      "\\toprule\n",
      " fraction &  returned &  matching &  avg\\_query &  avg\\_verif \\\\\n",
      "\\midrule\n",
      "  0.01002 &      1200 &       501 &      0.145 &      1.089 \\\\\n",
      "  0.02014 &     17200 &      1007 &      1.937 &     10.078 \\\\\n",
      "  0.03008 &      2000 &      1504 &      0.247 &      2.272 \\\\\n",
      "  0.04006 &     37200 &      2003 &      4.423 &     21.551 \\\\\n",
      "  0.05022 &      2800 &      2511 &      0.310 &      3.145 \\\\\n",
      "  0.06002 &     44800 &      3001 &      5.235 &     26.533 \\\\\n",
      "  0.07040 &      4400 &      3520 &      0.471 &      4.682 \\\\\n",
      "  0.08042 &     46800 &      4021 &      5.206 &     28.381 \\\\\n",
      "  0.09028 &     46000 &      4514 &      5.528 &     28.602 \\\\\n",
      "\\bottomrule\n",
      "\\end{tabular}\n",
      "\n"
     ]
    }
   ],
   "source": [
    "df=pd.read_csv('./test_query_verification/test_fraction_low.csv')\n",
    "# Convert returned and matching columns to integer type.\n",
    "df = df.astype({'returned': int, 'matching': int})\n",
    "# Divide by 1000 to convert microseconds to milliseconds.\n",
    "df['avg_query'] /= 1000\n",
    "df['avg_verif'] /= 1000\n",
    "# Round the execution times to 3 decimal places.\n",
    "df = df.round({'avg_query': 3, 'avg_verif': 3})\n",
    "print(df.to_latex(index=False))"
   ]
  },
  {
   "cell_type": "markdown",
   "id": "ecbd327f",
   "metadata": {},
   "source": [
    "# Capacity\n",
    "\n",
    "Our second analysis was aimed at studying \n",
    "how the page capacity impacts on the execution times\n",
    "of query and verification algorithms. \n",
    "For this reason, we chose a data set with \n",
    "$m = 2 \\times 10^4$ records, a query $Q$\n",
    "with a fraction $f_Q = 20\\%$ and then constructed\n",
    "several MR-trees with different page capacities.\n",
    "For each tree, we executed the query and verification\n",
    "algorithms 20 times and computed an average of\n",
    "their running times. "
   ]
  },
  {
   "cell_type": "raw",
   "id": "76fede20",
   "metadata": {},
   "source": [
    "test_df = pd.read_csv('./test_query_verification/crash_data_20000.csv')\n",
    "query_file = './test_query_verification/queries_capacity.csv'\n",
    "test_mbr = bounding_rect(test_df)\n",
    "n_queries = 10000\n",
    "n_records = len(test_df)\n",
    "\n",
    "f = open(query_file, 'w')\n",
    "f.write('lx,ly,ux,uy,matching,fraction\\n')\n",
    "\n",
    "for i in range(0, n_queries):\n",
    "    rq = random_rect(test_mbr[0], test_mbr[1], test_mbr[2], test_mbr[3]) \n",
    "    result = range_query(test_df, rq[0], rq[1], rq[2], rq[3])\n",
    "    matching = len(result)\n",
    "    fraction = matching/n_records\n",
    "    f.write('{},{},{},{},{},{}\\n'.format(rq[0],rq[1],rq[2],rq[3],matching,fraction))\n",
    "    \n",
    "f.close()\n",
    "    \n",
    "print('Done!')"
   ]
  },
  {
   "cell_type": "raw",
   "id": "a52c437a",
   "metadata": {},
   "source": [
    "query_df = pd.read_csv('./test_query_verification/queries_capacity.csv')\n",
    "print_fraction(query_df, 0.2, 0.3)"
   ]
  },
  {
   "cell_type": "code",
   "execution_count": 11,
   "id": "91efba5c",
   "metadata": {},
   "outputs": [
    {
     "name": "stdout",
     "output_type": "stream",
     "text": [
      "Testing capacity = 5...\n",
      "Testing capacity = 10...\n",
      "Testing capacity = 20...\n",
      "Testing capacity = 30...\n",
      "Testing capacity = 40...\n",
      "Testing capacity = 50...\n",
      "Testing capacity = 60...\n",
      "Testing capacity = 70...\n",
      "Testing capacity = 80...\n",
      "Testing capacity = 90...\n",
      "Testing capacity = 100...\n",
      "Testing capacity = 250...\n",
      "Testing capacity = 500...\n",
      "Testing capacity = 750...\n",
      "Testing capacity = 1000...\n",
      "Done!\n"
     ]
    }
   ],
   "source": [
    "m=20000\n",
    "capacities=[5, 10, 20, 30, 40, 50, 60, 70, 80, 90, 100, 250, 500, 750, 1000]\n",
    "n_trials=20\n",
    "input_file = '{}/test_query_verification/crash_data_{}.csv'.format(base_dir, m)\n",
    "output_file = '{}/test_query_verification/test_capacity.csv'.format(base_dir)\n",
    "test_df = pd.read_csv(input_file)\n",
    "query_df = pd.read_csv('./test_query_verification/queries_capacity.csv')\n",
    "query_id = 4859\n",
    "q = query_df.loc[4859]\n",
    "\n",
    "f = open(output_file, 'w')\n",
    "f.write('capacity,returned,matching,avg_query,avg_verif\\n')\n",
    "\n",
    "os.chdir(exec_dir)\n",
    "\n",
    "for c in capacities:\n",
    "    # Run the C++ implementation.\n",
    "    print('Testing capacity = {}...'.format(c))\n",
    "    avg_query, avg_verif, returned_rec, matching_rec = 0, 0, 0, 0\n",
    "    for i in range(0, n_trials):\n",
    "        params = ['./TestQuery', input_file, str(c), str(q.lx), str(q.ly), str(q.ux), str(q.uy)]\n",
    "        p = subprocess.run(params, capture_output=True, check=True)\n",
    "        lines = p.stdout.decode('utf-8').splitlines()\n",
    "        returned_rec += int((lines[2].split(':'))[1])\n",
    "        matching_rec += int((lines[3].split(':'))[1])\n",
    "        avg_query += int((lines[4].split(':'))[1])\n",
    "        avg_verif += int((lines[5].split(':'))[1])\n",
    "    returned_rec /= n_trials \n",
    "    matching_rec /= n_trials\n",
    "    avg_query /= n_trials\n",
    "    avg_verif /= n_trials\n",
    "    f.write('{},{},{},{},{}\\n'.format(c,returned_rec,matching_rec,avg_query,avg_verif))\n",
    "\n",
    "f.close()\n",
    "\n",
    "os.chdir(base_dir)\n",
    "print('Done!')"
   ]
  },
  {
   "cell_type": "code",
   "execution_count": 14,
   "id": "4e0cac91",
   "metadata": {},
   "outputs": [
    {
     "name": "stdout",
     "output_type": "stream",
     "text": [
      "\\begin{tabular}{rrrrr}\n",
      "\\toprule\n",
      " capacity &  returned &  matching &  avg\\_query &  avg\\_verif \\\\\n",
      "\\midrule\n",
      "        5 &      4175 &      4120 &      0.755 &     10.075 \\\\\n",
      "       10 &      4300 &      4120 &      0.469 &      6.412 \\\\\n",
      "       20 &      4800 &      4120 &      0.404 &      5.411 \\\\\n",
      "       30 &      5400 &      4120 &      0.386 &      4.625 \\\\\n",
      "       40 &      4800 &      4120 &      0.296 &      4.240 \\\\\n",
      "       50 &      7500 &      4120 &      0.482 &      5.124 \\\\\n",
      "       60 &      5600 &      4120 &      0.368 &      4.180 \\\\\n",
      "       70 &      4900 &      4120 &      0.305 &      3.732 \\\\\n",
      "       80 &      6400 &      4120 &      0.427 &      4.382 \\\\\n",
      "       90 &     11900 &      4120 &      0.732 &      6.818 \\\\\n",
      "      100 &     10000 &      4120 &      0.731 &      5.728 \\\\\n",
      "      250 &     20000 &      4120 &      1.314 &      9.026 \\\\\n",
      "      500 &     20000 &      4120 &      1.790 &      9.496 \\\\\n",
      "      750 &     20000 &      4120 &      1.566 &      9.597 \\\\\n",
      "     1000 &     20000 &      4120 &      1.633 &      9.776 \\\\\n",
      "\\bottomrule\n",
      "\\end{tabular}\n",
      "\n"
     ]
    }
   ],
   "source": [
    "df=pd.read_csv('./test_query_verification/test_capacity.csv')\n",
    "# Convert returned and matching columns to integer type.\n",
    "df = df.astype({'returned': int, 'matching': int})\n",
    "# Divide by 1000 to convert microseconds to milliseconds.\n",
    "df['avg_query'] /= 1000\n",
    "df['avg_verif'] /= 1000\n",
    "# Round the execution times to 3 decimal places.\n",
    "df = df.round({'avg_query': 3, 'avg_verif': 3})\n",
    "print(df.to_latex(index=False))"
   ]
  },
  {
   "cell_type": "code",
   "execution_count": 22,
   "id": "c3185e88",
   "metadata": {},
   "outputs": [
    {
     "name": "stderr",
     "output_type": "stream",
     "text": [
      "The PostScript backend does not support transparency; partially transparent artists will be rendered opaque.\n",
      "The PostScript backend does not support transparency; partially transparent artists will be rendered opaque.\n"
     ]
    },
    {
     "data": {
      "image/png": "[encoded data removed]",
      "text/plain": [
       "<Figure size 360x360 with 1 Axes>"
      ]
     },
     "metadata": {
      "needs_background": "light"
     },
     "output_type": "display_data"
    }
   ],
   "source": [
    "plt.figure(figsize=(5, 5))\n",
    "plt.title(\"MR-tree query and verification time (m = 2×10⁵, f ≈ 20%)\")\n",
    "plt.xticks(df['capacity'])\n",
    "plt.xscale('log')\n",
    "plt.plot(df['capacity'], df['avg_query'], marker='o', color='black', label='Avg. query')\n",
    "plt.plot(df['capacity'], df['avg_verif'], marker='o', color='grey', label='Avg. verif.')\n",
    "#plt.axvline(75, 0, 1, color='gray', linestyle='--')\n",
    "plt.ylabel(\"Time [ms]\")\n",
    "plt.xlabel(\"Page capacity (c)\")\n",
    "plt.legend()\n",
    "plt.savefig(\"test_query_verification/test-capacity.eps\", format='eps', bbox_inches='tight')"
   ]
  },
  {
   "cell_type": "code",
   "execution_count": null,
   "id": "5c0b387d",
   "metadata": {},
   "outputs": [],
   "source": []
  }
 ],
 "metadata": {
  "kernelspec": {
   "display_name": "Python 3",
   "language": "python",
   "name": "python3"
  },
  "language_info": {
   "codemirror_mode": {
    "name": "ipython",
    "version": 3
   },
   "file_extension": ".py",
   "mimetype": "text/x-python",
   "name": "python",
   "nbconvert_exporter": "python",
   "pygments_lexer": "ipython3",
   "version": "3.8.2"
  }
 },
 "nbformat": 4,
 "nbformat_minor": 5
}
