{
 "cells": [
  {
   "cell_type": "code",
   "execution_count": 1,
   "id": "4349209e",
   "metadata": {},
   "outputs": [],
   "source": [
    "import pandas as pd\n",
    "import numpy as np\n",
    "import math\n",
    "import matplotlib.pyplot as plt\n",
    "import os\n",
    "import random\n",
    "import struct\n",
    "import subprocess\n",
    "import sys\n",
    "from matplotlib.patches import Rectangle"
   ]
  },
  {
   "cell_type": "code",
   "execution_count": 2,
   "id": "c7de77b3",
   "metadata": {},
   "outputs": [],
   "source": [
    "base_dir = os.getcwd()\n",
    "exec_dir = '..'"
   ]
  },
  {
   "cell_type": "code",
   "execution_count": 3,
   "id": "64ea4bc5",
   "metadata": {},
   "outputs": [],
   "source": [
    "# Returns all records whose location is in the given range.\n",
    "def range_query(df, lx, ly, ux, uy):\n",
    "    return (df[(df.x >= lx) & (df.x <= ux) & (df.y >= ly) & (df.y <= uy)])\n",
    "\n",
    "# Returns the bounding rectangle of a Pandas dataframe.\n",
    "def bounding_rect(df):\n",
    "    return (np.min(df['x']), np.min(df['y']), np.max(df['x']), np.max(df['y']))\n",
    "\n",
    "# Generates a random rectangle inside the given interval.\n",
    "def random_rect(lx, ly, ux, uy):\n",
    "    # Generate a random lower-left vertex.\n",
    "    px = np.random.randint(lx, ux+1)\n",
    "    py = np.random.randint(ly, uy+1)\n",
    "    width = np.random.randint(0, ux-px+1)\n",
    "    height = np.random.randint(0, uy-py+1)\n",
    "    return (px, py, px+width, py+height)\n",
    "\n",
    "def to_string(rect):\n",
    "    return '({}, {}, {}, {})'.format(rect[0],rect[1],rect[2],rect[3])\n",
    "\n",
    "def queries_with_fraction(df, fmin, fmax):\n",
    "    return (df[(df.fraction >= fmin) & (df.fraction <= fmax)]).sort_values('fraction')"
   ]
  },
  {
   "cell_type": "code",
   "execution_count": 4,
   "id": "9eab531e",
   "metadata": {
    "scrolled": true
   },
   "outputs": [
    {
     "data": {
      "text/html": [
       "<div>\n",
       "<style scoped>\n",
       "    .dataframe tbody tr th:only-of-type {\n",
       "        vertical-align: middle;\n",
       "    }\n",
       "\n",
       "    .dataframe tbody tr th {\n",
       "        vertical-align: top;\n",
       "    }\n",
       "\n",
       "    .dataframe thead th {\n",
       "        text-align: right;\n",
       "    }\n",
       "</style>\n",
       "<table border=\"1\" class=\"dataframe\">\n",
       "  <thead>\n",
       "    <tr style=\"text-align: right;\">\n",
       "      <th></th>\n",
       "      <th>ID</th>\n",
       "      <th>Year</th>\n",
       "      <th>Month</th>\n",
       "      <th>Day</th>\n",
       "      <th>Time</th>\n",
       "      <th>x</th>\n",
       "      <th>y</th>\n",
       "    </tr>\n",
       "  </thead>\n",
       "  <tbody>\n",
       "    <tr>\n",
       "      <th>0</th>\n",
       "      <td>2012-1-27/05/2021</td>\n",
       "      <td>2012</td>\n",
       "      <td>January</td>\n",
       "      <td>Sunday</td>\n",
       "      <td>04:30 pm</td>\n",
       "      <td>133065971</td>\n",
       "      <td>167179587</td>\n",
       "    </tr>\n",
       "    <tr>\n",
       "      <th>1</th>\n",
       "      <td>2012-2-27/05/2021</td>\n",
       "      <td>2012</td>\n",
       "      <td>January</td>\n",
       "      <td>Sunday</td>\n",
       "      <td>09:10 am</td>\n",
       "      <td>132940015</td>\n",
       "      <td>166846266</td>\n",
       "    </tr>\n",
       "    <tr>\n",
       "      <th>2</th>\n",
       "      <td>2012-3-27/05/2021</td>\n",
       "      <td>2012</td>\n",
       "      <td>January</td>\n",
       "      <td>Wednesday</td>\n",
       "      <td>11:30 am</td>\n",
       "      <td>131374822</td>\n",
       "      <td>162424128</td>\n",
       "    </tr>\n",
       "    <tr>\n",
       "      <th>3</th>\n",
       "      <td>2012-4-27/05/2021</td>\n",
       "      <td>2012</td>\n",
       "      <td>January</td>\n",
       "      <td>Wednesday</td>\n",
       "      <td>10:20 am</td>\n",
       "      <td>132532677</td>\n",
       "      <td>167242555</td>\n",
       "    </tr>\n",
       "    <tr>\n",
       "      <th>4</th>\n",
       "      <td>2012-5-27/05/2021</td>\n",
       "      <td>2012</td>\n",
       "      <td>January</td>\n",
       "      <td>Wednesday</td>\n",
       "      <td>03:30 pm</td>\n",
       "      <td>132605645</td>\n",
       "      <td>167302842</td>\n",
       "    </tr>\n",
       "  </tbody>\n",
       "</table>\n",
       "</div>"
      ],
      "text/plain": [
       "                  ID  Year    Month        Day      Time          x          y\n",
       "0  2012-1-27/05/2021  2012  January     Sunday  04:30 pm  133065971  167179587\n",
       "1  2012-2-27/05/2021  2012  January     Sunday  09:10 am  132940015  166846266\n",
       "2  2012-3-27/05/2021  2012  January  Wednesday  11:30 am  131374822  162424128\n",
       "3  2012-4-27/05/2021  2012  January  Wednesday  10:20 am  132532677  167242555\n",
       "4  2012-5-27/05/2021  2012  January  Wednesday  03:30 pm  132605645  167302842"
      ]
     },
     "execution_count": 4,
     "metadata": {},
     "output_type": "execute_result"
    }
   ],
   "source": [
    "df = pd.read_csv('data/crash_data.csv')\n",
    "df.head()"
   ]
  },
  {
   "cell_type": "code",
   "execution_count": 5,
   "id": "69b744af",
   "metadata": {},
   "outputs": [
    {
     "data": {
      "text/plain": [
       "<matplotlib.patches.Rectangle at 0x11ca48a00>"
      ]
     },
     "execution_count": 5,
     "metadata": {},
     "output_type": "execute_result"
    },
    {
     "data": {
      "image/png": "[encoded data removed]",
      "text/plain": [
       "<Figure size 432x288 with 1 Axes>"
      ]
     },
     "metadata": {
      "needs_background": "light"
     },
     "output_type": "display_data"
    }
   ],
   "source": [
    "r = bounding_rect(df)\n",
    "q = random_rect(r[0],r[1],r[2],r[3])\n",
    "plt.scatter(df.x, df.y)\n",
    "plt.gca().add_patch(Rectangle((r[0], r[1]), r[2]-r[0], r[3]-r[1], fill=None, alpha=1))\n",
    "plt.gca().add_patch(Rectangle((q[0], q[1]), q[2]-q[0], q[3]-q[1], fill=None, alpha=1))"
   ]
  },
  {
   "cell_type": "markdown",
   "id": "91f04655",
   "metadata": {},
   "source": [
    "# Query generation\n",
    "\n",
    "We construct a data set of $10^6$ random queries on the data set with $m=30000$ points.\n",
    "\n",
    "For each query, we measure the number of records that satisfy it.\n",
    "\n",
    "This is done by means of our <code>QueryGenerator</code> C++ program."
   ]
  },
  {
   "cell_type": "code",
   "execution_count": 6,
   "id": "1b2f3c72",
   "metadata": {},
   "outputs": [
    {
     "name": "stdout",
     "output_type": "stream",
     "text": [
      "Done!\n"
     ]
    }
   ],
   "source": [
    "m = 30000\n",
    "data_file = 'data/crash_data_{}.csv'.format(m)\n",
    "query_file = 'data/random_queries.csv'\n",
    "n_queries = 1000000\n",
    "params = ['../QueryGenerator', data_file, query_file, str(n_queries)]\n",
    "p = subprocess.run(params, capture_output=True, check=True)\n",
    "print('Done!')"
   ]
  },
  {
   "cell_type": "markdown",
   "id": "96117b39",
   "metadata": {},
   "source": [
    "Then we consider fractions from 10% to 90%. For each fraction we select 50 queries with that fraction and create separate data sets."
   ]
  },
  {
   "cell_type": "code",
   "execution_count": 7,
   "id": "f638ab54",
   "metadata": {
    "scrolled": false
   },
   "outputs": [
    {
     "name": "stdout",
     "output_type": "stream",
     "text": [
      "Fraction: 10%\tQueries: 1772\n",
      "Fraction: 20%\tQueries: 699\n",
      "Fraction: 30%\tQueries: 497\n",
      "Fraction: 40%\tQueries: 394\n",
      "Fraction: 50%\tQueries: 318\n",
      "Fraction: 60%\tQueries: 410\n",
      "Fraction: 70%\tQueries: 558\n",
      "Fraction: 80%\tQueries: 939\n",
      "Fraction: 90%\tQueries: 8168\n"
     ]
    }
   ],
   "source": [
    "query_file = 'data/random_queries.csv'\n",
    "query_df = pd.read_csv(query_file)\n",
    "for i in range(1, 10):\n",
    "    size = len(queries_with_fraction(query_df, i/10-0.01, i/10+0.01))\n",
    "    print('Fraction: {}%\\tQueries: {}'.format(i*10, size))"
   ]
  },
  {
   "cell_type": "code",
   "execution_count": 8,
   "id": "fec59992",
   "metadata": {},
   "outputs": [
    {
     "name": "stdout",
     "output_type": "stream",
     "text": [
      "Done!\n"
     ]
    }
   ],
   "source": [
    "sampled_queries_per_fraction = 100\n",
    "for i in range(1, 10):\n",
    "    q_part = queries_with_fraction(query_df, i/10-0.01, i/10+0.01)\n",
    "    q_part = q_part.sample(n=sampled_queries_per_fraction)\n",
    "    q_part.to_csv('data/random_queries_{}.csv'.format(i*10), index=False)\n",
    "print('Done!')"
   ]
  },
  {
   "cell_type": "markdown",
   "id": "7ee847f8",
   "metadata": {},
   "source": [
    "# Fraction of records (10%-90%)"
   ]
  },
  {
   "cell_type": "code",
   "execution_count": 16,
   "id": "91e6eab0",
   "metadata": {},
   "outputs": [],
   "source": [
    "m=30000\n",
    "c=16\n",
    "input_file = '{}/data/crash_data_{}.csv'.format(base_dir, m)\n",
    "output_file = '{}/test_query_verification/test_fraction.csv'.format(base_dir)"
   ]
  },
  {
   "cell_type": "code",
   "execution_count": 17,
   "id": "2e544b4a",
   "metadata": {},
   "outputs": [
    {
     "name": "stdout",
     "output_type": "stream",
     "text": [
      "Testing fraction = 10%...\n",
      "Testing fraction = 20%...\n",
      "Testing fraction = 30%...\n",
      "Testing fraction = 40%...\n",
      "Testing fraction = 50%...\n",
      "Testing fraction = 60%...\n",
      "Testing fraction = 70%...\n",
      "Testing fraction = 80%...\n",
      "Testing fraction = 90%...\n",
      "Done!\n"
     ]
    }
   ],
   "source": [
    "f = open(output_file, 'w')\n",
    "f.write('fraction,avg_returned,avg_matching,avg_query,avg_verif\\n')\n",
    "\n",
    "os.chdir(exec_dir)\n",
    "\n",
    "for i in range(1, 10):\n",
    "    print('Testing fraction = {}%...'.format(i*10))\n",
    "    query_file = '{}/data/random_queries_{}.csv'.format(base_dir, i*10)\n",
    "    params = ['./TestQuery', input_file, query_file, str(c)]\n",
    "    p = subprocess.run(params, capture_output=True, check=True)\n",
    "    lines = p.stdout.decode('utf-8').splitlines()\n",
    "    avg_retur = int((lines[1].split(':'))[1])\n",
    "    avg_match = int((lines[2].split(':'))[1])\n",
    "    avg_query = int((lines[3].split(':'))[1])\n",
    "    avg_verif = int((lines[4].split(':'))[1])\n",
    "    f.write('{},{},{},{},{}\\n'.format(i*10,avg_retur,avg_match,avg_query,avg_verif))\n",
    "    \n",
    "f.close()\n",
    "\n",
    "os.chdir(base_dir)\n",
    "print('Done!')"
   ]
  },
  {
   "cell_type": "code",
   "execution_count": 18,
   "id": "61e15e1d",
   "metadata": {
    "scrolled": true
   },
   "outputs": [
    {
     "name": "stdout",
     "output_type": "stream",
     "text": [
      "\\begin{tabular}{lrrrrr}\n",
      "\\toprule\n",
      "fraction &  avg\\_returned &  avg\\_matching &  noise &  avg\\_query &  avg\\_verif \\\\\n",
      "\\midrule\n",
      "      10 &         11673 &          3006 &  0.742 &      1.669 &      8.565 \\\\\n",
      "      20 &         16003 &          5970 &  0.627 &      2.228 &     13.280 \\\\\n",
      "      30 &         15659 &          8982 &  0.426 &      2.255 &     15.355 \\\\\n",
      "      40 &         17092 &         12009 &  0.297 &      2.429 &     18.245 \\\\\n",
      "      50 &         21049 &         15007 &  0.287 &      3.015 &     22.842 \\\\\n",
      "      60 &         21740 &         18011 &  0.172 &      3.155 &     25.368 \\\\\n",
      "      70 &         24143 &         21000 &  0.130 &      3.477 &     28.940 \\\\\n",
      "      80 &         26441 &         23997 &  0.092 &      3.801 &     32.270 \\\\\n",
      "      90 &         27853 &         27072 &  0.028 &      4.026 &     35.030 \\\\\n",
      "\\bottomrule\n",
      "\\end{tabular}\n",
      "\n"
     ]
    }
   ],
   "source": [
    "df=pd.read_csv('test_query_verification/test_fraction.csv')\n",
    "# Convert returned and matching columns to integer type.\n",
    "df = df.astype({'fraction':str, 'avg_returned': int, 'avg_matching': int})\n",
    "df['noise'] = 1-(df['avg_matching']/df['avg_returned'])\n",
    "#df['noise'] = (df['avg_returned']-df['avg_matching'])/(df['avg_returned']-2*df['avg_matching']+30000)\n",
    "# Divide by 1000 to convert microseconds to milliseconds.\n",
    "df['avg_query'] /= 1000\n",
    "df['avg_verif'] /= 1000\n",
    "# Round the execution times to 3 decimal places.\n",
    "df = df.round({'noise':3, 'avg_query': 3, 'avg_verif': 3})\n",
    "# Reorder columns.\n",
    "df = df[['fraction','avg_returned','avg_matching','noise','avg_query','avg_verif']]\n",
    "print(df.to_latex(index=False))"
   ]
  },
  {
   "cell_type": "markdown",
   "id": "f087480d",
   "metadata": {},
   "source": [
    "# Low fractions (1%-9%)"
   ]
  },
  {
   "cell_type": "markdown",
   "id": "758cc2e8",
   "metadata": {},
   "source": [
    "Let's see how many queries we can select for each fraction from 1% to 9%."
   ]
  },
  {
   "cell_type": "code",
   "execution_count": 19,
   "id": "2c18cd8c",
   "metadata": {},
   "outputs": [
    {
     "name": "stdout",
     "output_type": "stream",
     "text": [
      "Fraction: 1%\tQueries: 15475\n",
      "Fraction: 2%\tQueries: 5689\n",
      "Fraction: 3%\tQueries: 4492\n",
      "Fraction: 4%\tQueries: 2735\n",
      "Fraction: 5%\tQueries: 1336\n",
      "Fraction: 6%\tQueries: 457\n",
      "Fraction: 7%\tQueries: 323\n",
      "Fraction: 8%\tQueries: 274\n",
      "Fraction: 9%\tQueries: 187\n"
     ]
    }
   ],
   "source": [
    "query_df = pd.read_csv('data/random_queries.csv')\n",
    "for i in range(1, 10):\n",
    "    size = len(queries_with_fraction(query_df, i/100-0.001, i/100+0.001))\n",
    "    print('Fraction: {}%\\tQueries: {}'.format(i, size))"
   ]
  },
  {
   "cell_type": "markdown",
   "id": "4617b34f",
   "metadata": {},
   "source": [
    "From these results, we see that we can select once again 100 queries for each fraction."
   ]
  },
  {
   "cell_type": "code",
   "execution_count": 13,
   "id": "cd9610af",
   "metadata": {},
   "outputs": [
    {
     "name": "stdout",
     "output_type": "stream",
     "text": [
      "Done!\n"
     ]
    }
   ],
   "source": [
    "sampled_queries_per_fraction = 100\n",
    "query_df = pd.read_csv('data/random_queries.csv')\n",
    "for i in range(1, 10):\n",
    "    q_part = queries_with_fraction(query_df, i/100-0.001, i/100+0.001)\n",
    "    q_part = q_part.sample(n=sampled_queries_per_fraction)\n",
    "    q_part.to_csv('data/random_queries_{}.csv'.format(i), index=False)\n",
    "print('Done!')"
   ]
  },
  {
   "cell_type": "markdown",
   "id": "831371ef",
   "metadata": {},
   "source": [
    "Then we can run our simulation."
   ]
  },
  {
   "cell_type": "code",
   "execution_count": 10,
   "id": "c6671059",
   "metadata": {},
   "outputs": [],
   "source": [
    "m=30000\n",
    "c=16\n",
    "input_file = '{}/data/crash_data_{}.csv'.format(base_dir, m)\n",
    "output_file = '{}/test_query_verification/test_fraction_low.csv'.format(base_dir)"
   ]
  },
  {
   "cell_type": "code",
   "execution_count": 13,
   "id": "181be5a6",
   "metadata": {},
   "outputs": [
    {
     "name": "stdout",
     "output_type": "stream",
     "text": [
      "Testing fraction = 1%...\n",
      "Testing fraction = 2%...\n",
      "Testing fraction = 3%...\n",
      "Testing fraction = 4%...\n",
      "Testing fraction = 5%...\n",
      "Testing fraction = 6%...\n",
      "Testing fraction = 7%...\n",
      "Testing fraction = 8%...\n",
      "Testing fraction = 9%...\n",
      "Done!\n"
     ]
    }
   ],
   "source": [
    "f = open(output_file, 'w')\n",
    "f.write('fraction,avg_returned,avg_matching,avg_query,avg_verif\\n')\n",
    "\n",
    "os.chdir(exec_dir)\n",
    "\n",
    "for i in range(1, 10):\n",
    "    print('Testing fraction = {}%...'.format(i))\n",
    "    query_file = '{}/data/random_queries_{}.csv'.format(base_dir, i)\n",
    "    params = ['./TestQuery', input_file, query_file, str(c)]\n",
    "    p = subprocess.run(params, capture_output=True, check=True)\n",
    "    lines = p.stdout.decode('utf-8').splitlines()\n",
    "    avg_retur = int((lines[1].split(':'))[1])\n",
    "    avg_match = int((lines[2].split(':'))[1])\n",
    "    avg_query = int((lines[3].split(':'))[1])\n",
    "    avg_verif = int((lines[4].split(':'))[1])\n",
    "    f.write('{},{},{},{},{}\\n'.format(i,avg_retur,avg_match,avg_query,avg_verif))\n",
    "    \n",
    "f.close()\n",
    "\n",
    "os.chdir(base_dir)\n",
    "print('Done!')"
   ]
  },
  {
   "cell_type": "code",
   "execution_count": 14,
   "id": "ec5bb567",
   "metadata": {
    "scrolled": true
   },
   "outputs": [
    {
     "name": "stdout",
     "output_type": "stream",
     "text": [
      "\\begin{tabular}{lrrrrr}\n",
      "\\toprule\n",
      "fraction &  avg\\_returned &  avg\\_matching &  noise &  avg\\_query &  avg\\_verif \\\\\n",
      "\\midrule\n",
      "      1\\% &          1902 &           299 &  0.843 &      0.231 &      1.264 \\\\\n",
      "      2\\% &          1979 &           598 &  0.698 &      0.279 &      1.676 \\\\\n",
      "      3\\% &          2519 &           897 &  0.644 &      0.354 &      2.154 \\\\\n",
      "      4\\% &          2648 &          1201 &  0.546 &      0.365 &      2.401 \\\\\n",
      "      5\\% &          3256 &          1499 &  0.540 &      0.459 &      2.993 \\\\\n",
      "      6\\% &          3943 &          1800 &  0.543 &      0.553 &      3.489 \\\\\n",
      "      7\\% &          4293 &          2101 &  0.511 &      0.603 &      3.928 \\\\\n",
      "      8\\% &          4467 &          2400 &  0.463 &      0.644 &      4.246 \\\\\n",
      "      9\\% &          5391 &          2699 &  0.499 &      0.782 &      4.909 \\\\\n",
      "\\bottomrule\n",
      "\\end{tabular}\n",
      "\n"
     ]
    }
   ],
   "source": [
    "df=pd.read_csv('test_query_verification/test_fraction_low.csv')\n",
    "# Convert returned and matching columns to integer type.\n",
    "df = df.astype({'fraction': str, 'avg_returned': int, 'avg_matching': int})\n",
    "# Add % to fraction column.\n",
    "df['fraction'] = df['fraction'] + '%'\n",
    "# Compute noise.\n",
    "#df['noise'] = (df['avg_returned']-df['avg_matching'])/(df['avg_returned']-2*df['avg_matching']+30000)\n",
    "df['noise'] = 1-(df['avg_matching']/df['avg_returned'])\n",
    "# Divide by 1000 to convert microseconds to milliseconds.\n",
    "df['avg_query'] /= 1000\n",
    "df['avg_verif'] /= 1000\n",
    "# Round the execution times to 3 decimal places.\n",
    "df = df.round({'noise':3, 'avg_query': 3, 'avg_verif': 3})\n",
    "# Reorder columns.\n",
    "df = df[['fraction','avg_returned','avg_matching','noise','avg_query','avg_verif']]\n",
    "print(df.to_latex(index=False))"
   ]
  },
  {
   "cell_type": "markdown",
   "id": "ecbd327f",
   "metadata": {},
   "source": [
    "# Capacity\n",
    "\n",
    "Pick 500 queries with $f_Q \\approx 20\\%$. \n",
    "For each capacity value $c$ build a MR-tree on data set $\\mathcal{D}$.\n",
    "Then run Q and V on the 100 queries and compute an average."
   ]
  },
  {
   "cell_type": "code",
   "execution_count": 31,
   "id": "ed3d6dfc",
   "metadata": {},
   "outputs": [],
   "source": [
    "n_queries = 500\n",
    "fq = 0.2\n",
    "q_part = queries_with_fraction(query_df, fq-0.01, fq+0.01)\n",
    "q_part = q_part.sample(n=n_queries)\n",
    "q_part.to_csv('data/random_queries_test_capacity.csv'.format(i*10), index=False)"
   ]
  },
  {
   "cell_type": "code",
   "execution_count": 32,
   "id": "63d269e6",
   "metadata": {},
   "outputs": [
    {
     "name": "stdout",
     "output_type": "stream",
     "text": [
      "Testing capacity = 4...\n",
      "Testing capacity = 8...\n",
      "Testing capacity = 16...\n",
      "Testing capacity = 32...\n",
      "Testing capacity = 64...\n",
      "Testing capacity = 128...\n",
      "Testing capacity = 256...\n",
      "Testing capacity = 512...\n",
      "Testing capacity = 1024...\n",
      "Testing capacity = 2048...\n",
      "Done!\n"
     ]
    }
   ],
   "source": [
    "n_records = 30000\n",
    "query_file = 'test/data/random_queries_test_capacity.csv'\n",
    "input_file = 'test/data/crash_data_{}.csv'.format(n_records)\n",
    "output_file = 'test_query_verification/test_capacity.csv'\n",
    "capacities = [4, 8, 16, 32, 64, 128, 256, 512, 1024, 2048]\n",
    "\n",
    "f = open(output_file, 'w')\n",
    "f.write('capacity,avg_returned,avg_matching,avg_query,avg_verif\\n')\n",
    "\n",
    "os.chdir(exec_dir)\n",
    "\n",
    "for c in capacities:\n",
    "    # Run the C++ implementation.\n",
    "    print('Testing capacity = {}...'.format(c))\n",
    "    params = ['./TestQuery', input_file, query_file, str(c)]\n",
    "    p = subprocess.run(params, capture_output=True, check=True)\n",
    "    lines = p.stdout.decode('utf-8').splitlines()\n",
    "    avg_retur = int((lines[1].split(':'))[1])\n",
    "    avg_match = int((lines[2].split(':'))[1])\n",
    "    avg_query = int((lines[3].split(':'))[1])\n",
    "    avg_verif = int((lines[4].split(':'))[1])\n",
    "    f.write('{},{},{},{},{}\\n'.format(c,avg_retur,avg_match,avg_query,avg_verif))\n",
    "\n",
    "f.close()\n",
    "\n",
    "os.chdir(base_dir)\n",
    "print('Done!')"
   ]
  },
  {
   "cell_type": "code",
   "execution_count": 34,
   "id": "4e0cac91",
   "metadata": {
    "scrolled": true
   },
   "outputs": [
    {
     "name": "stdout",
     "output_type": "stream",
     "text": [
      "\\begin{tabular}{rrrrrr}\n",
      "\\toprule\n",
      " capacity &  avg\\_returned &  avg\\_matching &  noise &  avg\\_query &  avg\\_verif \\\\\n",
      "\\midrule\n",
      "        4 &         13835 &          5999 &  0.566 &      4.261 &     31.720 \\\\\n",
      "        8 &         17754 &          5999 &  0.662 &      3.312 &     21.083 \\\\\n",
      "       16 &         19532 &          5999 &  0.693 &      2.785 &     16.365 \\\\\n",
      "       32 &         20325 &          5999 &  0.705 &      2.593 &     13.357 \\\\\n",
      "       64 &         21204 &          5999 &  0.717 &      2.508 &     12.516 \\\\\n",
      "      128 &         24077 &          5999 &  0.751 &      2.919 &     12.775 \\\\\n",
      "      256 &         30000 &          5999 &  0.800 &      3.650 &     13.732 \\\\\n",
      "      512 &         30000 &          5999 &  0.800 &      3.901 &     13.674 \\\\\n",
      "     1024 &         30000 &          5999 &  0.800 &      3.782 &     13.615 \\\\\n",
      "     2048 &         30000 &          5999 &  0.800 &      3.759 &     13.639 \\\\\n",
      "\\bottomrule\n",
      "\\end{tabular}\n",
      "\n"
     ]
    }
   ],
   "source": [
    "df=pd.read_csv('test_query_verification/test_capacity.csv')\n",
    "# Convert returned and matching columns to integer type.\n",
    "df = df.astype({'avg_returned': int, 'avg_matching': int})\n",
    "# Divide by 1000 to convert microseconds to milliseconds.\n",
    "df['avg_query'] /= 1000\n",
    "df['avg_verif'] /= 1000\n",
    "# Compute noise.\n",
    "df['noise'] = 1-(df['avg_matching']/df['avg_returned'])\n",
    "# Round the execution times to 3 decimal places.\n",
    "df = df.round({'noise': 3, 'avg_query': 3, 'avg_verif': 3})\n",
    "df = df[['capacity','avg_returned','avg_matching','noise','avg_query','avg_verif']]\n",
    "print(df.to_latex(index=False))"
   ]
  },
  {
   "cell_type": "code",
   "execution_count": 39,
   "id": "ad3db988",
   "metadata": {},
   "outputs": [
    {
     "name": "stderr",
     "output_type": "stream",
     "text": [
      "The PostScript backend does not support transparency; partially transparent artists will be rendered opaque.\n",
      "The PostScript backend does not support transparency; partially transparent artists will be rendered opaque.\n"
     ]
    },
    {
     "data": {
      "image/png": "[encoded data removed]",
      "text/plain": [
       "<Figure size 360x360 with 1 Axes>"
      ]
     },
     "metadata": {
      "needs_background": "light"
     },
     "output_type": "display_data"
    }
   ],
   "source": [
    "plt.figure(figsize=(5, 5))\n",
    "plt.title(\"MR-tree query and verification time (m = 30000, f ≈ 20%)\")\n",
    "plt.xticks(df['capacity'])\n",
    "plt.xscale('log', base=2)\n",
    "plt.plot(df['capacity'], df['avg_query'], marker='o', color='black', label='Avg. query')\n",
    "plt.plot(df['capacity'], df['avg_verif'], marker='o', color='grey', label='Avg. verif.')\n",
    "#plt.axvline(75, 0, 1, color='gray', linestyle='--')\n",
    "plt.ylabel(\"Time [ms]\")\n",
    "plt.xlabel(\"Page capacity (c)\")\n",
    "plt.legend()\n",
    "plt.savefig(\"test_query_verification/test-capacity.eps\", format='eps', bbox_inches='tight')"
   ]
  },
  {
   "cell_type": "markdown",
   "id": "a38b94df",
   "metadata": {},
   "source": [
    "# Capacity (alternate test)"
   ]
  },
  {
   "cell_type": "code",
   "execution_count": 23,
   "id": "a5138ee2",
   "metadata": {},
   "outputs": [
    {
     "data": {
      "text/html": [
       "<div>\n",
       "<style scoped>\n",
       "    .dataframe tbody tr th:only-of-type {\n",
       "        vertical-align: middle;\n",
       "    }\n",
       "\n",
       "    .dataframe tbody tr th {\n",
       "        vertical-align: top;\n",
       "    }\n",
       "\n",
       "    .dataframe thead th {\n",
       "        text-align: right;\n",
       "    }\n",
       "</style>\n",
       "<table border=\"1\" class=\"dataframe\">\n",
       "  <thead>\n",
       "    <tr style=\"text-align: right;\">\n",
       "      <th></th>\n",
       "      <th>lx</th>\n",
       "      <th>ly</th>\n",
       "      <th>ux</th>\n",
       "      <th>uy</th>\n",
       "      <th>matching</th>\n",
       "      <th>fraction</th>\n",
       "    </tr>\n",
       "  </thead>\n",
       "  <tbody>\n",
       "    <tr>\n",
       "      <th>374662</th>\n",
       "      <td>833900.0</td>\n",
       "      <td>1681160.0</td>\n",
       "      <td>1510620.0</td>\n",
       "      <td>1719180.0</td>\n",
       "      <td>5939</td>\n",
       "      <td>0.197967</td>\n",
       "    </tr>\n",
       "  </tbody>\n",
       "</table>\n",
       "</div>"
      ],
      "text/plain": [
       "              lx         ly         ux         uy  matching  fraction\n",
       "374662  833900.0  1681160.0  1510620.0  1719180.0      5939  0.197967"
      ]
     },
     "execution_count": 23,
     "metadata": {},
     "output_type": "execute_result"
    }
   ],
   "source": [
    "fq = 0.2\n",
    "query_df = pd.read_csv('data/random_queries.csv')\n",
    "q_part = queries_with_fraction(query_df, fq-0.01, fq+0.01)\n",
    "q_part = q_part.sample(n=1)\n",
    "q_part.to_csv('data/random_query_alt.csv', index=False)\n",
    "q_part"
   ]
  },
  {
   "cell_type": "code",
   "execution_count": 26,
   "id": "26a20414",
   "metadata": {},
   "outputs": [
    {
     "name": "stdout",
     "output_type": "stream",
     "text": [
      "Testing capacity = 4...\n",
      "Testing capacity = 8...\n",
      "Testing capacity = 16...\n",
      "Testing capacity = 32...\n",
      "Testing capacity = 64...\n",
      "Testing capacity = 128...\n",
      "Testing capacity = 256...\n",
      "Testing capacity = 512...\n",
      "Testing capacity = 1024...\n",
      "Testing capacity = 2048...\n",
      "Done!\n"
     ]
    }
   ],
   "source": [
    "n_records = 30000\n",
    "n_trials = 20\n",
    "query_file = 'test/data/random_query_alt.csv'\n",
    "input_file = 'test/data/crash_data_{}.csv'.format(n_records)\n",
    "output_file = 'test_query_verification/test_capacity_alt.csv'\n",
    "capacities = [4, 8, 16, 32, 64, 128, 256, 512, 1024, 2048]\n",
    "\n",
    "f = open(output_file, 'w')\n",
    "f.write('capacity,avg_returned,avg_matching,avg_query,avg_verif\\n')\n",
    "\n",
    "os.chdir(exec_dir)\n",
    "\n",
    "for c in capacities:\n",
    "    # Run the C++ implementation.\n",
    "    print('Testing capacity = {}...'.format(c))\n",
    "    params = ['./TestQuery', input_file, query_file, str(c)]\n",
    "    avg_retur, avg_match, avg_query, avg_verif = 0, 0, 0, 0\n",
    "    for i in range(0, n_trials):\n",
    "        p = subprocess.run(params, capture_output=True, check=True)\n",
    "        lines = p.stdout.decode('utf-8').splitlines()\n",
    "        avg_retur += int((lines[1].split(':'))[1])\n",
    "        avg_match += int((lines[2].split(':'))[1])\n",
    "        avg_query += int((lines[3].split(':'))[1])\n",
    "        avg_verif += int((lines[4].split(':'))[1])\n",
    "    avg_retur /= n_trials\n",
    "    avg_match /= n_trials\n",
    "    avg_query /= n_trials\n",
    "    avg_verif /= n_trials\n",
    "    f.write('{},{},{},{},{}\\n'.format(c,avg_retur,avg_match,avg_query,avg_verif))\n",
    "\n",
    "f.close()\n",
    "\n",
    "os.chdir(base_dir)\n",
    "print('Done!')"
   ]
  },
  {
   "cell_type": "code",
   "execution_count": 27,
   "id": "7769a320",
   "metadata": {},
   "outputs": [
    {
     "name": "stdout",
     "output_type": "stream",
     "text": [
      "\\begin{tabular}{rrrrrr}\n",
      "\\toprule\n",
      " capacity &  avg\\_returned &  avg\\_matching &  noise &  avg\\_query &  avg\\_verif \\\\\n",
      "\\midrule\n",
      "        4 &         19744 &          5940 &  0.699 &      5.656 &     40.623 \\\\\n",
      "        8 &         25920 &          5940 &  0.771 &      4.825 &     27.929 \\\\\n",
      "       16 &         29184 &          5940 &  0.796 &      3.684 &     22.277 \\\\\n",
      "       32 &         29696 &          5940 &  0.800 &      3.332 &     18.072 \\\\\n",
      "       64 &         30000 &          5940 &  0.802 &      3.253 &     16.497 \\\\\n",
      "      128 &         30000 &          5940 &  0.802 &      3.219 &     15.637 \\\\\n",
      "      256 &         30000 &          5940 &  0.802 &      3.184 &     13.922 \\\\\n",
      "      512 &         30000 &          5940 &  0.802 &      4.358 &     13.955 \\\\\n",
      "     1024 &         30000 &          5940 &  0.802 &      4.113 &     13.965 \\\\\n",
      "     2048 &         30000 &          5940 &  0.802 &      4.167 &     14.276 \\\\\n",
      "\\bottomrule\n",
      "\\end{tabular}\n",
      "\n"
     ]
    }
   ],
   "source": [
    "df=pd.read_csv('test_query_verification/test_capacity_alt.csv')\n",
    "# Convert returned and matching columns to integer type.\n",
    "df = df.astype({'avg_returned': int, 'avg_matching': int})\n",
    "# Divide by 1000 to convert microseconds to milliseconds.\n",
    "df['avg_query'] /= 1000\n",
    "df['avg_verif'] /= 1000\n",
    "# Compute noise.\n",
    "df['noise'] = 1-(df['avg_matching']/df['avg_returned'])\n",
    "# Round the execution times to 3 decimal places.\n",
    "df = df.round({'noise': 3, 'avg_query': 3, 'avg_verif': 3})\n",
    "df = df[['capacity','avg_returned','avg_matching','noise','avg_query','avg_verif']]\n",
    "print(df.to_latex(index=False))"
   ]
  },
  {
   "cell_type": "code",
   "execution_count": 12,
   "id": "c1cb18f0",
   "metadata": {},
   "outputs": [
    {
     "name": "stdout",
     "output_type": "stream",
     "text": [
      "(41431860, 155741028, 132076965, 265135554)\n",
      "(132076965, 160388738, 132431257, 217248865)\n",
      "(132431285, 159729932, 132738629, 257675416)\n",
      "(132738629, 160057448, 132951317, 215432389)\n",
      "(132951393, 160251124, 133249300, 201904338)\n",
      "(133249627, 160316054, 133687673, 192844012)\n",
      "(133687673, 156383352, 140507324, 254292252)\n",
      "(140512642, 131505047, 156208702, 263913783)\n"
     ]
    },
    {
     "data": {
      "image/png": "[encoded data removed]",
      "text/plain": [
       "<Figure size 432x288 with 1 Axes>"
      ]
     },
     "metadata": {
      "needs_background": "light"
     },
     "output_type": "display_data"
    }
   ],
   "source": [
    "input_file = 'data/crash_data_30000.csv'\n",
    "c = 16\n",
    "params = ['../TestIndex', input_file, str(c)]\n",
    "p = subprocess.run(params, capture_output=True, check=True)\n",
    "df = pd.read_csv(input_file)\n",
    "rects = pd.read_csv('rectangles.csv')\n",
    "plt.scatter(df.x, df.y)\n",
    "for index, row in rects.iterrows():\n",
    "    r = (row.lx, row.ly, row.ux, row.uy)\n",
    "    print(r)\n",
    "    plt.gca().add_patch(Rectangle((r[0], r[1]), r[2]-r[0], r[3]-r[1], fill=None, alpha=1))"
   ]
  },
  {
   "cell_type": "code",
   "execution_count": 26,
   "id": "8d691dda",
   "metadata": {},
   "outputs": [],
   "source": [
    "input_file = 'data/crash_data_30000.csv'\n",
    "c = 16\n",
    "params = ['../TestIndex', input_file, str(c)]\n",
    "p = subprocess.run(params, capture_output=True, check=True)\n",
    "df = pd.read_csv(input_file)\n",
    "rects = pd.read_csv('rectangles.csv')"
   ]
  },
  {
   "cell_type": "code",
   "execution_count": 35,
   "id": "57906996",
   "metadata": {},
   "outputs": [
    {
     "data": {
      "image/png": "[encoded data removed]",
      "text/plain": [
       "<Figure size 432x288 with 1 Axes>"
      ]
     },
     "metadata": {
      "needs_background": "light"
     },
     "output_type": "display_data"
    }
   ],
   "source": [
    "plt.scatter(df.x, df.y)\n",
    "for index, row in rects.iterrows():\n",
    "    r = (row.lx, row.ly, row.ux, row.uy)\n",
    "    plt.gca().add_patch(Rectangle((r[0], r[1]), r[2]-r[0], r[3]-r[1], fill=None, alpha=1))"
   ]
  },
  {
   "cell_type": "code",
   "execution_count": 27,
   "id": "ee939e26",
   "metadata": {},
   "outputs": [
    {
     "name": "stdout",
     "output_type": "stream",
     "text": [
      "(110811200, 131505047, 152583837, 167697772)\n",
      "(131787469, 165675048, 134217679, 167770926)\n",
      "(132124387, 166725574, 133168963, 167509432)\n",
      "(132123036, 166724530, 134209493, 167771985)\n",
      "(80094037, 167251549, 134204155, 201180289)\n",
      "(132296767, 167773410, 134208533, 169867695)\n",
      "(41431860, 134217743, 154233575, 265135554)\n",
      "(134219550, 167813254, 156208702, 263913783)\n"
     ]
    },
    {
     "data": {
      "text/plain": [
       "<matplotlib.patches.Rectangle at 0x1129e0fa0>"
      ]
     },
     "execution_count": 27,
     "metadata": {},
     "output_type": "execute_result"
    },
    {
     "data": {
      "image/png": "[encoded data removed]",
      "text/plain": [
       "<Figure size 432x288 with 1 Axes>"
      ]
     },
     "metadata": {
      "needs_background": "light"
     },
     "output_type": "display_data"
    }
   ],
   "source": [
    "plt.scatter(df.x, df.y)\n",
    "row = rects.loc[0]\n",
    "r = (row.lx, row.ly, row.ux, row.uy)\n",
    "for index, row in rects.iterrows():\n",
    "    s = (row.lx, row.ly, row.ux, row.uy)\n",
    "    print(s)\n",
    "plt.gca().add_patch(Rectangle((r[0], r[1]), r[2]-r[0], r[3]-r[1], fill=None, alpha=1))\n",
    "#    plt.gca().add_patch(Rectangle((r[0], r[1]), r[2]-r[0], r[3]-r[1], fill=None, alpha=1))"
   ]
  },
  {
   "cell_type": "code",
   "execution_count": 28,
   "id": "75a2672f",
   "metadata": {},
   "outputs": [
    {
     "name": "stdout",
     "output_type": "stream",
     "text": [
      "(110811200, 131505047, 152583837, 167697772)\n",
      "(131787469, 165675048, 134217679, 167770926)\n",
      "(132124387, 166725574, 133168963, 167509432)\n",
      "(132123036, 166724530, 134209493, 167771985)\n",
      "(80094037, 167251549, 134204155, 201180289)\n",
      "(132296767, 167773410, 134208533, 169867695)\n",
      "(41431860, 134217743, 154233575, 265135554)\n",
      "(134219550, 167813254, 156208702, 263913783)\n"
     ]
    },
    {
     "data": {
      "text/plain": [
       "<matplotlib.patches.Rectangle at 0x112b31700>"
      ]
     },
     "execution_count": 28,
     "metadata": {},
     "output_type": "execute_result"
    },
    {
     "data": {
      "image/png": "[encoded data removed]",
      "text/plain": [
       "<Figure size 432x288 with 1 Axes>"
      ]
     },
     "metadata": {
      "needs_background": "light"
     },
     "output_type": "display_data"
    }
   ],
   "source": [
    "plt.scatter(df.x, df.y)\n",
    "row = rects.loc[1]\n",
    "r = (row.lx, row.ly, row.ux, row.uy)\n",
    "for index, row in rects.iterrows():\n",
    "    s = (row.lx, row.ly, row.ux, row.uy)\n",
    "    print(s)\n",
    "plt.gca().add_patch(Rectangle((r[0], r[1]), r[2]-r[0], r[3]-r[1], fill=None, alpha=1))\n",
    "#    plt.gca().add_patch(Rectangle((r[0], r[1]), r[2]-r[0], r[3]-r[1], fill=None, alpha=1))"
   ]
  },
  {
   "cell_type": "code",
   "execution_count": 29,
   "id": "a2a17c97",
   "metadata": {},
   "outputs": [
    {
     "name": "stdout",
     "output_type": "stream",
     "text": [
      "(110811200, 131505047, 152583837, 167697772)\n",
      "(131787469, 165675048, 134217679, 167770926)\n",
      "(132124387, 166725574, 133168963, 167509432)\n",
      "(132123036, 166724530, 134209493, 167771985)\n",
      "(80094037, 167251549, 134204155, 201180289)\n",
      "(132296767, 167773410, 134208533, 169867695)\n",
      "(41431860, 134217743, 154233575, 265135554)\n",
      "(134219550, 167813254, 156208702, 263913783)\n"
     ]
    },
    {
     "data": {
      "text/plain": [
       "<matplotlib.patches.Rectangle at 0x112b47ee0>"
      ]
     },
     "execution_count": 29,
     "metadata": {},
     "output_type": "execute_result"
    },
    {
     "data": {
      "image/png": "[encoded data removed]",
      "text/plain": [
       "<Figure size 432x288 with 1 Axes>"
      ]
     },
     "metadata": {
      "needs_background": "light"
     },
     "output_type": "display_data"
    }
   ],
   "source": [
    "plt.scatter(df.x, df.y)\n",
    "row = rects.loc[2]\n",
    "r = (row.lx, row.ly, row.ux, row.uy)\n",
    "for index, row in rects.iterrows():\n",
    "    s = (row.lx, row.ly, row.ux, row.uy)\n",
    "    print(s)\n",
    "plt.gca().add_patch(Rectangle((r[0], r[1]), r[2]-r[0], r[3]-r[1], fill=None, alpha=1))\n",
    "#    plt.gca().add_patch(Rectangle((r[0], r[1]), r[2]-r[0], r[3]-r[1], fill=None, alpha=1))"
   ]
  },
  {
   "cell_type": "code",
   "execution_count": 30,
   "id": "1e2e79ee",
   "metadata": {},
   "outputs": [
    {
     "name": "stdout",
     "output_type": "stream",
     "text": [
      "(110811200, 131505047, 152583837, 167697772)\n",
      "(131787469, 165675048, 134217679, 167770926)\n",
      "(132124387, 166725574, 133168963, 167509432)\n",
      "(132123036, 166724530, 134209493, 167771985)\n",
      "(80094037, 167251549, 134204155, 201180289)\n",
      "(132296767, 167773410, 134208533, 169867695)\n",
      "(41431860, 134217743, 154233575, 265135554)\n",
      "(134219550, 167813254, 156208702, 263913783)\n"
     ]
    },
    {
     "data": {
      "text/plain": [
       "<matplotlib.patches.Rectangle at 0x112bb5c10>"
      ]
     },
     "execution_count": 30,
     "metadata": {},
     "output_type": "execute_result"
    },
    {
     "data": {
      "image/png": "[encoded data removed]",
      "text/plain": [
       "<Figure size 432x288 with 1 Axes>"
      ]
     },
     "metadata": {
      "needs_background": "light"
     },
     "output_type": "display_data"
    }
   ],
   "source": [
    "plt.scatter(df.x, df.y)\n",
    "row = rects.loc[3]\n",
    "r = (row.lx, row.ly, row.ux, row.uy)\n",
    "for index, row in rects.iterrows():\n",
    "    s = (row.lx, row.ly, row.ux, row.uy)\n",
    "    print(s)\n",
    "plt.gca().add_patch(Rectangle((r[0], r[1]), r[2]-r[0], r[3]-r[1], fill=None, alpha=1))\n",
    "#    plt.gca().add_patch(Rectangle((r[0], r[1]), r[2]-r[0], r[3]-r[1], fill=None, alpha=1))"
   ]
  },
  {
   "cell_type": "code",
   "execution_count": 31,
   "id": "9234b2c8",
   "metadata": {},
   "outputs": [
    {
     "name": "stdout",
     "output_type": "stream",
     "text": [
      "(110811200, 131505047, 152583837, 167697772)\n",
      "(131787469, 165675048, 134217679, 167770926)\n",
      "(132124387, 166725574, 133168963, 167509432)\n",
      "(132123036, 166724530, 134209493, 167771985)\n",
      "(80094037, 167251549, 134204155, 201180289)\n",
      "(132296767, 167773410, 134208533, 169867695)\n",
      "(41431860, 134217743, 154233575, 265135554)\n",
      "(134219550, 167813254, 156208702, 263913783)\n"
     ]
    },
    {
     "data": {
      "text/plain": [
       "<matplotlib.patches.Rectangle at 0x112d1fe80>"
      ]
     },
     "execution_count": 31,
     "metadata": {},
     "output_type": "execute_result"
    },
    {
     "data": {
      "image/png": "[encoded data removed]",
      "text/plain": [
       "<Figure size 432x288 with 1 Axes>"
      ]
     },
     "metadata": {
      "needs_background": "light"
     },
     "output_type": "display_data"
    }
   ],
   "source": [
    "plt.scatter(df.x, df.y)\n",
    "row = rects.loc[4]\n",
    "r = (row.lx, row.ly, row.ux, row.uy)\n",
    "for index, row in rects.iterrows():\n",
    "    s = (row.lx, row.ly, row.ux, row.uy)\n",
    "    print(s)\n",
    "plt.gca().add_patch(Rectangle((r[0], r[1]), r[2]-r[0], r[3]-r[1], fill=None, alpha=1))\n",
    "#    plt.gca().add_patch(Rectangle((r[0], r[1]), r[2]-r[0], r[3]-r[1], fill=None, alpha=1))"
   ]
  },
  {
   "cell_type": "code",
   "execution_count": 32,
   "id": "90d377be",
   "metadata": {},
   "outputs": [
    {
     "name": "stdout",
     "output_type": "stream",
     "text": [
      "(110811200, 131505047, 152583837, 167697772)\n",
      "(131787469, 165675048, 134217679, 167770926)\n",
      "(132124387, 166725574, 133168963, 167509432)\n",
      "(132123036, 166724530, 134209493, 167771985)\n",
      "(80094037, 167251549, 134204155, 201180289)\n",
      "(132296767, 167773410, 134208533, 169867695)\n",
      "(41431860, 134217743, 154233575, 265135554)\n",
      "(134219550, 167813254, 156208702, 263913783)\n"
     ]
    },
    {
     "data": {
      "text/plain": [
       "<matplotlib.patches.Rectangle at 0x112e675e0>"
      ]
     },
     "execution_count": 32,
     "metadata": {},
     "output_type": "execute_result"
    },
    {
     "data": {
      "image/png": "[encoded data removed]",
      "text/plain": [
       "<Figure size 432x288 with 1 Axes>"
      ]
     },
     "metadata": {
      "needs_background": "light"
     },
     "output_type": "display_data"
    }
   ],
   "source": [
    "plt.scatter(df.x, df.y)\n",
    "row = rects.loc[5]\n",
    "r = (row.lx, row.ly, row.ux, row.uy)\n",
    "for index, row in rects.iterrows():\n",
    "    s = (row.lx, row.ly, row.ux, row.uy)\n",
    "    print(s)\n",
    "plt.gca().add_patch(Rectangle((r[0], r[1]), r[2]-r[0], r[3]-r[1], fill=None, alpha=1))\n",
    "#    plt.gca().add_patch(Rectangle((r[0], r[1]), r[2]-r[0], r[3]-r[1], fill=None, alpha=1))"
   ]
  },
  {
   "cell_type": "code",
   "execution_count": 33,
   "id": "12e0c5bd",
   "metadata": {},
   "outputs": [
    {
     "name": "stdout",
     "output_type": "stream",
     "text": [
      "(110811200, 131505047, 152583837, 167697772)\n",
      "(131787469, 165675048, 134217679, 167770926)\n",
      "(132124387, 166725574, 133168963, 167509432)\n",
      "(132123036, 166724530, 134209493, 167771985)\n",
      "(80094037, 167251549, 134204155, 201180289)\n",
      "(132296767, 167773410, 134208533, 169867695)\n",
      "(41431860, 134217743, 154233575, 265135554)\n",
      "(134219550, 167813254, 156208702, 263913783)\n"
     ]
    },
    {
     "data": {
      "text/plain": [
       "<matplotlib.patches.Rectangle at 0x112e9be20>"
      ]
     },
     "execution_count": 33,
     "metadata": {},
     "output_type": "execute_result"
    },
    {
     "data": {
      "image/png": "[encoded data removed]",
      "text/plain": [
       "<Figure size 432x288 with 1 Axes>"
      ]
     },
     "metadata": {
      "needs_background": "light"
     },
     "output_type": "display_data"
    }
   ],
   "source": [
    "plt.scatter(df.x, df.y)\n",
    "row = rects.loc[6]\n",
    "r = (row.lx, row.ly, row.ux, row.uy)\n",
    "for index, row in rects.iterrows():\n",
    "    s = (row.lx, row.ly, row.ux, row.uy)\n",
    "    print(s)\n",
    "plt.gca().add_patch(Rectangle((r[0], r[1]), r[2]-r[0], r[3]-r[1], fill=None, alpha=1))\n",
    "#    plt.gca().add_patch(Rectangle((r[0], r[1]), r[2]-r[0], r[3]-r[1], fill=None, alpha=1))"
   ]
  },
  {
   "cell_type": "code",
   "execution_count": 34,
   "id": "e67ab9b6",
   "metadata": {},
   "outputs": [
    {
     "name": "stdout",
     "output_type": "stream",
     "text": [
      "(110811200, 131505047, 152583837, 167697772)\n",
      "(131787469, 165675048, 134217679, 167770926)\n",
      "(132124387, 166725574, 133168963, 167509432)\n",
      "(132123036, 166724530, 134209493, 167771985)\n",
      "(80094037, 167251549, 134204155, 201180289)\n",
      "(132296767, 167773410, 134208533, 169867695)\n",
      "(41431860, 134217743, 154233575, 265135554)\n",
      "(134219550, 167813254, 156208702, 263913783)\n"
     ]
    },
    {
     "data": {
      "text/plain": [
       "<matplotlib.patches.Rectangle at 0x113108f70>"
      ]
     },
     "execution_count": 34,
     "metadata": {},
     "output_type": "execute_result"
    },
    {
     "data": {
      "image/png": "[encoded data removed]",
      "text/plain": [
       "<Figure size 432x288 with 1 Axes>"
      ]
     },
     "metadata": {
      "needs_background": "light"
     },
     "output_type": "display_data"
    }
   ],
   "source": [
    "plt.scatter(df.x, df.y)\n",
    "row = rects.loc[7]\n",
    "r = (row.lx, row.ly, row.ux, row.uy)\n",
    "for index, row in rects.iterrows():\n",
    "    s = (row.lx, row.ly, row.ux, row.uy)\n",
    "    print(s)\n",
    "plt.gca().add_patch(Rectangle((r[0], r[1]), r[2]-r[0], r[3]-r[1], fill=None, alpha=1))\n",
    "#    plt.gca().add_patch(Rectangle((r[0], r[1]), r[2]-r[0], r[3]-r[1], fill=None, alpha=1))"
   ]
  },
  {
   "cell_type": "code",
   "execution_count": null,
   "id": "2fc05399",
   "metadata": {},
   "outputs": [],
   "source": []
  }
 ],
 "metadata": {
  "kernelspec": {
   "display_name": "Python 3",
   "language": "python",
   "name": "python3"
  },
  "language_info": {
   "codemirror_mode": {
    "name": "ipython",
    "version": 3
   },
   "file_extension": ".py",
   "mimetype": "text/x-python",
   "name": "python",
   "nbconvert_exporter": "python",
   "pygments_lexer": "ipython3",
   "version": "3.8.2"
  }
 },
 "nbformat": 4,
 "nbformat_minor": 5
}
