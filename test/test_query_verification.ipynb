{
 "cells": [
  {
   "cell_type": "code",
   "execution_count": 1,
   "id": "4349209e",
   "metadata": {},
   "outputs": [],
   "source": [
    "import pandas as pd\n",
    "import numpy as np\n",
    "import math\n",
    "import matplotlib.pyplot as plt\n",
    "import os\n",
    "import random\n",
    "import struct\n",
    "import subprocess\n",
    "import sys\n",
    "from matplotlib.patches import Rectangle"
   ]
  },
  {
   "cell_type": "code",
   "execution_count": 2,
   "id": "c7de77b3",
   "metadata": {},
   "outputs": [],
   "source": [
    "base_dir = os.getcwd()\n",
    "exec_dir = '..'"
   ]
  },
  {
   "cell_type": "code",
   "execution_count": 3,
   "id": "64ea4bc5",
   "metadata": {},
   "outputs": [],
   "source": [
    "# Returns all records whose location is in the given range.\n",
    "def range_query(df, lx, ly, ux, uy):\n",
    "    return (df[(df.ACCLOC_X >= lx) & (df.ACCLOC_X <= ux) & \n",
    "              (df.ACCLOC_Y >= ly) & (df.ACCLOC_Y <= uy)])\n",
    "\n",
    "# Returns the bounding rectangle of a Pandas dataframe.\n",
    "def bounding_rect(df):\n",
    "    return (np.min(df['ACCLOC_X']), np.min(df['ACCLOC_Y']), \n",
    "            np.max(df['ACCLOC_X']), np.max(df['ACCLOC_Y']))\n",
    "\n",
    "# Generates a random rectangle inside the given interval.\n",
    "def random_rect(lx, ly, ux, uy):\n",
    "    # Generate a random lower-left vertex.\n",
    "    px = random.uniform(lx, ux)\n",
    "    py = random.uniform(ly, uy)\n",
    "    width = random.uniform(0, ux-px)\n",
    "    height = random.uniform(0, uy-py)\n",
    "    return (px, py, px+width, py+height)\n",
    "\n",
    "def to_string(rect):\n",
    "    return '({}, {}, {}, {})'.format(rect[0],rect[1],rect[2],rect[3])"
   ]
  },
  {
   "cell_type": "code",
   "execution_count": 4,
   "id": "9eab531e",
   "metadata": {},
   "outputs": [
    {
     "data": {
      "text/html": [
       "<div>\n",
       "<style scoped>\n",
       "    .dataframe tbody tr th:only-of-type {\n",
       "        vertical-align: middle;\n",
       "    }\n",
       "\n",
       "    .dataframe tbody tr th {\n",
       "        vertical-align: top;\n",
       "    }\n",
       "\n",
       "    .dataframe thead th {\n",
       "        text-align: right;\n",
       "    }\n",
       "</style>\n",
       "<table border=\"1\" class=\"dataframe\">\n",
       "  <thead>\n",
       "    <tr style=\"text-align: right;\">\n",
       "      <th></th>\n",
       "      <th>REPORT_ID</th>\n",
       "      <th>Year</th>\n",
       "      <th>Month</th>\n",
       "      <th>Day</th>\n",
       "      <th>Time</th>\n",
       "      <th>ACCLOC_X</th>\n",
       "      <th>ACCLOC_Y</th>\n",
       "    </tr>\n",
       "  </thead>\n",
       "  <tbody>\n",
       "    <tr>\n",
       "      <th>0</th>\n",
       "      <td>2012-1-27/05/2021</td>\n",
       "      <td>2012</td>\n",
       "      <td>January</td>\n",
       "      <td>Sunday</td>\n",
       "      <td>04:30 pm</td>\n",
       "      <td>1330659.71</td>\n",
       "      <td>1671795.87</td>\n",
       "    </tr>\n",
       "    <tr>\n",
       "      <th>1</th>\n",
       "      <td>2012-2-27/05/2021</td>\n",
       "      <td>2012</td>\n",
       "      <td>January</td>\n",
       "      <td>Sunday</td>\n",
       "      <td>09:10 am</td>\n",
       "      <td>1329400.16</td>\n",
       "      <td>1668462.66</td>\n",
       "    </tr>\n",
       "    <tr>\n",
       "      <th>2</th>\n",
       "      <td>2012-3-27/05/2021</td>\n",
       "      <td>2012</td>\n",
       "      <td>January</td>\n",
       "      <td>Wednesday</td>\n",
       "      <td>11:30 am</td>\n",
       "      <td>1313748.22</td>\n",
       "      <td>1624241.28</td>\n",
       "    </tr>\n",
       "    <tr>\n",
       "      <th>3</th>\n",
       "      <td>2012-4-27/05/2021</td>\n",
       "      <td>2012</td>\n",
       "      <td>January</td>\n",
       "      <td>Wednesday</td>\n",
       "      <td>10:20 am</td>\n",
       "      <td>1325326.77</td>\n",
       "      <td>1672425.55</td>\n",
       "    </tr>\n",
       "    <tr>\n",
       "      <th>4</th>\n",
       "      <td>2012-5-27/05/2021</td>\n",
       "      <td>2012</td>\n",
       "      <td>January</td>\n",
       "      <td>Wednesday</td>\n",
       "      <td>03:30 pm</td>\n",
       "      <td>1326056.45</td>\n",
       "      <td>1673028.42</td>\n",
       "    </tr>\n",
       "  </tbody>\n",
       "</table>\n",
       "</div>"
      ],
      "text/plain": [
       "           REPORT_ID  Year    Month        Day      Time    ACCLOC_X  \\\n",
       "0  2012-1-27/05/2021  2012  January     Sunday  04:30 pm  1330659.71   \n",
       "1  2012-2-27/05/2021  2012  January     Sunday  09:10 am  1329400.16   \n",
       "2  2012-3-27/05/2021  2012  January  Wednesday  11:30 am  1313748.22   \n",
       "3  2012-4-27/05/2021  2012  January  Wednesday  10:20 am  1325326.77   \n",
       "4  2012-5-27/05/2021  2012  January  Wednesday  03:30 pm  1326056.45   \n",
       "\n",
       "     ACCLOC_Y  \n",
       "0  1671795.87  \n",
       "1  1668462.66  \n",
       "2  1624241.28  \n",
       "3  1672425.55  \n",
       "4  1673028.42  "
      ]
     },
     "execution_count": 4,
     "metadata": {},
     "output_type": "execute_result"
    }
   ],
   "source": [
    "df = pd.read_csv('data/crash_data.csv')\n",
    "df.head()"
   ]
  },
  {
   "cell_type": "code",
   "execution_count": 5,
   "id": "69b744af",
   "metadata": {},
   "outputs": [
    {
     "data": {
      "text/plain": [
       "<matplotlib.patches.Rectangle at 0x117e64c10>"
      ]
     },
     "execution_count": 5,
     "metadata": {},
     "output_type": "execute_result"
    },
    {
     "data": {
      "image/png": "[encoded data removed]",
      "text/plain": [
       "<Figure size 432x288 with 1 Axes>"
      ]
     },
     "metadata": {
      "needs_background": "light"
     },
     "output_type": "display_data"
    }
   ],
   "source": [
    "r = bounding_rect(df)\n",
    "q = random_rect(r[0],r[1],r[2],r[3])\n",
    "plt.scatter(df['ACCLOC_X'], df['ACCLOC_Y'])\n",
    "plt.gca().add_patch(Rectangle((r[0], r[1]), r[2]-r[0], r[3]-r[1], fill=None, alpha=1))\n",
    "plt.gca().add_patch(Rectangle((q[0], q[1]), q[2]-q[0], q[3]-q[1], fill=None, alpha=1))"
   ]
  },
  {
   "cell_type": "markdown",
   "id": "91f04655",
   "metadata": {},
   "source": [
    "# Query generation\n",
    "\n",
    "First experiment: generate random queries. We construct a data set of $2 \\times 10^5$ random queries and measure the number of records that satisfy them."
   ]
  },
  {
   "cell_type": "raw",
   "id": "b1b28acf",
   "metadata": {},
   "source": [
    "n_records = 30000\n",
    "n_queries = 200000\n",
    "test_df = pd.read_csv('data/crash_data_{}.csv'.format(n_records))\n",
    "query_file = 'data/random_queries.csv'\n",
    "test_mbr = bounding_rect(test_df)\n",
    "\n",
    "f = open(query_file, 'w')\n",
    "f.write('lx,ly,ux,uy,matching,fraction\\n')\n",
    "\n",
    "for i in range(0, n_queries):\n",
    "    rq = random_rect(test_mbr[0], test_mbr[1], test_mbr[2], test_mbr[3]) \n",
    "    result = range_query(test_df, rq[0], rq[1], rq[2], rq[3])\n",
    "    matching = len(result)\n",
    "    fraction = matching/n_records\n",
    "    f.write('{},{},{},{},{},{}\\n'.format(rq[0],rq[1],rq[2],rq[3],matching,fraction))\n",
    "    \n",
    "f.close()\n",
    "    \n",
    "print('Done!')"
   ]
  },
  {
   "cell_type": "markdown",
   "id": "96117b39",
   "metadata": {},
   "source": [
    "Then we consider fractions from 10% to 90%. For each fraction we select 50 queries with that fraction and create separate data sets."
   ]
  },
  {
   "cell_type": "code",
   "execution_count": 6,
   "id": "4d405af6",
   "metadata": {},
   "outputs": [],
   "source": [
    "def queries_with_fraction(df, fmin, fmax):\n",
    "    return (df[(df.fraction >= fmin) & (df.fraction <= fmax)]).sort_values('fraction')"
   ]
  },
  {
   "cell_type": "code",
   "execution_count": 7,
   "id": "f638ab54",
   "metadata": {
    "scrolled": false
   },
   "outputs": [
    {
     "name": "stdout",
     "output_type": "stream",
     "text": [
      "Fraction: 10%\tQueries: 1608\n",
      "Fraction: 20%\tQueries: 731\n",
      "Fraction: 30%\tQueries: 437\n",
      "Fraction: 40%\tQueries: 369\n",
      "Fraction: 50%\tQueries: 326\n",
      "Fraction: 60%\tQueries: 356\n",
      "Fraction: 70%\tQueries: 546\n",
      "Fraction: 80%\tQueries: 990\n",
      "Fraction: 90%\tQueries: 6793\n"
     ]
    }
   ],
   "source": [
    "query_df = pd.read_csv('data/random_queries.csv')\n",
    "for i in range(1, 10):\n",
    "    size = len(queries_with_fraction(query_df, i/10-0.01, i/10+0.01))\n",
    "    print('Fraction: {}%\\tQueries: {}'.format(i*10, size))"
   ]
  },
  {
   "cell_type": "code",
   "execution_count": 8,
   "id": "b63e1c6c",
   "metadata": {
    "scrolled": true
   },
   "outputs": [
    {
     "name": "stdout",
     "output_type": "stream",
     "text": [
      "Done!\n"
     ]
    }
   ],
   "source": [
    "sampled_queries_per_fraction = 100\n",
    "for i in range(1, 10):\n",
    "    q_part = queries_with_fraction(query_df, i/10-0.01, i/10+0.01)\n",
    "    q_part = q_part.sample(n=sampled_queries_per_fraction)\n",
    "    q_part.to_csv('data/random_queries_{}.csv'.format(i*10), index=False)\n",
    "print('Done!')"
   ]
  },
  {
   "cell_type": "markdown",
   "id": "7ee847f8",
   "metadata": {},
   "source": [
    "# Fraction of records (10%-90%)"
   ]
  },
  {
   "cell_type": "code",
   "execution_count": 7,
   "id": "91e6eab0",
   "metadata": {},
   "outputs": [],
   "source": [
    "m=30000\n",
    "c=16\n",
    "input_file = '{}/data/crash_data_{}.csv'.format(base_dir, m)\n",
    "output_file = '{}/test_query_verification/test_fraction.csv'.format(base_dir)"
   ]
  },
  {
   "cell_type": "code",
   "execution_count": 10,
   "id": "2e544b4a",
   "metadata": {},
   "outputs": [
    {
     "name": "stdout",
     "output_type": "stream",
     "text": [
      "Done!\n"
     ]
    }
   ],
   "source": [
    "f = open(output_file, 'w')\n",
    "f.write('fraction,avg_returned,avg_matching,avg_query,avg_verif\\n')\n",
    "\n",
    "os.chdir(exec_dir)\n",
    "\n",
    "for i in range(1, 10):\n",
    "    query_file = '{}/data/random_queries_{}.csv'.format(base_dir, i*10)\n",
    "    params = ['./TestQuery', input_file, query_file, str(c)]\n",
    "    p = subprocess.run(params, capture_output=True, check=True)\n",
    "    lines = p.stdout.decode('utf-8').splitlines()\n",
    "    avg_retur = int((lines[1].split(':'))[1])\n",
    "    avg_match = int((lines[2].split(':'))[1])\n",
    "    avg_query = int((lines[3].split(':'))[1])\n",
    "    avg_verif = int((lines[4].split(':'))[1])\n",
    "    f.write('{}%,{},{},{},{}\\n'.format(i*10,avg_retur,avg_match,avg_query,avg_verif))\n",
    "    \n",
    "f.close()\n",
    "\n",
    "os.chdir(base_dir)\n",
    "print('Done!')"
   ]
  },
  {
   "cell_type": "code",
   "execution_count": 6,
   "id": "61e15e1d",
   "metadata": {
    "scrolled": true
   },
   "outputs": [
    {
     "name": "stdout",
     "output_type": "stream",
     "text": [
      "\\begin{tabular}{rrrrrr}\n",
      "\\toprule\n",
      " fraction &  avg\\_returned &  avg\\_matching &  noise &  avg\\_query &  avg\\_verif \\\\\n",
      "\\midrule\n",
      "       10 &         17476 &          2984 &  0.483 &      4.470 &     16.786 \\\\\n",
      "       20 &         19614 &          6007 &  0.454 &      3.485 &     20.571 \\\\\n",
      "       30 &         18866 &          9000 &  0.329 &      3.261 &     23.135 \\\\\n",
      "       40 &         20472 &         12022 &  0.282 &      3.243 &     23.023 \\\\\n",
      "       50 &         22485 &         14993 &  0.250 &      3.626 &     27.298 \\\\\n",
      "       60 &         23772 &         18027 &  0.192 &      3.778 &     30.627 \\\\\n",
      "       70 &         25004 &         20980 &  0.134 &      4.026 &     33.679 \\\\\n",
      "       80 &         27048 &         23991 &  0.102 &      4.348 &     37.622 \\\\\n",
      "       90 &         28030 &         27030 &  0.033 &      4.864 &     44.459 \\\\\n",
      "\\bottomrule\n",
      "\\end{tabular}\n",
      "\n"
     ]
    }
   ],
   "source": [
    "df=pd.read_csv('test_query_verification/test_fraction.csv')\n",
    "# Convert returned and matching columns to integer type.\n",
    "df = df.astype({'avg_returned': int, 'avg_matching': int})\n",
    "df['noise'] = (df['avg_returned']-df['avg_matching'])/30000 #(df['avg_matching'])\n",
    "# Divide by 1000 to convert microseconds to milliseconds.\n",
    "df['avg_query'] /= 1000\n",
    "df['avg_verif'] /= 1000\n",
    "# Round the execution times to 3 decimal places.\n",
    "df = df.round({'noise':3, 'avg_query': 3, 'avg_verif': 3})\n",
    "# Reorder columns.\n",
    "df = df[['fraction','avg_returned','avg_matching','noise','avg_query','avg_verif']]\n",
    "print(df.to_latex(index=False))"
   ]
  },
  {
   "cell_type": "markdown",
   "id": "f087480d",
   "metadata": {},
   "source": [
    "# Low fractions (1%-9%)"
   ]
  },
  {
   "cell_type": "code",
   "execution_count": 27,
   "id": "a4fa5252",
   "metadata": {},
   "outputs": [
    {
     "name": "stdout",
     "output_type": "stream",
     "text": [
      "Done!\n"
     ]
    }
   ],
   "source": [
    "sampled_queries_per_fraction = 40\n",
    "query_df = pd.read_csv('data/random_queries.csv')\n",
    "for i in range(1, 10):\n",
    "    q_part = queries_with_fraction(query_df, i/100-0.001, i/100+0.001)\n",
    "    q_part = q_part.sample(n=sampled_queries_per_fraction)\n",
    "    q_part.to_csv('data/random_queries_{}.csv'.format(i), index=False)\n",
    "print('Done!')"
   ]
  },
  {
   "cell_type": "code",
   "execution_count": 28,
   "id": "c6671059",
   "metadata": {},
   "outputs": [],
   "source": [
    "m=30000\n",
    "c=16\n",
    "input_file = '{}/data/crash_data_{}.csv'.format(base_dir, m)\n",
    "output_file = '{}/test_query_verification/test_fraction_low.csv'.format(base_dir)"
   ]
  },
  {
   "cell_type": "code",
   "execution_count": 29,
   "id": "181be5a6",
   "metadata": {},
   "outputs": [
    {
     "name": "stdout",
     "output_type": "stream",
     "text": [
      "Done!\n"
     ]
    }
   ],
   "source": [
    "f = open(output_file, 'w')\n",
    "f.write('fraction,avg_returned,avg_matching,avg_query,avg_verif\\n')\n",
    "\n",
    "os.chdir(exec_dir)\n",
    "\n",
    "for i in range(1, 10):\n",
    "    query_file = '{}/data/random_queries_{}.csv'.format(base_dir, i)\n",
    "    params = ['./TestQuery', input_file, query_file, str(c)]\n",
    "    p = subprocess.run(params, capture_output=True, check=True)\n",
    "    lines = p.stdout.decode('utf-8').splitlines()\n",
    "    avg_retur = int((lines[1].split(':'))[1])\n",
    "    avg_match = int((lines[2].split(':'))[1])\n",
    "    avg_query = int((lines[3].split(':'))[1])\n",
    "    avg_verif = int((lines[4].split(':'))[1])\n",
    "    f.write('{},{},{},{},{}\\n'.format(i,avg_retur,avg_match,avg_query,avg_verif))\n",
    "    \n",
    "f.close()\n",
    "\n",
    "os.chdir(base_dir)\n",
    "print('Done!')"
   ]
  },
  {
   "cell_type": "code",
   "execution_count": 30,
   "id": "ec5bb567",
   "metadata": {
    "scrolled": true
   },
   "outputs": [
    {
     "name": "stdout",
     "output_type": "stream",
     "text": [
      "\\begin{tabular}{rrrrrr}\n",
      "\\toprule\n",
      " fraction &  avg\\_returned &  avg\\_matching &  noise &  avg\\_query &  avg\\_verif \\\\\n",
      "\\midrule\n",
      "        1 &          4038 &           301 &  0.125 &      0.568 &      2.651 \\\\\n",
      "        2 &          6631 &           597 &  0.201 &      0.938 &      4.315 \\\\\n",
      "        3 &         10648 &           894 &  0.325 &      1.683 &      7.238 \\\\\n",
      "        4 &          9760 &          1197 &  0.285 &      1.421 &      6.659 \\\\\n",
      "        5 &         13759 &          1498 &  0.409 &      2.247 &     10.096 \\\\\n",
      "        6 &         16219 &          1796 &  0.481 &      2.766 &     12.250 \\\\\n",
      "        7 &         16789 &          2098 &  0.490 &      2.707 &     12.463 \\\\\n",
      "        8 &         18015 &          2400 &  0.520 &      2.936 &     13.572 \\\\\n",
      "        9 &         16767 &          2701 &  0.469 &      2.533 &     12.452 \\\\\n",
      "\\bottomrule\n",
      "\\end{tabular}\n",
      "\n"
     ]
    }
   ],
   "source": [
    "df=pd.read_csv('test_query_verification/test_fraction_low.csv')\n",
    "# Convert returned and matching columns to integer type.\n",
    "df = df.astype({'avg_returned': int, 'avg_matching': int})\n",
    "df['noise'] = (df['avg_returned']-df['avg_matching'])/30000 #(df['avg_matching'])\n",
    "# Divide by 1000 to convert microseconds to milliseconds.\n",
    "df['avg_query'] /= 1000\n",
    "df['avg_verif'] /= 1000\n",
    "# Round the execution times to 3 decimal places.\n",
    "df = df.round({'noise':3, 'avg_query': 3, 'avg_verif': 3})\n",
    "# Reorder columns.\n",
    "df = df[['fraction','avg_returned','avg_matching','noise','avg_query','avg_verif']]\n",
    "print(df.to_latex(index=False))"
   ]
  },
  {
   "cell_type": "markdown",
   "id": "ecbd327f",
   "metadata": {},
   "source": [
    "# Capacity\n",
    "\n",
    "Our second analysis was aimed at studying \n",
    "how the page capacity impacts on the execution times\n",
    "of query and verification algorithms. \n",
    "For this reason, we chose a data set with \n",
    "$m = 2 \\times 10^4$ records, a query $Q$\n",
    "with a fraction $f_Q = 20\\%$ and then constructed\n",
    "several MR-trees with different page capacities.\n",
    "For each tree, we executed the query and verification\n",
    "algorithms 20 times and computed an average of\n",
    "their running times. "
   ]
  },
  {
   "cell_type": "raw",
   "id": "76fede20",
   "metadata": {},
   "source": [
    "test_df = pd.read_csv('./test_query_verification/crash_data_20000.csv')\n",
    "query_file = './test_query_verification/queries_capacity.csv'\n",
    "test_mbr = bounding_rect(test_df)\n",
    "n_queries = 10000\n",
    "n_records = len(test_df)\n",
    "\n",
    "f = open(query_file, 'w')\n",
    "f.write('lx,ly,ux,uy,matching,fraction\\n')\n",
    "\n",
    "for i in range(0, n_queries):\n",
    "    rq = random_rect(test_mbr[0], test_mbr[1], test_mbr[2], test_mbr[3]) \n",
    "    result = range_query(test_df, rq[0], rq[1], rq[2], rq[3])\n",
    "    matching = len(result)\n",
    "    fraction = matching/n_records\n",
    "    f.write('{},{},{},{},{},{}\\n'.format(rq[0],rq[1],rq[2],rq[3],matching,fraction))\n",
    "    \n",
    "f.close()\n",
    "    \n",
    "print('Done!')"
   ]
  },
  {
   "cell_type": "raw",
   "id": "a52c437a",
   "metadata": {},
   "source": [
    "query_df = pd.read_csv('./test_query_verification/queries_capacity.csv')\n",
    "print_fraction(query_df, 0.2, 0.3)"
   ]
  },
  {
   "cell_type": "code",
   "execution_count": 11,
   "id": "91efba5c",
   "metadata": {},
   "outputs": [
    {
     "name": "stdout",
     "output_type": "stream",
     "text": [
      "Testing capacity = 5...\n",
      "Testing capacity = 10...\n",
      "Testing capacity = 20...\n",
      "Testing capacity = 30...\n",
      "Testing capacity = 40...\n",
      "Testing capacity = 50...\n",
      "Testing capacity = 60...\n",
      "Testing capacity = 70...\n",
      "Testing capacity = 80...\n",
      "Testing capacity = 90...\n",
      "Testing capacity = 100...\n",
      "Testing capacity = 250...\n",
      "Testing capacity = 500...\n",
      "Testing capacity = 750...\n",
      "Testing capacity = 1000...\n",
      "Done!\n"
     ]
    }
   ],
   "source": [
    "m=20000\n",
    "capacities=[5, 10, 20, 30, 40, 50, 60, 70, 80, 90, 100, 250, 500, 750, 1000]\n",
    "n_trials=20\n",
    "input_file = '{}/test_query_verification/crash_data_{}.csv'.format(base_dir, m)\n",
    "output_file = '{}/test_query_verification/test_capacity.csv'.format(base_dir)\n",
    "test_df = pd.read_csv(input_file)\n",
    "query_df = pd.read_csv('./test_query_verification/queries_capacity.csv')\n",
    "query_id = 4859\n",
    "q = query_df.loc[4859]\n",
    "\n",
    "f = open(output_file, 'w')\n",
    "f.write('capacity,returned,matching,avg_query,avg_verif\\n')\n",
    "\n",
    "os.chdir(exec_dir)\n",
    "\n",
    "for c in capacities:\n",
    "    # Run the C++ implementation.\n",
    "    print('Testing capacity = {}...'.format(c))\n",
    "    avg_query, avg_verif, returned_rec, matching_rec = 0, 0, 0, 0\n",
    "    for i in range(0, n_trials):\n",
    "        params = ['./TestQuery', input_file, str(c), str(q.lx), str(q.ly), str(q.ux), str(q.uy)]\n",
    "        p = subprocess.run(params, capture_output=True, check=True)\n",
    "        lines = p.stdout.decode('utf-8').splitlines()\n",
    "        returned_rec += int((lines[2].split(':'))[1])\n",
    "        matching_rec += int((lines[3].split(':'))[1])\n",
    "        avg_query += int((lines[4].split(':'))[1])\n",
    "        avg_verif += int((lines[5].split(':'))[1])\n",
    "    returned_rec /= n_trials \n",
    "    matching_rec /= n_trials\n",
    "    avg_query /= n_trials\n",
    "    avg_verif /= n_trials\n",
    "    f.write('{},{},{},{},{}\\n'.format(c,returned_rec,matching_rec,avg_query,avg_verif))\n",
    "\n",
    "f.close()\n",
    "\n",
    "os.chdir(base_dir)\n",
    "print('Done!')"
   ]
  },
  {
   "cell_type": "code",
   "execution_count": 14,
   "id": "4e0cac91",
   "metadata": {},
   "outputs": [
    {
     "name": "stdout",
     "output_type": "stream",
     "text": [
      "\\begin{tabular}{rrrrr}\n",
      "\\toprule\n",
      " capacity &  returned &  matching &  avg\\_query &  avg\\_verif \\\\\n",
      "\\midrule\n",
      "        5 &      4175 &      4120 &      0.755 &     10.075 \\\\\n",
      "       10 &      4300 &      4120 &      0.469 &      6.412 \\\\\n",
      "       20 &      4800 &      4120 &      0.404 &      5.411 \\\\\n",
      "       30 &      5400 &      4120 &      0.386 &      4.625 \\\\\n",
      "       40 &      4800 &      4120 &      0.296 &      4.240 \\\\\n",
      "       50 &      7500 &      4120 &      0.482 &      5.124 \\\\\n",
      "       60 &      5600 &      4120 &      0.368 &      4.180 \\\\\n",
      "       70 &      4900 &      4120 &      0.305 &      3.732 \\\\\n",
      "       80 &      6400 &      4120 &      0.427 &      4.382 \\\\\n",
      "       90 &     11900 &      4120 &      0.732 &      6.818 \\\\\n",
      "      100 &     10000 &      4120 &      0.731 &      5.728 \\\\\n",
      "      250 &     20000 &      4120 &      1.314 &      9.026 \\\\\n",
      "      500 &     20000 &      4120 &      1.790 &      9.496 \\\\\n",
      "      750 &     20000 &      4120 &      1.566 &      9.597 \\\\\n",
      "     1000 &     20000 &      4120 &      1.633 &      9.776 \\\\\n",
      "\\bottomrule\n",
      "\\end{tabular}\n",
      "\n"
     ]
    }
   ],
   "source": [
    "df=pd.read_csv('./test_query_verification/test_capacity.csv')\n",
    "# Convert returned and matching columns to integer type.\n",
    "df = df.astype({'returned': int, 'matching': int})\n",
    "# Divide by 1000 to convert microseconds to milliseconds.\n",
    "df['avg_query'] /= 1000\n",
    "df['avg_verif'] /= 1000\n",
    "# Round the execution times to 3 decimal places.\n",
    "df = df.round({'avg_query': 3, 'avg_verif': 3})\n",
    "print(df.to_latex(index=False))"
   ]
  },
  {
   "cell_type": "code",
   "execution_count": 22,
   "id": "c3185e88",
   "metadata": {},
   "outputs": [
    {
     "name": "stderr",
     "output_type": "stream",
     "text": [
      "The PostScript backend does not support transparency; partially transparent artists will be rendered opaque.\n",
      "The PostScript backend does not support transparency; partially transparent artists will be rendered opaque.\n"
     ]
    },
    {
     "data": {
      "image/png": "[encoded data removed]",
      "text/plain": [
       "<Figure size 360x360 with 1 Axes>"
      ]
     },
     "metadata": {
      "needs_background": "light"
     },
     "output_type": "display_data"
    }
   ],
   "source": [
    "plt.figure(figsize=(5, 5))\n",
    "plt.title(\"MR-tree query and verification time (m = 2×10⁵, f ≈ 20%)\")\n",
    "plt.xticks(df['capacity'])\n",
    "plt.xscale('log')\n",
    "plt.plot(df['capacity'], df['avg_query'], marker='o', color='black', label='Avg. query')\n",
    "plt.plot(df['capacity'], df['avg_verif'], marker='o', color='grey', label='Avg. verif.')\n",
    "#plt.axvline(75, 0, 1, color='gray', linestyle='--')\n",
    "plt.ylabel(\"Time [ms]\")\n",
    "plt.xlabel(\"Page capacity (c)\")\n",
    "plt.legend()\n",
    "plt.savefig(\"test_query_verification/test-capacity.eps\", format='eps', bbox_inches='tight')"
   ]
  },
  {
   "cell_type": "code",
   "execution_count": null,
   "id": "5c0b387d",
   "metadata": {},
   "outputs": [],
   "source": []
  }
 ],
 "metadata": {
  "kernelspec": {
   "display_name": "Python 3",
   "language": "python",
   "name": "python3"
  },
  "language_info": {
   "codemirror_mode": {
    "name": "ipython",
    "version": 3
   },
   "file_extension": ".py",
   "mimetype": "text/x-python",
   "name": "python",
   "nbconvert_exporter": "python",
   "pygments_lexer": "ipython3",
   "version": "3.8.2"
  }
 },
 "nbformat": 4,
 "nbformat_minor": 5
}
