{
 "cells": [
  {
   "cell_type": "code",
   "execution_count": 1,
   "id": "41570c77",
   "metadata": {},
   "outputs": [],
   "source": [
    "import pandas as pd\n",
    "import numpy as np\n",
    "import matplotlib.pyplot as plt"
   ]
  },
  {
   "cell_type": "code",
   "execution_count": 25,
   "id": "10b4ebab",
   "metadata": {},
   "outputs": [],
   "source": [
    "year_min = 2012\n",
    "year_max = 2020\n",
    "columns = [\"REPORT_ID\", \"Year\", \"Month\", \"Day\", \"Time\", \"ACCLOC_X\", \"ACCLOC_Y\"]\n",
    "result = None\n",
    "for y in range(year_min, year_max + 1):\n",
    "    df = (pd.read_csv('data/{}_DATA_SA_Crash.csv'.format(y)))[columns]\n",
    "    if (result is None): \n",
    "        result = df\n",
    "    else:\n",
    "        result = result.append(df, ignore_index=True)\n",
    "# Drop rows with NaNs and write the output to a CSV file.\n",
    "result = result.dropna()\n",
    "result.to_csv('crash_data.csv')"
   ]
  },
  {
   "cell_type": "code",
   "execution_count": 27,
   "id": "fda0a89c",
   "metadata": {},
   "outputs": [
    {
     "data": {
      "text/html": [
       "<div>\n",
       "<style scoped>\n",
       "    .dataframe tbody tr th:only-of-type {\n",
       "        vertical-align: middle;\n",
       "    }\n",
       "\n",
       "    .dataframe tbody tr th {\n",
       "        vertical-align: top;\n",
       "    }\n",
       "\n",
       "    .dataframe thead th {\n",
       "        text-align: right;\n",
       "    }\n",
       "</style>\n",
       "<table border=\"1\" class=\"dataframe\">\n",
       "  <thead>\n",
       "    <tr style=\"text-align: right;\">\n",
       "      <th></th>\n",
       "      <th>REPORT_ID</th>\n",
       "      <th>Year</th>\n",
       "      <th>Month</th>\n",
       "      <th>Day</th>\n",
       "      <th>Time</th>\n",
       "      <th>ACCLOC_X</th>\n",
       "      <th>ACCLOC_Y</th>\n",
       "    </tr>\n",
       "  </thead>\n",
       "  <tbody>\n",
       "    <tr>\n",
       "      <th>0</th>\n",
       "      <td>2012-1-27/05/2021</td>\n",
       "      <td>2012</td>\n",
       "      <td>January</td>\n",
       "      <td>Sunday</td>\n",
       "      <td>04:30 pm</td>\n",
       "      <td>1330659.71</td>\n",
       "      <td>1671795.87</td>\n",
       "    </tr>\n",
       "    <tr>\n",
       "      <th>1</th>\n",
       "      <td>2012-2-27/05/2021</td>\n",
       "      <td>2012</td>\n",
       "      <td>January</td>\n",
       "      <td>Sunday</td>\n",
       "      <td>09:10 am</td>\n",
       "      <td>1329400.16</td>\n",
       "      <td>1668462.66</td>\n",
       "    </tr>\n",
       "    <tr>\n",
       "      <th>2</th>\n",
       "      <td>2012-3-27/05/2021</td>\n",
       "      <td>2012</td>\n",
       "      <td>January</td>\n",
       "      <td>Wednesday</td>\n",
       "      <td>11:30 am</td>\n",
       "      <td>1313748.22</td>\n",
       "      <td>1624241.28</td>\n",
       "    </tr>\n",
       "    <tr>\n",
       "      <th>3</th>\n",
       "      <td>2012-4-27/05/2021</td>\n",
       "      <td>2012</td>\n",
       "      <td>January</td>\n",
       "      <td>Wednesday</td>\n",
       "      <td>10:20 am</td>\n",
       "      <td>1325326.77</td>\n",
       "      <td>1672425.55</td>\n",
       "    </tr>\n",
       "    <tr>\n",
       "      <th>4</th>\n",
       "      <td>2012-5-27/05/2021</td>\n",
       "      <td>2012</td>\n",
       "      <td>January</td>\n",
       "      <td>Wednesday</td>\n",
       "      <td>03:30 pm</td>\n",
       "      <td>1326056.45</td>\n",
       "      <td>1673028.42</td>\n",
       "    </tr>\n",
       "  </tbody>\n",
       "</table>\n",
       "</div>"
      ],
      "text/plain": [
       "           REPORT_ID  Year    Month        Day      Time    ACCLOC_X  \\\n",
       "0  2012-1-27/05/2021  2012  January     Sunday  04:30 pm  1330659.71   \n",
       "1  2012-2-27/05/2021  2012  January     Sunday  09:10 am  1329400.16   \n",
       "2  2012-3-27/05/2021  2012  January  Wednesday  11:30 am  1313748.22   \n",
       "3  2012-4-27/05/2021  2012  January  Wednesday  10:20 am  1325326.77   \n",
       "4  2012-5-27/05/2021  2012  January  Wednesday  03:30 pm  1326056.45   \n",
       "\n",
       "     ACCLOC_Y  \n",
       "0  1671795.87  \n",
       "1  1668462.66  \n",
       "2  1624241.28  \n",
       "3  1672425.55  \n",
       "4  1673028.42  "
      ]
     },
     "execution_count": 27,
     "metadata": {},
     "output_type": "execute_result"
    }
   ],
   "source": [
    "result.head()"
   ]
  }
 ],
 "metadata": {
  "kernelspec": {
   "display_name": "Python 3",
   "language": "python",
   "name": "python3"
  },
  "language_info": {
   "codemirror_mode": {
    "name": "ipython",
    "version": 3
   },
   "file_extension": ".py",
   "mimetype": "text/x-python",
   "name": "python",
   "nbconvert_exporter": "python",
   "pygments_lexer": "ipython3",
   "version": "3.8.2"
  }
 },
 "nbformat": 4,
 "nbformat_minor": 5
}
