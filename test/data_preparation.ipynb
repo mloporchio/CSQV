{
 "cells": [
  {
   "cell_type": "code",
   "execution_count": 1,
   "id": "895c1197",
   "metadata": {},
   "outputs": [],
   "source": [
    "import pandas as pd\n",
    "import numpy as np\n",
    "import matplotlib.pyplot as plt"
   ]
  },
  {
   "cell_type": "markdown",
   "id": "dbfe3ffa",
   "metadata": {},
   "source": [
    "# Main data set generation"
   ]
  },
  {
   "cell_type": "markdown",
   "id": "54597672",
   "metadata": {},
   "source": [
    "We generate a single test data set starting from the original South Australia CSV files."
   ]
  },
  {
   "cell_type": "raw",
   "id": "c6664bd5",
   "metadata": {},
   "source": [
    "year_min = 2012\n",
    "year_max = 2020\n",
    "columns = [\"REPORT_ID\", \"Year\", \"Month\", \"Day\", \"Time\", \"ACCLOC_X\", \"ACCLOC_Y\"]\n",
    "result = None\n",
    "for y in range(year_min, year_max + 1):\n",
    "    df = (pd.read_csv('data/{}_DATA_SA_Crash.csv'.format(y)))[columns]\n",
    "    if (result is None): \n",
    "        result = df\n",
    "    else:\n",
    "        result = result.append(df, ignore_index=True)\n",
    "# Drop rows with NaNs and write the output to a CSV file.\n",
    "result = result.dropna()\n",
    "# Transform to integer coordinates.\n",
    "result['ACCLOC_X'] *= 100\n",
    "result['ACCLOC_Y'] *= 100\n",
    "result = result.astype({'ACCLOC_X': int, 'ACCLOC_Y': int})\n",
    "# Rename columns.\n",
    "result = result.rename(columns={'REPORT_ID': 'ID', 'ACCLOC_X':'x', 'ACCLOC_Y':'y'})\n",
    "# Save to file.\n",
    "result.to_csv('data/crash_data.csv', index=False)"
   ]
  },
  {
   "cell_type": "markdown",
   "id": "3b75d433",
   "metadata": {},
   "source": [
    "Import the generated data set and print some rows."
   ]
  },
  {
   "cell_type": "code",
   "execution_count": 2,
   "id": "a66277f2",
   "metadata": {},
   "outputs": [
    {
     "name": "stdout",
     "output_type": "stream",
     "text": [
      "Number of records = 135333\n",
      "xmin = 41223737\n",
      "ymin = 131498456\n",
      "xmax = 156569723\n",
      "ymax = 266016550\n",
      "\n"
     ]
    },
    {
     "data": {
      "text/html": [
       "<div>\n",
       "<style scoped>\n",
       "    .dataframe tbody tr th:only-of-type {\n",
       "        vertical-align: middle;\n",
       "    }\n",
       "\n",
       "    .dataframe tbody tr th {\n",
       "        vertical-align: top;\n",
       "    }\n",
       "\n",
       "    .dataframe thead th {\n",
       "        text-align: right;\n",
       "    }\n",
       "</style>\n",
       "<table border=\"1\" class=\"dataframe\">\n",
       "  <thead>\n",
       "    <tr style=\"text-align: right;\">\n",
       "      <th></th>\n",
       "      <th>ID</th>\n",
       "      <th>Year</th>\n",
       "      <th>Month</th>\n",
       "      <th>Day</th>\n",
       "      <th>Time</th>\n",
       "      <th>x</th>\n",
       "      <th>y</th>\n",
       "    </tr>\n",
       "  </thead>\n",
       "  <tbody>\n",
       "    <tr>\n",
       "      <th>0</th>\n",
       "      <td>2012-1-27/05/2021</td>\n",
       "      <td>2012</td>\n",
       "      <td>January</td>\n",
       "      <td>Sunday</td>\n",
       "      <td>04:30 pm</td>\n",
       "      <td>133065971</td>\n",
       "      <td>167179587</td>\n",
       "    </tr>\n",
       "    <tr>\n",
       "      <th>1</th>\n",
       "      <td>2012-2-27/05/2021</td>\n",
       "      <td>2012</td>\n",
       "      <td>January</td>\n",
       "      <td>Sunday</td>\n",
       "      <td>09:10 am</td>\n",
       "      <td>132940015</td>\n",
       "      <td>166846266</td>\n",
       "    </tr>\n",
       "    <tr>\n",
       "      <th>2</th>\n",
       "      <td>2012-3-27/05/2021</td>\n",
       "      <td>2012</td>\n",
       "      <td>January</td>\n",
       "      <td>Wednesday</td>\n",
       "      <td>11:30 am</td>\n",
       "      <td>131374822</td>\n",
       "      <td>162424128</td>\n",
       "    </tr>\n",
       "    <tr>\n",
       "      <th>3</th>\n",
       "      <td>2012-4-27/05/2021</td>\n",
       "      <td>2012</td>\n",
       "      <td>January</td>\n",
       "      <td>Wednesday</td>\n",
       "      <td>10:20 am</td>\n",
       "      <td>132532677</td>\n",
       "      <td>167242555</td>\n",
       "    </tr>\n",
       "    <tr>\n",
       "      <th>4</th>\n",
       "      <td>2012-5-27/05/2021</td>\n",
       "      <td>2012</td>\n",
       "      <td>January</td>\n",
       "      <td>Wednesday</td>\n",
       "      <td>03:30 pm</td>\n",
       "      <td>132605645</td>\n",
       "      <td>167302842</td>\n",
       "    </tr>\n",
       "  </tbody>\n",
       "</table>\n",
       "</div>"
      ],
      "text/plain": [
       "                  ID  Year    Month        Day      Time          x          y\n",
       "0  2012-1-27/05/2021  2012  January     Sunday  04:30 pm  133065971  167179587\n",
       "1  2012-2-27/05/2021  2012  January     Sunday  09:10 am  132940015  166846266\n",
       "2  2012-3-27/05/2021  2012  January  Wednesday  11:30 am  131374822  162424128\n",
       "3  2012-4-27/05/2021  2012  January  Wednesday  10:20 am  132532677  167242555\n",
       "4  2012-5-27/05/2021  2012  January  Wednesday  03:30 pm  132605645  167302842"
      ]
     },
     "execution_count": 2,
     "metadata": {},
     "output_type": "execute_result"
    }
   ],
   "source": [
    "df = pd.read_csv('data/crash_data.csv')\n",
    "print('Number of records = {}'.format(len(df)))\n",
    "xmin, ymin, xmax, ymax = np.min(df['x']), np.min(df['y']), np.max(df['x']), np.max(df['y'])\n",
    "print('xmin = {}\\nymin = {}\\nxmax = {}\\nymax = {}\\n'.format(xmin, ymin, xmax, ymax))\n",
    "df.head()"
   ]
  },
  {
   "cell_type": "code",
   "execution_count": 3,
   "id": "a3be5ca6",
   "metadata": {},
   "outputs": [
    {
     "data": {
      "image/png": "[encoded data removed]",
      "text/plain": [
       "<Figure size 360x360 with 1 Axes>"
      ]
     },
     "metadata": {
      "needs_background": "light"
     },
     "output_type": "display_data"
    }
   ],
   "source": [
    "plt.figure(figsize=(5, 5))\n",
    "plt.xlabel(\"x\")\n",
    "plt.ylabel(\"y\")\n",
    "#plt.title(\"Car crash events in South Australia (2012-2020)\", y=1.05)\n",
    "plt.scatter(df.x, df.y, marker=\".\", color='gray', rasterized=True)\n",
    "plt.savefig(\"data/distribution.pdf\", format='pdf', dpi=500, bbox_inches='tight')"
   ]
  },
  {
   "cell_type": "raw",
   "id": "91476d98",
   "metadata": {},
   "source": [
    "def range_query(df, lx, ly, ux, uy):\n",
    "    return (df[(df.x >= lx) & (df.x <= ux) & (df.y >= ly) & (df.y <= uy)])\n",
    "\n",
    "def bounding_rect(df):\n",
    "    return (np.min(df['x']), np.min(df['y']), np.max(df['x']), np.max(df['y']))"
   ]
  },
  {
   "cell_type": "markdown",
   "id": "03114b5d",
   "metadata": {},
   "source": [
    "# Generate test data sets\n",
    "\n",
    "Generate test data sets with sizes $10^3 \\leq m \\leq 10^5$. \n",
    "Each data set contains $m$ random records selected from <code>crash_data.csv</code>."
   ]
  },
  {
   "cell_type": "raw",
   "id": "1393871a",
   "metadata": {},
   "source": [
    "sizes = [int(x) for x in np.linspace(1000, 100000, 25)]\n",
    "print(sizes)"
   ]
  },
  {
   "cell_type": "raw",
   "id": "3ade734f",
   "metadata": {},
   "source": [
    "for m in sizes:\n",
    "    sampled_df = df.sample(n=m).reset_index(drop=True)\n",
    "    sampled_df.to_csv('data/crash_data_{}.csv'.format(m), index=False)\n",
    "print('Done!')"
   ]
  },
  {
   "cell_type": "markdown",
   "id": "b870da84",
   "metadata": {},
   "source": [
    "Generate a test data set with $m=30000$ randomly sampled records. This will be used for tests on capacity and query/verification purposes."
   ]
  },
  {
   "cell_type": "raw",
   "id": "b99b4232",
   "metadata": {},
   "source": [
    "m = 30000\n",
    "sampled_df = df.sample(n=m).reset_index(drop=True)\n",
    "sampled_df.to_csv('data/crash_data_{}.csv'.format(m), index=False)\n",
    "print('Done!')"
   ]
  }
 ],
 "metadata": {
  "kernelspec": {
   "display_name": "Python 3",
   "language": "python",
   "name": "python3"
  },
  "language_info": {
   "codemirror_mode": {
    "name": "ipython",
    "version": 3
   },
   "file_extension": ".py",
   "mimetype": "text/x-python",
   "name": "python",
   "nbconvert_exporter": "python",
   "pygments_lexer": "ipython3",
   "version": "3.8.2"
  }
 },
 "nbformat": 4,
 "nbformat_minor": 5
}
