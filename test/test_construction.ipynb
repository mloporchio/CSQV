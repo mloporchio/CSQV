{
 "cells": [
  {
   "cell_type": "code",
   "execution_count": 1,
   "id": "39870f68",
   "metadata": {},
   "outputs": [],
   "source": [
    "import pandas as pd\n",
    "import numpy as np\n",
    "import matplotlib.pyplot as plt\n",
    "import os\n",
    "import struct\n",
    "import subprocess\n",
    "import sys"
   ]
  },
  {
   "cell_type": "code",
   "execution_count": 2,
   "id": "04c625f7",
   "metadata": {},
   "outputs": [],
   "source": [
    "base_dir = os.getcwd()\n",
    "exec_dir = '..'"
   ]
  },
  {
   "cell_type": "code",
   "execution_count": 3,
   "id": "9690fdce",
   "metadata": {},
   "outputs": [
    {
     "name": "stdout",
     "output_type": "stream",
     "text": [
      "[1000, 2500, 5000, 7500, 10000, 20000, 30000, 40000, 50000, 60000, 70000, 80000, 90000, 100000]\n"
     ]
    }
   ],
   "source": [
    "sizes = [1000, 2500, 5000, 7500, 10000, 20000, 30000, 40000, 50000, 60000, 70000, 80000, 90000, 100000]\n",
    "print(sizes)"
   ]
  },
  {
   "cell_type": "raw",
   "id": "692597c3",
   "metadata": {},
   "source": [
    "# Create slices of the original data set.\n",
    "df = pd.read_csv('{}/data/crash_data.csv'.format(base_dir))\n",
    "# Shuffle the rows of the original data set.\n",
    "df = df.sample(frac=1).reset_index(drop=True)\n",
    "for s in sizes:\n",
    "    part = df.head(s)\n",
    "    part.to_csv('{}/test_construction/crash_data_{}.csv'.format(base_dir, s), index=False)"
   ]
  },
  {
   "cell_type": "markdown",
   "id": "ece6677b",
   "metadata": {},
   "source": [
    "# Construction test 1\n",
    "\n",
    "First experiment: keep the page capacity constant and change the number of input records. Then measure how the construction time varies."
   ]
  },
  {
   "cell_type": "code",
   "execution_count": 43,
   "id": "797f9887",
   "metadata": {},
   "outputs": [
    {
     "name": "stdout",
     "output_type": "stream",
     "text": [
      "Testing m=1000...\n",
      "Input file: /Users/matteo/CSQV/test/test_construction/crash_data_1000.csv\n",
      "895.35\n",
      "Testing m=2500...\n",
      "Input file: /Users/matteo/CSQV/test/test_construction/crash_data_2500.csv\n",
      "2073.65\n",
      "Testing m=5000...\n",
      "Input file: /Users/matteo/CSQV/test/test_construction/crash_data_5000.csv\n",
      "4015.5\n",
      "Testing m=7500...\n",
      "Input file: /Users/matteo/CSQV/test/test_construction/crash_data_7500.csv\n",
      "5767.3\n",
      "Testing m=10000...\n",
      "Input file: /Users/matteo/CSQV/test/test_construction/crash_data_10000.csv\n",
      "7774.05\n",
      "Testing m=20000...\n",
      "Input file: /Users/matteo/CSQV/test/test_construction/crash_data_20000.csv\n",
      "16118.75\n",
      "Testing m=30000...\n",
      "Input file: /Users/matteo/CSQV/test/test_construction/crash_data_30000.csv\n",
      "23274.85\n",
      "Testing m=40000...\n",
      "Input file: /Users/matteo/CSQV/test/test_construction/crash_data_40000.csv\n",
      "32030.35\n",
      "Testing m=50000...\n",
      "Input file: /Users/matteo/CSQV/test/test_construction/crash_data_50000.csv\n",
      "42246.05\n",
      "Testing m=60000...\n",
      "Input file: /Users/matteo/CSQV/test/test_construction/crash_data_60000.csv\n",
      "48624.25\n",
      "Testing m=70000...\n",
      "Input file: /Users/matteo/CSQV/test/test_construction/crash_data_70000.csv\n",
      "55697.55\n",
      "Testing m=80000...\n",
      "Input file: /Users/matteo/CSQV/test/test_construction/crash_data_80000.csv\n",
      "66340.85\n",
      "Testing m=90000...\n",
      "Input file: /Users/matteo/CSQV/test/test_construction/crash_data_90000.csv\n",
      "73100.85\n",
      "Testing m=100000...\n",
      "Input file: /Users/matteo/CSQV/test/test_construction/crash_data_100000.csv\n",
      "80136.9\n",
      "Done!\n"
     ]
    }
   ],
   "source": [
    "# Test the implementation.\n",
    "\n",
    "capacity = 100\n",
    "ntrials = 20\n",
    "output_file1 = '{}/test_construction/test_construction.csv'.format(base_dir)\n",
    "\n",
    "f = open(output_file1, 'w')\n",
    "\n",
    "os.chdir(exec_dir)\n",
    "\n",
    "for m in sizes:\n",
    "    if (m == 0): \n",
    "        continue\n",
    "    print('Testing m={}...'.format(m))\n",
    "    input_file = \"{}/test_construction/crash_data_{}.csv\".format(base_dir, m)\n",
    "    print('Input file: ' + input_file)\n",
    "    avg = 0\n",
    "    for i in range(0, ntrials):\n",
    "        p = subprocess.run([\"./TestIndex\", input_file, str(capacity)], capture_output=True, check=True)\n",
    "        lines = p.stdout.decode('utf-8').splitlines()\n",
    "        avg += int((lines[3].split(':'))[1])\n",
    "    avg = avg / ntrials\n",
    "    print(avg)\n",
    "    f.write('{},{}\\n'.format(m, avg))\n",
    "\n",
    "f.close()\n",
    "\n",
    "os.chdir(base_dir)\n",
    "\n",
    "print('Done!')"
   ]
  },
  {
   "cell_type": "code",
   "execution_count": 44,
   "id": "58f7a270",
   "metadata": {},
   "outputs": [
    {
     "data": {
      "text/html": [
       "<div>\n",
       "<style scoped>\n",
       "    .dataframe tbody tr th:only-of-type {\n",
       "        vertical-align: middle;\n",
       "    }\n",
       "\n",
       "    .dataframe tbody tr th {\n",
       "        vertical-align: top;\n",
       "    }\n",
       "\n",
       "    .dataframe thead th {\n",
       "        text-align: right;\n",
       "    }\n",
       "</style>\n",
       "<table border=\"1\" class=\"dataframe\">\n",
       "  <thead>\n",
       "    <tr style=\"text-align: right;\">\n",
       "      <th></th>\n",
       "      <th>m</th>\n",
       "      <th>time</th>\n",
       "    </tr>\n",
       "  </thead>\n",
       "  <tbody>\n",
       "    <tr>\n",
       "      <th>0</th>\n",
       "      <td>1000</td>\n",
       "      <td>0.895</td>\n",
       "    </tr>\n",
       "    <tr>\n",
       "      <th>1</th>\n",
       "      <td>2500</td>\n",
       "      <td>2.074</td>\n",
       "    </tr>\n",
       "    <tr>\n",
       "      <th>2</th>\n",
       "      <td>5000</td>\n",
       "      <td>4.016</td>\n",
       "    </tr>\n",
       "    <tr>\n",
       "      <th>3</th>\n",
       "      <td>7500</td>\n",
       "      <td>5.767</td>\n",
       "    </tr>\n",
       "    <tr>\n",
       "      <th>4</th>\n",
       "      <td>10000</td>\n",
       "      <td>7.774</td>\n",
       "    </tr>\n",
       "    <tr>\n",
       "      <th>5</th>\n",
       "      <td>20000</td>\n",
       "      <td>16.119</td>\n",
       "    </tr>\n",
       "    <tr>\n",
       "      <th>6</th>\n",
       "      <td>30000</td>\n",
       "      <td>23.275</td>\n",
       "    </tr>\n",
       "    <tr>\n",
       "      <th>7</th>\n",
       "      <td>40000</td>\n",
       "      <td>32.030</td>\n",
       "    </tr>\n",
       "    <tr>\n",
       "      <th>8</th>\n",
       "      <td>50000</td>\n",
       "      <td>42.246</td>\n",
       "    </tr>\n",
       "    <tr>\n",
       "      <th>9</th>\n",
       "      <td>60000</td>\n",
       "      <td>48.624</td>\n",
       "    </tr>\n",
       "    <tr>\n",
       "      <th>10</th>\n",
       "      <td>70000</td>\n",
       "      <td>55.698</td>\n",
       "    </tr>\n",
       "    <tr>\n",
       "      <th>11</th>\n",
       "      <td>80000</td>\n",
       "      <td>66.341</td>\n",
       "    </tr>\n",
       "    <tr>\n",
       "      <th>12</th>\n",
       "      <td>90000</td>\n",
       "      <td>73.101</td>\n",
       "    </tr>\n",
       "    <tr>\n",
       "      <th>13</th>\n",
       "      <td>100000</td>\n",
       "      <td>80.137</td>\n",
       "    </tr>\n",
       "  </tbody>\n",
       "</table>\n",
       "</div>"
      ],
      "text/plain": [
       "         m    time\n",
       "0     1000   0.895\n",
       "1     2500   2.074\n",
       "2     5000   4.016\n",
       "3     7500   5.767\n",
       "4    10000   7.774\n",
       "5    20000  16.119\n",
       "6    30000  23.275\n",
       "7    40000  32.030\n",
       "8    50000  42.246\n",
       "9    60000  48.624\n",
       "10   70000  55.698\n",
       "11   80000  66.341\n",
       "12   90000  73.101\n",
       "13  100000  80.137"
      ]
     },
     "execution_count": 44,
     "metadata": {},
     "output_type": "execute_result"
    }
   ],
   "source": [
    "# Print the results.\n",
    "pd.set_option(\"display.precision\", 3)\n",
    "df1 = pd.read_csv(output_file1, header=None)\n",
    "df1.columns = ['m', 'time']\n",
    "df1.sort_values(ascending=True, by='m', inplace=True)\n",
    "df1['time'] /= 1000\n",
    "df1"
   ]
  },
  {
   "cell_type": "code",
   "execution_count": 45,
   "id": "7050078a",
   "metadata": {},
   "outputs": [
    {
     "name": "stdout",
     "output_type": "stream",
     "text": [
      "\\begin{tabular}{rr}\n",
      "\\toprule\n",
      "     m &   time \\\\\n",
      "\\midrule\n",
      "  1000 &  0.895 \\\\\n",
      "  2500 &  2.074 \\\\\n",
      "  5000 &  4.016 \\\\\n",
      "  7500 &  5.767 \\\\\n",
      " 10000 &  7.774 \\\\\n",
      " 20000 & 16.119 \\\\\n",
      " 30000 & 23.275 \\\\\n",
      " 40000 & 32.030 \\\\\n",
      " 50000 & 42.246 \\\\\n",
      " 60000 & 48.624 \\\\\n",
      " 70000 & 55.698 \\\\\n",
      " 80000 & 66.341 \\\\\n",
      " 90000 & 73.101 \\\\\n",
      "100000 & 80.137 \\\\\n",
      "\\bottomrule\n",
      "\\end{tabular}\n",
      "\n"
     ]
    }
   ],
   "source": [
    "print(df1.to_latex(index=False, escape=False))"
   ]
  },
  {
   "cell_type": "code",
   "execution_count": 46,
   "id": "becfe825",
   "metadata": {},
   "outputs": [
    {
     "data": {
      "image/png": "[encoded data removed]",
      "text/plain": [
       "<Figure size 360x360 with 1 Axes>"
      ]
     },
     "metadata": {
      "needs_background": "light"
     },
     "output_type": "display_data"
    }
   ],
   "source": [
    "# Generate a plot.\n",
    "plt.figure(figsize=(5, 5))\n",
    "plt.title(\"MR-tree construction time (c = 100)\")\n",
    "plt.plot(df1['m'], df1['time'], marker='o', color='black')\n",
    "plt.ylabel(\"Time [ms]\")\n",
    "plt.xlabel(\"Number of records (m)\")\n",
    "plt.savefig(\"{}/test_construction/test-construction.eps\".format(base_dir), format='eps', bbox_inches='tight')"
   ]
  },
  {
   "cell_type": "markdown",
   "id": "82a78200",
   "metadata": {},
   "source": [
    "# Construction test 2\n",
    "\n",
    "We fix the number of records $m$ and change the capacity $c$."
   ]
  },
  {
   "cell_type": "code",
   "execution_count": 19,
   "id": "ab2b18b3",
   "metadata": {},
   "outputs": [
    {
     "name": "stdout",
     "output_type": "stream",
     "text": [
      "[5, 10, 25, 50, 75, 100, 200, 300, 400, 500, 600, 700, 800, 900, 1000, 2000, 5000]\n"
     ]
    }
   ],
   "source": [
    "m = 10000\n",
    "ntrials = 20\n",
    "output_file2 = '{}/test_construction/test_construction_capacity.csv'.format(base_dir)\n",
    "capacities = [5, 10, 25, 50, 75] + [100*i for i in range(1, 10+1)] + [2000, 5000]\n",
    "print(capacities)"
   ]
  },
  {
   "cell_type": "code",
   "execution_count": 20,
   "id": "f2f66a01",
   "metadata": {},
   "outputs": [
    {
     "name": "stdout",
     "output_type": "stream",
     "text": [
      "Testing c=5...\n",
      "Input file: /Users/matteo/CSQV/test/test_construction/crash_data_10000.csv\n",
      "Testing c=10...\n",
      "Input file: /Users/matteo/CSQV/test/test_construction/crash_data_10000.csv\n",
      "Testing c=25...\n",
      "Input file: /Users/matteo/CSQV/test/test_construction/crash_data_10000.csv\n",
      "Testing c=50...\n",
      "Input file: /Users/matteo/CSQV/test/test_construction/crash_data_10000.csv\n",
      "Testing c=75...\n",
      "Input file: /Users/matteo/CSQV/test/test_construction/crash_data_10000.csv\n",
      "Testing c=100...\n",
      "Input file: /Users/matteo/CSQV/test/test_construction/crash_data_10000.csv\n",
      "Testing c=200...\n",
      "Input file: /Users/matteo/CSQV/test/test_construction/crash_data_10000.csv\n",
      "Testing c=300...\n",
      "Input file: /Users/matteo/CSQV/test/test_construction/crash_data_10000.csv\n",
      "Testing c=400...\n",
      "Input file: /Users/matteo/CSQV/test/test_construction/crash_data_10000.csv\n",
      "Testing c=500...\n",
      "Input file: /Users/matteo/CSQV/test/test_construction/crash_data_10000.csv\n",
      "Testing c=600...\n",
      "Input file: /Users/matteo/CSQV/test/test_construction/crash_data_10000.csv\n",
      "Testing c=700...\n",
      "Input file: /Users/matteo/CSQV/test/test_construction/crash_data_10000.csv\n",
      "Testing c=800...\n",
      "Input file: /Users/matteo/CSQV/test/test_construction/crash_data_10000.csv\n",
      "Testing c=900...\n",
      "Input file: /Users/matteo/CSQV/test/test_construction/crash_data_10000.csv\n",
      "Testing c=1000...\n",
      "Input file: /Users/matteo/CSQV/test/test_construction/crash_data_10000.csv\n",
      "Testing c=2000...\n",
      "Input file: /Users/matteo/CSQV/test/test_construction/crash_data_10000.csv\n",
      "Testing c=5000...\n",
      "Input file: /Users/matteo/CSQV/test/test_construction/crash_data_10000.csv\n",
      "Done!\n"
     ]
    }
   ],
   "source": [
    "# Test the implementation.\n",
    "\n",
    "f = open(output_file2, 'w')\n",
    "f.write('c,leaves,height,avg_time\\n')\n",
    "\n",
    "os.chdir(exec_dir)\n",
    "\n",
    "for c in capacities:\n",
    "    print('Testing c={}...'.format(c))\n",
    "    input_file = '{}/test_construction/crash_data_{}.csv'.format(base_dir, m)\n",
    "    print('Input file: ' + input_file)\n",
    "    avg_time, height, leaves = 0, 0, 0\n",
    "    for i in range(0, ntrials):\n",
    "        p = subprocess.run(['./TestIndex', input_file, str(c)], capture_output=True, check=True)\n",
    "        lines = p.stdout.decode('utf-8').splitlines()\n",
    "        leaves += int((lines[3].split(':'))[1])\n",
    "        height += int((lines[4].split(':'))[1])\n",
    "        avg_time += int((lines[5].split(':'))[1])\n",
    "    leaves /= ntrials\n",
    "    height /= ntrials\n",
    "    avg_time /= ntrials\n",
    "    f.write('{},{},{},{}\\n'.format(c, leaves, height, avg_time))\n",
    "\n",
    "f.close()\n",
    "\n",
    "os.chdir(base_dir)\n",
    "print('Done!')"
   ]
  },
  {
   "cell_type": "code",
   "execution_count": 21,
   "id": "63c85af0",
   "metadata": {},
   "outputs": [
    {
     "name": "stdout",
     "output_type": "stream",
     "text": [
      "\\begin{tabular}{rrrr}\n",
      "\\toprule\n",
      "   c &  leaves &  height &  avg\\_time \\\\\n",
      "\\midrule\n",
      "   5 &    2000 &       5 &    14.618 \\\\\n",
      "  10 &    1000 &       3 &    10.874 \\\\\n",
      "  25 &     400 &       2 &     8.713 \\\\\n",
      "  50 &     200 &       2 &     7.778 \\\\\n",
      "  75 &     134 &       2 &     7.627 \\\\\n",
      " 100 &     100 &       1 &     7.615 \\\\\n",
      " 200 &      50 &       1 &     7.415 \\\\\n",
      " 300 &      34 &       1 &     8.776 \\\\\n",
      " 400 &      25 &       1 &     8.421 \\\\\n",
      " 500 &      20 &       1 &     8.745 \\\\\n",
      " 600 &      17 &       1 &     8.751 \\\\\n",
      " 700 &      15 &       1 &     8.239 \\\\\n",
      " 800 &      13 &       1 &     8.206 \\\\\n",
      " 900 &      12 &       1 &     8.105 \\\\\n",
      "1000 &      10 &       1 &     8.113 \\\\\n",
      "2000 &       5 &       1 &     8.108 \\\\\n",
      "5000 &       2 &       1 &     7.879 \\\\\n",
      "\\bottomrule\n",
      "\\end{tabular}\n",
      "\n"
     ]
    }
   ],
   "source": [
    "# Print the results.\n",
    "df2 = pd.read_csv(output_file2)\n",
    "# Convert returned and matching columns to integer type.\n",
    "df2 = df2.astype({'leaves': int, 'height': int})\n",
    "# Divide by 1000 to convert microseconds to milliseconds.\n",
    "df2['avg_time'] /= 1000\n",
    "# Round the execution times to 3 decimal places.\n",
    "df = df2.round({'avg_time': 3})\n",
    "print(df2.to_latex(index=False))"
   ]
  },
  {
   "cell_type": "code",
   "execution_count": 18,
   "id": "c2561dc9",
   "metadata": {},
   "outputs": [
    {
     "data": {
      "text/plain": [
       "8.040566666666665"
      ]
     },
     "execution_count": 18,
     "metadata": {},
     "output_type": "execute_result"
    }
   ],
   "source": [
    "np.mean(df2['avg_time'])"
   ]
  },
  {
   "cell_type": "code",
   "execution_count": null,
   "id": "017208af",
   "metadata": {},
   "outputs": [],
   "source": []
  }
 ],
 "metadata": {
  "kernelspec": {
   "display_name": "Python 3",
   "language": "python",
   "name": "python3"
  },
  "language_info": {
   "codemirror_mode": {
    "name": "ipython",
    "version": 3
   },
   "file_extension": ".py",
   "mimetype": "text/x-python",
   "name": "python",
   "nbconvert_exporter": "python",
   "pygments_lexer": "ipython3",
   "version": "3.8.2"
  }
 },
 "nbformat": 4,
 "nbformat_minor": 5
}
