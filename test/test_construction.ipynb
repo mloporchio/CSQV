{
 "cells": [
  {
   "cell_type": "code",
   "execution_count": 1,
   "id": "39870f68",
   "metadata": {},
   "outputs": [],
   "source": [
    "import pandas as pd\n",
    "import numpy as np\n",
    "import matplotlib.pyplot as plt\n",
    "import os\n",
    "import struct\n",
    "import subprocess\n",
    "import sys"
   ]
  },
  {
   "cell_type": "code",
   "execution_count": 2,
   "id": "04c625f7",
   "metadata": {},
   "outputs": [],
   "source": [
    "base_dir = os.getcwd()\n",
    "exec_dir = '..'"
   ]
  },
  {
   "cell_type": "markdown",
   "id": "ece6677b",
   "metadata": {},
   "source": [
    "# Construction test 1\n",
    "\n",
    "First experiment: keep the page capacity constant and change the number of input records. Then measure how the construction time varies.\n"
   ]
  },
  {
   "cell_type": "code",
   "execution_count": 3,
   "id": "2e00e8b1",
   "metadata": {
    "scrolled": true
   },
   "outputs": [],
   "source": [
    "sizes = [int(i/100*100000) for i in np.linspace(10,100,num=10)]"
   ]
  },
  {
   "cell_type": "code",
   "execution_count": 4,
   "id": "81233db1",
   "metadata": {},
   "outputs": [],
   "source": [
    "# Create slices of the original data set.\n",
    "df = pd.read_csv('{}/data/crash_data.csv'.format(base_dir))\n",
    "for s in sizes:\n",
    "    part = df.head(s)\n",
    "    part.to_csv('{}/test_construction/crash_data_{}.csv'.format(base_dir, s), index=False)"
   ]
  },
  {
   "cell_type": "code",
   "execution_count": 12,
   "id": "797f9887",
   "metadata": {},
   "outputs": [
    {
     "name": "stdout",
     "output_type": "stream",
     "text": [
      "Testing m=10000...\n",
      "Input file: /Users/matteo/CSQV/test/test_construction/crash_data_10000.csv\n",
      "21716.75\n",
      "Testing m=20000...\n",
      "Input file: /Users/matteo/CSQV/test/test_construction/crash_data_20000.csv\n",
      "41385.4\n",
      "Testing m=30000...\n",
      "Input file: /Users/matteo/CSQV/test/test_construction/crash_data_30000.csv\n",
      "61645.85\n",
      "Testing m=40000...\n",
      "Input file: /Users/matteo/CSQV/test/test_construction/crash_data_40000.csv\n",
      "84283.15\n",
      "Testing m=50000...\n",
      "Input file: /Users/matteo/CSQV/test/test_construction/crash_data_50000.csv\n",
      "104563.0\n",
      "Testing m=60000...\n",
      "Input file: /Users/matteo/CSQV/test/test_construction/crash_data_60000.csv\n",
      "128169.45\n",
      "Testing m=70000...\n",
      "Input file: /Users/matteo/CSQV/test/test_construction/crash_data_70000.csv\n",
      "147458.55\n",
      "Testing m=80000...\n",
      "Input file: /Users/matteo/CSQV/test/test_construction/crash_data_80000.csv\n",
      "170136.0\n",
      "Testing m=90000...\n",
      "Input file: /Users/matteo/CSQV/test/test_construction/crash_data_90000.csv\n",
      "188938.15\n",
      "Testing m=100000...\n",
      "Input file: /Users/matteo/CSQV/test/test_construction/crash_data_100000.csv\n",
      "212238.75\n"
     ]
    }
   ],
   "source": [
    "# Test the implementation.\n",
    "\n",
    "capacity = 100\n",
    "ntrials = 20\n",
    "output_file = '{}/test_construction/test_construction.csv'.format(base_dir)\n",
    "\n",
    "f = open(output_file, 'w')\n",
    "\n",
    "os.chdir(exec_dir)\n",
    "\n",
    "for m in sizes:\n",
    "    if (m == 0): \n",
    "        continue\n",
    "    print('Testing m={}...'.format(m))\n",
    "    input_file = \"{}/test_construction/crash_data_{}.csv\".format(base_dir, m)\n",
    "    print('Input file: ' + input_file)\n",
    "    avg = 0\n",
    "    for i in range(0, ntrials):\n",
    "        p = subprocess.run([\"./TestIndex\", input_file, str(capacity)], capture_output=True, check=True)\n",
    "        lines = p.stdout.decode('utf-8').splitlines()\n",
    "        avg += int((lines[3].split(':'))[1])\n",
    "    avg = avg / ntrials\n",
    "    print(avg)\n",
    "    f.write('{},{}\\n'.format(m, avg))\n",
    "\n",
    "f.close()\n",
    "\n",
    "os.chdir(base_dir)"
   ]
  },
  {
   "cell_type": "code",
   "execution_count": 13,
   "id": "58f7a270",
   "metadata": {},
   "outputs": [
    {
     "data": {
      "text/html": [
       "<div>\n",
       "<style scoped>\n",
       "    .dataframe tbody tr th:only-of-type {\n",
       "        vertical-align: middle;\n",
       "    }\n",
       "\n",
       "    .dataframe tbody tr th {\n",
       "        vertical-align: top;\n",
       "    }\n",
       "\n",
       "    .dataframe thead th {\n",
       "        text-align: right;\n",
       "    }\n",
       "</style>\n",
       "<table border=\"1\" class=\"dataframe\">\n",
       "  <thead>\n",
       "    <tr style=\"text-align: right;\">\n",
       "      <th></th>\n",
       "      <th>m</th>\n",
       "      <th>time</th>\n",
       "    </tr>\n",
       "  </thead>\n",
       "  <tbody>\n",
       "    <tr>\n",
       "      <th>0</th>\n",
       "      <td>10000</td>\n",
       "      <td>21.717</td>\n",
       "    </tr>\n",
       "    <tr>\n",
       "      <th>1</th>\n",
       "      <td>20000</td>\n",
       "      <td>41.385</td>\n",
       "    </tr>\n",
       "    <tr>\n",
       "      <th>2</th>\n",
       "      <td>30000</td>\n",
       "      <td>61.646</td>\n",
       "    </tr>\n",
       "    <tr>\n",
       "      <th>3</th>\n",
       "      <td>40000</td>\n",
       "      <td>84.283</td>\n",
       "    </tr>\n",
       "    <tr>\n",
       "      <th>4</th>\n",
       "      <td>50000</td>\n",
       "      <td>104.563</td>\n",
       "    </tr>\n",
       "    <tr>\n",
       "      <th>5</th>\n",
       "      <td>60000</td>\n",
       "      <td>128.169</td>\n",
       "    </tr>\n",
       "    <tr>\n",
       "      <th>6</th>\n",
       "      <td>70000</td>\n",
       "      <td>147.459</td>\n",
       "    </tr>\n",
       "    <tr>\n",
       "      <th>7</th>\n",
       "      <td>80000</td>\n",
       "      <td>170.136</td>\n",
       "    </tr>\n",
       "    <tr>\n",
       "      <th>8</th>\n",
       "      <td>90000</td>\n",
       "      <td>188.938</td>\n",
       "    </tr>\n",
       "    <tr>\n",
       "      <th>9</th>\n",
       "      <td>100000</td>\n",
       "      <td>212.239</td>\n",
       "    </tr>\n",
       "  </tbody>\n",
       "</table>\n",
       "</div>"
      ],
      "text/plain": [
       "        m     time\n",
       "0   10000   21.717\n",
       "1   20000   41.385\n",
       "2   30000   61.646\n",
       "3   40000   84.283\n",
       "4   50000  104.563\n",
       "5   60000  128.169\n",
       "6   70000  147.459\n",
       "7   80000  170.136\n",
       "8   90000  188.938\n",
       "9  100000  212.239"
      ]
     },
     "execution_count": 13,
     "metadata": {},
     "output_type": "execute_result"
    }
   ],
   "source": [
    "# Print the results.\n",
    "pd.set_option(\"display.precision\", 3)\n",
    "df1 = pd.read_csv(output_file, header=None)\n",
    "df1.columns = ['m', 'time']\n",
    "df1.sort_values(ascending=True, by='m', inplace=True)\n",
    "df1['time'] /= 1000\n",
    "df1"
   ]
  },
  {
   "cell_type": "code",
   "execution_count": 17,
   "id": "7050078a",
   "metadata": {},
   "outputs": [
    {
     "name": "stdout",
     "output_type": "stream",
     "text": [
      "\\begin{tabular}{rr}\n",
      "\\toprule\n",
      "     m &    time \\\\\n",
      "\\midrule\n",
      " 10000 &  21.717 \\\\\n",
      " 20000 &  41.385 \\\\\n",
      " 30000 &  61.646 \\\\\n",
      " 40000 &  84.283 \\\\\n",
      " 50000 & 104.563 \\\\\n",
      " 60000 & 128.169 \\\\\n",
      " 70000 & 147.459 \\\\\n",
      " 80000 & 170.136 \\\\\n",
      " 90000 & 188.938 \\\\\n",
      "100000 & 212.239 \\\\\n",
      "\\bottomrule\n",
      "\\end{tabular}\n",
      "\n"
     ]
    }
   ],
   "source": [
    "print(df1.to_latex(index=False, escape=False))"
   ]
  },
  {
   "cell_type": "code",
   "execution_count": 19,
   "id": "becfe825",
   "metadata": {},
   "outputs": [
    {
     "data": {
      "image/png": "[encoded data removed]",
      "text/plain": [
       "<Figure size 576x360 with 1 Axes>"
      ]
     },
     "metadata": {
      "needs_background": "light"
     },
     "output_type": "display_data"
    }
   ],
   "source": [
    "# Generate a plot.\n",
    "plt.figure(figsize=(8, 5))\n",
    "plt.title(\"MR-tree construction time (c = 100)\")\n",
    "plt.plot(df1['m'], df1['time'], marker='o', color='black')\n",
    "#plt.plot([x for x in range(100, 100000)], \n",
    "#         [15*np.log2(x) for x in range(100, 100000)], color='black', linestyle=':')\n",
    "plt.ylabel(\"Time [ms]\")\n",
    "plt.xlabel(\"Number of records (m)\")\n",
    "plt.savefig(\"{}/test_construction/test_construction.png\".format(base_dir), dpi=170, format='png', bbox_inches='tight')"
   ]
  },
  {
   "cell_type": "markdown",
   "id": "439f77bf",
   "metadata": {},
   "source": [
    "# Construction test 2\n",
    "\n",
    "The page capacity $c = m/k$ is a fixed fraction of the data set size $m$. "
   ]
  },
  {
   "cell_type": "code",
   "execution_count": 8,
   "id": "3b68c452",
   "metadata": {},
   "outputs": [
    {
     "name": "stdout",
     "output_type": "stream",
     "text": [
      "Testing m=10000...\n",
      "Input file: /Users/matteo/CSQV/test/test_construction/crash_data_10000.csv\n",
      "Testing m=20000...\n",
      "Input file: /Users/matteo/CSQV/test/test_construction/crash_data_20000.csv\n",
      "Testing m=30000...\n",
      "Input file: /Users/matteo/CSQV/test/test_construction/crash_data_30000.csv\n",
      "Testing m=40000...\n",
      "Input file: /Users/matteo/CSQV/test/test_construction/crash_data_40000.csv\n",
      "Testing m=50000...\n",
      "Input file: /Users/matteo/CSQV/test/test_construction/crash_data_50000.csv\n",
      "Testing m=60000...\n",
      "Input file: /Users/matteo/CSQV/test/test_construction/crash_data_60000.csv\n",
      "Testing m=70000...\n",
      "Input file: /Users/matteo/CSQV/test/test_construction/crash_data_70000.csv\n",
      "Testing m=80000...\n",
      "Input file: /Users/matteo/CSQV/test/test_construction/crash_data_80000.csv\n",
      "Testing m=90000...\n",
      "Input file: /Users/matteo/CSQV/test/test_construction/crash_data_90000.csv\n",
      "Testing m=100000...\n",
      "Input file: /Users/matteo/CSQV/test/test_construction/crash_data_100000.csv\n",
      "Done!\n"
     ]
    }
   ],
   "source": [
    "k = 10\n",
    "ntrials = 20\n",
    "output_file = '{}/test_construction/test_construction_fraction.csv'.format(base_dir)\n",
    "\n",
    "f = open(output_file, 'w')\n",
    "\n",
    "os.chdir(exec_dir)\n",
    "\n",
    "for m in sizes:\n",
    "    print('Testing m={}...'.format(m))\n",
    "    input_file = \"{}/test_construction/crash_data_{}.csv\".format(base_dir, m)\n",
    "    print('Input file: ' + input_file)\n",
    "    c = int(m/k)\n",
    "    avg = 0\n",
    "    for i in range(0, ntrials):\n",
    "        p = subprocess.run([\"./TestIndex\", input_file, str(c)], capture_output=True, check=True)\n",
    "        lines = p.stdout.decode('utf-8').splitlines()\n",
    "        avg += int((lines[3].split(':'))[1])\n",
    "    avg = avg / ntrials\n",
    "    f.write('{},{}\\n'.format(m, avg))\n",
    "\n",
    "f.close()\n",
    "os.chdir(base_dir)\n",
    "print('Done!')"
   ]
  },
  {
   "cell_type": "code",
   "execution_count": 9,
   "id": "3d3a860c",
   "metadata": {},
   "outputs": [
    {
     "data": {
      "text/html": [
       "<div>\n",
       "<style scoped>\n",
       "    .dataframe tbody tr th:only-of-type {\n",
       "        vertical-align: middle;\n",
       "    }\n",
       "\n",
       "    .dataframe tbody tr th {\n",
       "        vertical-align: top;\n",
       "    }\n",
       "\n",
       "    .dataframe thead th {\n",
       "        text-align: right;\n",
       "    }\n",
       "</style>\n",
       "<table border=\"1\" class=\"dataframe\">\n",
       "  <thead>\n",
       "    <tr style=\"text-align: right;\">\n",
       "      <th></th>\n",
       "      <th>m</th>\n",
       "      <th>time</th>\n",
       "    </tr>\n",
       "  </thead>\n",
       "  <tbody>\n",
       "    <tr>\n",
       "      <th>0</th>\n",
       "      <td>10000</td>\n",
       "      <td>27.674</td>\n",
       "    </tr>\n",
       "    <tr>\n",
       "      <th>1</th>\n",
       "      <td>20000</td>\n",
       "      <td>44.290</td>\n",
       "    </tr>\n",
       "    <tr>\n",
       "      <th>2</th>\n",
       "      <td>30000</td>\n",
       "      <td>65.366</td>\n",
       "    </tr>\n",
       "    <tr>\n",
       "      <th>3</th>\n",
       "      <td>40000</td>\n",
       "      <td>95.104</td>\n",
       "    </tr>\n",
       "    <tr>\n",
       "      <th>4</th>\n",
       "      <td>50000</td>\n",
       "      <td>119.775</td>\n",
       "    </tr>\n",
       "    <tr>\n",
       "      <th>5</th>\n",
       "      <td>60000</td>\n",
       "      <td>141.205</td>\n",
       "    </tr>\n",
       "    <tr>\n",
       "      <th>6</th>\n",
       "      <td>70000</td>\n",
       "      <td>156.249</td>\n",
       "    </tr>\n",
       "    <tr>\n",
       "      <th>7</th>\n",
       "      <td>80000</td>\n",
       "      <td>179.447</td>\n",
       "    </tr>\n",
       "    <tr>\n",
       "      <th>8</th>\n",
       "      <td>90000</td>\n",
       "      <td>201.297</td>\n",
       "    </tr>\n",
       "    <tr>\n",
       "      <th>9</th>\n",
       "      <td>100000</td>\n",
       "      <td>231.153</td>\n",
       "    </tr>\n",
       "  </tbody>\n",
       "</table>\n",
       "</div>"
      ],
      "text/plain": [
       "        m     time\n",
       "0   10000   27.674\n",
       "1   20000   44.290\n",
       "2   30000   65.366\n",
       "3   40000   95.104\n",
       "4   50000  119.775\n",
       "5   60000  141.205\n",
       "6   70000  156.249\n",
       "7   80000  179.447\n",
       "8   90000  201.297\n",
       "9  100000  231.153"
      ]
     },
     "execution_count": 9,
     "metadata": {},
     "output_type": "execute_result"
    }
   ],
   "source": [
    "# Print the results.\n",
    "pd.set_option(\"display.precision\", 3)\n",
    "df1 = pd.read_csv(output_file, header=None)\n",
    "columns = ['m', 'time']\n",
    "#for k in capacities: columns.append(str('m/{}'.format(int(k))))\n",
    "df1.columns = columns\n",
    "df1.sort_values(ascending=True, by='m', inplace=True)\n",
    "df1['time'] /= 1000\n",
    "df1"
   ]
  },
  {
   "cell_type": "code",
   "execution_count": 10,
   "id": "32ae70be",
   "metadata": {},
   "outputs": [
    {
     "data": {
      "text/plain": [
       "Text(0.5, 0, 'Number of records (m)')"
      ]
     },
     "execution_count": 10,
     "metadata": {},
     "output_type": "execute_result"
    },
    {
     "data": {
      "image/png": "[encoded data removed]",
      "text/plain": [
       "<Figure size 576x360 with 1 Axes>"
      ]
     },
     "metadata": {
      "needs_background": "light"
     },
     "output_type": "display_data"
    }
   ],
   "source": [
    "# Generate a plot.\n",
    "plt.figure(figsize=(8, 5))\n",
    "plt.title(\"MR-tree index construction time\")\n",
    "plt.plot(df1['m'], df1['time'], marker='o', color='black')\n",
    "#plt.plot([x for x in range(100, 100000)], \n",
    "#         [15*np.log2(x) for x in range(100, 100000)], color='black', linestyle=':')\n",
    "plt.ylabel(\"Time [ms]\")\n",
    "plt.xlabel(\"Number of records (m)\")\n",
    "#plt.savefig(\"{}/test_construction/test_construction_fraction.png\".format(base_dir), dpi=170, format='png', bbox_inches='tight')"
   ]
  },
  {
   "cell_type": "markdown",
   "id": "82a78200",
   "metadata": {},
   "source": [
    "# Construction test 3\n",
    "\n",
    "We fix the number of records $m$ and change the capacity $c$."
   ]
  },
  {
   "cell_type": "code",
   "execution_count": 29,
   "id": "ab2b18b3",
   "metadata": {},
   "outputs": [
    {
     "name": "stdout",
     "output_type": "stream",
     "text": [
      "[10, 2641, 5272, 7903, 10534, 13165, 15796, 18427, 21058, 23689, 26320, 28951, 31582, 34213, 36844, 39475, 42106, 44737, 47368, 50000]\n"
     ]
    }
   ],
   "source": [
    "m = 50000\n",
    "ntrials = 20\n",
    "capacity = [int(x) for x in np.linspace(10, m, num=20)]\n",
    "output_file = '{}/test_construction/test_construction_capacity.csv'.format(base_dir)\n",
    "print(capacity)"
   ]
  },
  {
   "cell_type": "code",
   "execution_count": 30,
   "id": "f2f66a01",
   "metadata": {},
   "outputs": [
    {
     "name": "stdout",
     "output_type": "stream",
     "text": [
      "Testing c=10...\n",
      "Input file: /Users/matteo/CSQV/test/test_construction/crash_data_50000.csv\n",
      "125024.2\n",
      "Testing c=2641...\n",
      "Input file: /Users/matteo/CSQV/test/test_construction/crash_data_50000.csv\n",
      "110001.55\n",
      "Testing c=5272...\n",
      "Input file: /Users/matteo/CSQV/test/test_construction/crash_data_50000.csv\n",
      "109169.25\n",
      "Testing c=7903...\n",
      "Input file: /Users/matteo/CSQV/test/test_construction/crash_data_50000.csv\n",
      "109780.65\n",
      "Testing c=10534...\n",
      "Input file: /Users/matteo/CSQV/test/test_construction/crash_data_50000.csv\n",
      "109886.35\n",
      "Testing c=13165...\n",
      "Input file: /Users/matteo/CSQV/test/test_construction/crash_data_50000.csv\n",
      "110446.4\n",
      "Testing c=15796...\n",
      "Input file: /Users/matteo/CSQV/test/test_construction/crash_data_50000.csv\n",
      "109819.6\n",
      "Testing c=18427...\n",
      "Input file: /Users/matteo/CSQV/test/test_construction/crash_data_50000.csv\n",
      "110288.8\n",
      "Testing c=21058...\n",
      "Input file: /Users/matteo/CSQV/test/test_construction/crash_data_50000.csv\n",
      "110665.1\n",
      "Testing c=23689...\n",
      "Input file: /Users/matteo/CSQV/test/test_construction/crash_data_50000.csv\n",
      "110362.95\n",
      "Testing c=26320...\n",
      "Input file: /Users/matteo/CSQV/test/test_construction/crash_data_50000.csv\n",
      "111175.2\n",
      "Testing c=28951...\n",
      "Input file: /Users/matteo/CSQV/test/test_construction/crash_data_50000.csv\n",
      "115382.05\n",
      "Testing c=31582...\n",
      "Input file: /Users/matteo/CSQV/test/test_construction/crash_data_50000.csv\n",
      "113039.8\n",
      "Testing c=34213...\n",
      "Input file: /Users/matteo/CSQV/test/test_construction/crash_data_50000.csv\n",
      "112753.7\n",
      "Testing c=36844...\n",
      "Input file: /Users/matteo/CSQV/test/test_construction/crash_data_50000.csv\n",
      "116831.7\n",
      "Testing c=39475...\n",
      "Input file: /Users/matteo/CSQV/test/test_construction/crash_data_50000.csv\n",
      "114645.6\n",
      "Testing c=42106...\n",
      "Input file: /Users/matteo/CSQV/test/test_construction/crash_data_50000.csv\n",
      "120697.15\n",
      "Testing c=44737...\n",
      "Input file: /Users/matteo/CSQV/test/test_construction/crash_data_50000.csv\n",
      "115877.3\n",
      "Testing c=47368...\n",
      "Input file: /Users/matteo/CSQV/test/test_construction/crash_data_50000.csv\n",
      "113639.95\n",
      "Testing c=50000...\n",
      "Input file: /Users/matteo/CSQV/test/test_construction/crash_data_50000.csv\n",
      "117349.1\n",
      "Done!\n"
     ]
    }
   ],
   "source": [
    "# Test the implementation.\n",
    "\n",
    "f = open(output_file, 'w')\n",
    "\n",
    "os.chdir(exec_dir)\n",
    "\n",
    "for c in capacity:\n",
    "    print('Testing c={}...'.format(c))\n",
    "    input_file = '{}/test_construction/crash_data_{}.csv'.format(base_dir, m)\n",
    "    print('Input file: ' + input_file)\n",
    "    avg = 0\n",
    "    for i in range(0, ntrials):\n",
    "        p = subprocess.run(['./TestIndex', input_file, str(c)], capture_output=True, check=True)\n",
    "        lines = p.stdout.decode('utf-8').splitlines()\n",
    "        avg += int((lines[3].split(':'))[1])\n",
    "    avg = avg / ntrials\n",
    "    print(avg)\n",
    "    f.write('{},{}\\n'.format(c, avg))\n",
    "\n",
    "f.close()\n",
    "\n",
    "os.chdir(base_dir)\n",
    "print('Done!')"
   ]
  },
  {
   "cell_type": "code",
   "execution_count": 31,
   "id": "63c85af0",
   "metadata": {},
   "outputs": [
    {
     "data": {
      "text/html": [
       "<div>\n",
       "<style scoped>\n",
       "    .dataframe tbody tr th:only-of-type {\n",
       "        vertical-align: middle;\n",
       "    }\n",
       "\n",
       "    .dataframe tbody tr th {\n",
       "        vertical-align: top;\n",
       "    }\n",
       "\n",
       "    .dataframe thead th {\n",
       "        text-align: right;\n",
       "    }\n",
       "</style>\n",
       "<table border=\"1\" class=\"dataframe\">\n",
       "  <thead>\n",
       "    <tr style=\"text-align: right;\">\n",
       "      <th></th>\n",
       "      <th>c</th>\n",
       "      <th>time</th>\n",
       "    </tr>\n",
       "  </thead>\n",
       "  <tbody>\n",
       "    <tr>\n",
       "      <th>0</th>\n",
       "      <td>10</td>\n",
       "      <td>125.024</td>\n",
       "    </tr>\n",
       "    <tr>\n",
       "      <th>1</th>\n",
       "      <td>2641</td>\n",
       "      <td>110.002</td>\n",
       "    </tr>\n",
       "    <tr>\n",
       "      <th>2</th>\n",
       "      <td>5272</td>\n",
       "      <td>109.169</td>\n",
       "    </tr>\n",
       "    <tr>\n",
       "      <th>3</th>\n",
       "      <td>7903</td>\n",
       "      <td>109.781</td>\n",
       "    </tr>\n",
       "    <tr>\n",
       "      <th>4</th>\n",
       "      <td>10534</td>\n",
       "      <td>109.886</td>\n",
       "    </tr>\n",
       "    <tr>\n",
       "      <th>5</th>\n",
       "      <td>13165</td>\n",
       "      <td>110.446</td>\n",
       "    </tr>\n",
       "    <tr>\n",
       "      <th>6</th>\n",
       "      <td>15796</td>\n",
       "      <td>109.820</td>\n",
       "    </tr>\n",
       "    <tr>\n",
       "      <th>7</th>\n",
       "      <td>18427</td>\n",
       "      <td>110.289</td>\n",
       "    </tr>\n",
       "    <tr>\n",
       "      <th>8</th>\n",
       "      <td>21058</td>\n",
       "      <td>110.665</td>\n",
       "    </tr>\n",
       "    <tr>\n",
       "      <th>9</th>\n",
       "      <td>23689</td>\n",
       "      <td>110.363</td>\n",
       "    </tr>\n",
       "    <tr>\n",
       "      <th>10</th>\n",
       "      <td>26320</td>\n",
       "      <td>111.175</td>\n",
       "    </tr>\n",
       "    <tr>\n",
       "      <th>11</th>\n",
       "      <td>28951</td>\n",
       "      <td>115.382</td>\n",
       "    </tr>\n",
       "    <tr>\n",
       "      <th>12</th>\n",
       "      <td>31582</td>\n",
       "      <td>113.040</td>\n",
       "    </tr>\n",
       "    <tr>\n",
       "      <th>13</th>\n",
       "      <td>34213</td>\n",
       "      <td>112.754</td>\n",
       "    </tr>\n",
       "    <tr>\n",
       "      <th>14</th>\n",
       "      <td>36844</td>\n",
       "      <td>116.832</td>\n",
       "    </tr>\n",
       "    <tr>\n",
       "      <th>15</th>\n",
       "      <td>39475</td>\n",
       "      <td>114.646</td>\n",
       "    </tr>\n",
       "    <tr>\n",
       "      <th>16</th>\n",
       "      <td>42106</td>\n",
       "      <td>120.697</td>\n",
       "    </tr>\n",
       "    <tr>\n",
       "      <th>17</th>\n",
       "      <td>44737</td>\n",
       "      <td>115.877</td>\n",
       "    </tr>\n",
       "    <tr>\n",
       "      <th>18</th>\n",
       "      <td>47368</td>\n",
       "      <td>113.640</td>\n",
       "    </tr>\n",
       "    <tr>\n",
       "      <th>19</th>\n",
       "      <td>50000</td>\n",
       "      <td>117.349</td>\n",
       "    </tr>\n",
       "  </tbody>\n",
       "</table>\n",
       "</div>"
      ],
      "text/plain": [
       "        c     time\n",
       "0      10  125.024\n",
       "1    2641  110.002\n",
       "2    5272  109.169\n",
       "3    7903  109.781\n",
       "4   10534  109.886\n",
       "5   13165  110.446\n",
       "6   15796  109.820\n",
       "7   18427  110.289\n",
       "8   21058  110.665\n",
       "9   23689  110.363\n",
       "10  26320  111.175\n",
       "11  28951  115.382\n",
       "12  31582  113.040\n",
       "13  34213  112.754\n",
       "14  36844  116.832\n",
       "15  39475  114.646\n",
       "16  42106  120.697\n",
       "17  44737  115.877\n",
       "18  47368  113.640\n",
       "19  50000  117.349"
      ]
     },
     "execution_count": 31,
     "metadata": {},
     "output_type": "execute_result"
    }
   ],
   "source": [
    "# Print the results.\n",
    "pd.set_option(\"display.precision\", 3)\n",
    "df1 = pd.read_csv(output_file, header=None)\n",
    "columns = ['c', 'time']\n",
    "df1.columns = columns\n",
    "df1.sort_values(ascending=True, by='c', inplace=True)\n",
    "df1['time'] /= 1000\n",
    "df1"
   ]
  },
  {
   "cell_type": "code",
   "execution_count": 34,
   "id": "2f2df870",
   "metadata": {},
   "outputs": [
    {
     "data": {
      "image/png": "[encoded data removed]",
      "text/plain": [
       "<Figure size 576x360 with 1 Axes>"
      ]
     },
     "metadata": {
      "needs_background": "light"
     },
     "output_type": "display_data"
    }
   ],
   "source": [
    "# Generate a plot.\n",
    "plt.figure(figsize=(8, 5))\n",
    "plt.title(\"MR-tree index construction time (m=50000)\")\n",
    "#plt.xscale('log')\n",
    "plt.plot(df1['c'], df1['time'], marker='o', color='black')\n",
    "plt.ylabel(\"Time [ms]\")\n",
    "plt.xlabel(\"Capacity (c)\")\n",
    "plt.savefig(\"{}/test_construction/test_construction_capacity.eps\".format(base_dir), format='eps', bbox_inches='tight')"
   ]
  },
  {
   "cell_type": "code",
   "execution_count": null,
   "id": "c2561dc9",
   "metadata": {},
   "outputs": [],
   "source": []
  }
 ],
 "metadata": {
  "kernelspec": {
   "display_name": "Python 3",
   "language": "python",
   "name": "python3"
  },
  "language_info": {
   "codemirror_mode": {
    "name": "ipython",
    "version": 3
   },
   "file_extension": ".py",
   "mimetype": "text/x-python",
   "name": "python",
   "nbconvert_exporter": "python",
   "pygments_lexer": "ipython3",
   "version": "3.8.2"
  }
 },
 "nbformat": 4,
 "nbformat_minor": 5
}
