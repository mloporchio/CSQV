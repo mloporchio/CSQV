{
 "cells": [
  {
   "cell_type": "code",
   "execution_count": 1,
   "id": "39870f68",
   "metadata": {},
   "outputs": [],
   "source": [
    "import pandas as pd\n",
    "import numpy as np\n",
    "import matplotlib.pyplot as plt\n",
    "import os\n",
    "import struct\n",
    "import subprocess\n",
    "import sys"
   ]
  },
  {
   "cell_type": "code",
   "execution_count": 2,
   "id": "04c625f7",
   "metadata": {},
   "outputs": [],
   "source": [
    "base_dir = os.getcwd()\n",
    "exec_dir = '..'"
   ]
  },
  {
   "cell_type": "code",
   "execution_count": 3,
   "id": "9690fdce",
   "metadata": {},
   "outputs": [
    {
     "name": "stdout",
     "output_type": "stream",
     "text": [
      "[1000, 5125, 9250, 13375, 17500, 21625, 25750, 29875, 34000, 38125, 42250, 46375, 50500, 54625, 58750, 62875, 67000, 71125, 75250, 79375, 83500, 87625, 91750, 95875, 100000]\n"
     ]
    }
   ],
   "source": [
    "sizes = [int(x) for x in np.linspace(1000, 100000, 25)]\n",
    "print(sizes)"
   ]
  },
  {
   "cell_type": "markdown",
   "id": "ece6677b",
   "metadata": {},
   "source": [
    "# Construction test 1\n",
    "\n",
    "First experiment: keep the page capacity constant and change the number of input records. Then measure how the construction time varies."
   ]
  },
  {
   "cell_type": "code",
   "execution_count": 4,
   "id": "797f9887",
   "metadata": {},
   "outputs": [
    {
     "name": "stdout",
     "output_type": "stream",
     "text": [
      "Testing m=1000...\n",
      "Testing m=5125...\n",
      "Testing m=9250...\n",
      "Testing m=13375...\n",
      "Testing m=17500...\n",
      "Testing m=21625...\n",
      "Testing m=25750...\n",
      "Testing m=29875...\n",
      "Testing m=34000...\n",
      "Testing m=38125...\n",
      "Testing m=42250...\n",
      "Testing m=46375...\n",
      "Testing m=50500...\n",
      "Testing m=54625...\n",
      "Testing m=58750...\n",
      "Testing m=62875...\n",
      "Testing m=67000...\n",
      "Testing m=71125...\n",
      "Testing m=75250...\n",
      "Testing m=79375...\n",
      "Testing m=83500...\n",
      "Testing m=87625...\n",
      "Testing m=91750...\n",
      "Testing m=95875...\n",
      "Testing m=100000...\n",
      "Done!\n"
     ]
    }
   ],
   "source": [
    "# Test the implementation.\n",
    "\n",
    "capacity = 100\n",
    "ntrials = 20\n",
    "output_file1 = '{}/test_construction/test_construction.csv'.format(base_dir)\n",
    "\n",
    "f = open(output_file1, 'w')\n",
    "\n",
    "os.chdir(exec_dir)\n",
    "\n",
    "for m in sizes:\n",
    "    print('Testing m={}...'.format(m))\n",
    "    input_file = \"{}/data/crash_data_{}.csv\".format(base_dir, m)\n",
    "    avg = 0\n",
    "    for i in range(0, ntrials):\n",
    "        p = subprocess.run([\"./TestIndex\", input_file, str(capacity)], capture_output=True, check=True)\n",
    "        lines = p.stdout.decode('utf-8').splitlines()\n",
    "        avg += int((lines[5].split(':'))[1])\n",
    "    avg /= ntrials\n",
    "    #print('Average time (us): {}'.format(avg))\n",
    "    f.write('{},{}\\n'.format(m, avg))\n",
    "\n",
    "f.close()\n",
    "\n",
    "os.chdir(base_dir)\n",
    "\n",
    "print('Done!')"
   ]
  },
  {
   "cell_type": "code",
   "execution_count": 5,
   "id": "58f7a270",
   "metadata": {},
   "outputs": [
    {
     "data": {
      "text/html": [
       "<div>\n",
       "<style scoped>\n",
       "    .dataframe tbody tr th:only-of-type {\n",
       "        vertical-align: middle;\n",
       "    }\n",
       "\n",
       "    .dataframe tbody tr th {\n",
       "        vertical-align: top;\n",
       "    }\n",
       "\n",
       "    .dataframe thead th {\n",
       "        text-align: right;\n",
       "    }\n",
       "</style>\n",
       "<table border=\"1\" class=\"dataframe\">\n",
       "  <thead>\n",
       "    <tr style=\"text-align: right;\">\n",
       "      <th></th>\n",
       "      <th>m</th>\n",
       "      <th>time</th>\n",
       "    </tr>\n",
       "  </thead>\n",
       "  <tbody>\n",
       "    <tr>\n",
       "      <th>0</th>\n",
       "      <td>1000</td>\n",
       "      <td>0.921</td>\n",
       "    </tr>\n",
       "    <tr>\n",
       "      <th>1</th>\n",
       "      <td>5125</td>\n",
       "      <td>3.884</td>\n",
       "    </tr>\n",
       "    <tr>\n",
       "      <th>2</th>\n",
       "      <td>9250</td>\n",
       "      <td>6.940</td>\n",
       "    </tr>\n",
       "    <tr>\n",
       "      <th>3</th>\n",
       "      <td>13375</td>\n",
       "      <td>10.541</td>\n",
       "    </tr>\n",
       "    <tr>\n",
       "      <th>4</th>\n",
       "      <td>17500</td>\n",
       "      <td>13.830</td>\n",
       "    </tr>\n",
       "    <tr>\n",
       "      <th>5</th>\n",
       "      <td>21625</td>\n",
       "      <td>17.139</td>\n",
       "    </tr>\n",
       "    <tr>\n",
       "      <th>6</th>\n",
       "      <td>25750</td>\n",
       "      <td>20.074</td>\n",
       "    </tr>\n",
       "    <tr>\n",
       "      <th>7</th>\n",
       "      <td>29875</td>\n",
       "      <td>23.721</td>\n",
       "    </tr>\n",
       "    <tr>\n",
       "      <th>8</th>\n",
       "      <td>34000</td>\n",
       "      <td>27.070</td>\n",
       "    </tr>\n",
       "    <tr>\n",
       "      <th>9</th>\n",
       "      <td>38125</td>\n",
       "      <td>29.923</td>\n",
       "    </tr>\n",
       "    <tr>\n",
       "      <th>10</th>\n",
       "      <td>42250</td>\n",
       "      <td>33.853</td>\n",
       "    </tr>\n",
       "    <tr>\n",
       "      <th>11</th>\n",
       "      <td>46375</td>\n",
       "      <td>37.420</td>\n",
       "    </tr>\n",
       "    <tr>\n",
       "      <th>12</th>\n",
       "      <td>50500</td>\n",
       "      <td>40.956</td>\n",
       "    </tr>\n",
       "    <tr>\n",
       "      <th>13</th>\n",
       "      <td>54625</td>\n",
       "      <td>44.705</td>\n",
       "    </tr>\n",
       "    <tr>\n",
       "      <th>14</th>\n",
       "      <td>58750</td>\n",
       "      <td>48.109</td>\n",
       "    </tr>\n",
       "    <tr>\n",
       "      <th>15</th>\n",
       "      <td>62875</td>\n",
       "      <td>51.303</td>\n",
       "    </tr>\n",
       "    <tr>\n",
       "      <th>16</th>\n",
       "      <td>67000</td>\n",
       "      <td>54.381</td>\n",
       "    </tr>\n",
       "    <tr>\n",
       "      <th>17</th>\n",
       "      <td>71125</td>\n",
       "      <td>57.947</td>\n",
       "    </tr>\n",
       "    <tr>\n",
       "      <th>18</th>\n",
       "      <td>75250</td>\n",
       "      <td>60.761</td>\n",
       "    </tr>\n",
       "    <tr>\n",
       "      <th>19</th>\n",
       "      <td>79375</td>\n",
       "      <td>64.179</td>\n",
       "    </tr>\n",
       "    <tr>\n",
       "      <th>20</th>\n",
       "      <td>83500</td>\n",
       "      <td>69.402</td>\n",
       "    </tr>\n",
       "    <tr>\n",
       "      <th>21</th>\n",
       "      <td>87625</td>\n",
       "      <td>72.203</td>\n",
       "    </tr>\n",
       "    <tr>\n",
       "      <th>22</th>\n",
       "      <td>91750</td>\n",
       "      <td>75.930</td>\n",
       "    </tr>\n",
       "    <tr>\n",
       "      <th>23</th>\n",
       "      <td>95875</td>\n",
       "      <td>79.350</td>\n",
       "    </tr>\n",
       "    <tr>\n",
       "      <th>24</th>\n",
       "      <td>100000</td>\n",
       "      <td>83.109</td>\n",
       "    </tr>\n",
       "  </tbody>\n",
       "</table>\n",
       "</div>"
      ],
      "text/plain": [
       "         m    time\n",
       "0     1000   0.921\n",
       "1     5125   3.884\n",
       "2     9250   6.940\n",
       "3    13375  10.541\n",
       "4    17500  13.830\n",
       "5    21625  17.139\n",
       "6    25750  20.074\n",
       "7    29875  23.721\n",
       "8    34000  27.070\n",
       "9    38125  29.923\n",
       "10   42250  33.853\n",
       "11   46375  37.420\n",
       "12   50500  40.956\n",
       "13   54625  44.705\n",
       "14   58750  48.109\n",
       "15   62875  51.303\n",
       "16   67000  54.381\n",
       "17   71125  57.947\n",
       "18   75250  60.761\n",
       "19   79375  64.179\n",
       "20   83500  69.402\n",
       "21   87625  72.203\n",
       "22   91750  75.930\n",
       "23   95875  79.350\n",
       "24  100000  83.109"
      ]
     },
     "execution_count": 5,
     "metadata": {},
     "output_type": "execute_result"
    }
   ],
   "source": [
    "# Print the results.\n",
    "pd.set_option(\"display.precision\", 3)\n",
    "df1 = pd.read_csv(output_file1, header=None)\n",
    "df1.columns = ['m', 'time']\n",
    "df1.sort_values(ascending=True, by='m', inplace=True)\n",
    "df1['time'] /= 1000\n",
    "df1"
   ]
  },
  {
   "cell_type": "code",
   "execution_count": 6,
   "id": "7050078a",
   "metadata": {},
   "outputs": [
    {
     "name": "stdout",
     "output_type": "stream",
     "text": [
      "\\begin{tabular}{rr}\n",
      "\\toprule\n",
      "     m &   time \\\\\n",
      "\\midrule\n",
      "  1000 &  0.921 \\\\\n",
      "  5125 &  3.884 \\\\\n",
      "  9250 &  6.940 \\\\\n",
      " 13375 & 10.541 \\\\\n",
      " 17500 & 13.830 \\\\\n",
      " 21625 & 17.139 \\\\\n",
      " 25750 & 20.074 \\\\\n",
      " 29875 & 23.721 \\\\\n",
      " 34000 & 27.070 \\\\\n",
      " 38125 & 29.923 \\\\\n",
      " 42250 & 33.853 \\\\\n",
      " 46375 & 37.420 \\\\\n",
      " 50500 & 40.956 \\\\\n",
      " 54625 & 44.705 \\\\\n",
      " 58750 & 48.109 \\\\\n",
      " 62875 & 51.303 \\\\\n",
      " 67000 & 54.381 \\\\\n",
      " 71125 & 57.947 \\\\\n",
      " 75250 & 60.761 \\\\\n",
      " 79375 & 64.179 \\\\\n",
      " 83500 & 69.402 \\\\\n",
      " 87625 & 72.203 \\\\\n",
      " 91750 & 75.930 \\\\\n",
      " 95875 & 79.350 \\\\\n",
      "100000 & 83.109 \\\\\n",
      "\\bottomrule\n",
      "\\end{tabular}\n",
      "\n"
     ]
    }
   ],
   "source": [
    "print(df1.to_latex(index=False, escape=False))"
   ]
  },
  {
   "cell_type": "code",
   "execution_count": 11,
   "id": "becfe825",
   "metadata": {},
   "outputs": [
    {
     "data": {
      "image/png": "[encoded data removed]",
      "text/plain": [
       "<Figure size 360x360 with 1 Axes>"
      ]
     },
     "metadata": {
      "needs_background": "light"
     },
     "output_type": "display_data"
    }
   ],
   "source": [
    "# Generate a plot.\n",
    "plt.figure(figsize=(5, 5))\n",
    "plt.title(\"MR-tree construction time (c = 100)\")\n",
    "plt.xscale('log')\n",
    "plt.plot(df1['m'], df1['time'], marker='o', color='black')\n",
    "plt.ylabel(\"Time [ms]\")\n",
    "plt.xlabel(\"Number of records (m)\")\n",
    "plt.savefig(\"{}/test_construction/test-construction.eps\".format(base_dir), format='eps', bbox_inches='tight')"
   ]
  },
  {
   "cell_type": "markdown",
   "id": "82a78200",
   "metadata": {},
   "source": [
    "# Construction test 2\n",
    "\n",
    "We fix the number of records $m$ and change the capacity $c$."
   ]
  },
  {
   "cell_type": "code",
   "execution_count": 73,
   "id": "ab2b18b3",
   "metadata": {},
   "outputs": [
    {
     "name": "stdout",
     "output_type": "stream",
     "text": [
      "[4, 8, 16, 32, 64, 128, 256, 512, 1024, 2048]\n"
     ]
    }
   ],
   "source": [
    "m = 30000\n",
    "n_trials = 20\n",
    "input_file2 = '{}/data/crash_data_{}.csv'.format(base_dir, m)\n",
    "output_file2 = '{}/test_construction/test_construction_capacity.csv'.format(base_dir)\n",
    "capacities = [4, 8, 16, 32, 64, 128, 256, 512, 1024, 2048]\n",
    "#capacities = list(range(10, 250, 10))\n",
    "print(capacities)"
   ]
  },
  {
   "cell_type": "code",
   "execution_count": null,
   "id": "5e20655b",
   "metadata": {},
   "outputs": [],
   "source": []
  },
  {
   "cell_type": "code",
   "execution_count": 92,
   "id": "78b0a494",
   "metadata": {},
   "outputs": [
    {
     "name": "stdout",
     "output_type": "stream",
     "text": [
      "Testing c=4...\n",
      "Testing c=8...\n",
      "Testing c=16...\n",
      "Testing c=32...\n",
      "Testing c=64...\n",
      "Testing c=128...\n",
      "Testing c=256...\n",
      "Testing c=512...\n",
      "Testing c=1024...\n",
      "Testing c=2048...\n",
      "Done!\n"
     ]
    }
   ],
   "source": [
    "# Test the implementation.\n",
    "\n",
    "f = open(output_file2, 'w')\n",
    "f.write('c,avg_time,leaves,height\\n')\n",
    "\n",
    "os.chdir(exec_dir)\n",
    "\n",
    "for c in capacities:\n",
    "    print('Testing c={}...'.format(c))\n",
    "    avg_leaf, avg_time, leaves, height = 0, 0, 0, 0\n",
    "    for i in range(0, n_trials):\n",
    "        p = subprocess.run(['./TestIndex', input_file2, str(c)], capture_output=True, check=True)\n",
    "        lines = p.stdout.decode('utf-8').splitlines()\n",
    "        avg_time += int((lines[0].split(':'))[1])\n",
    "        leaves += int((lines[1].split(':'))[1])\n",
    "        height += int((lines[2].split(':'))[1]) \n",
    "    avg_time /= n_trials\n",
    "    leaves /= n_trials\n",
    "    height /= n_trials\n",
    "    f.write('{},{},{},{}\\n'.format(c, avg_time, leaves, height))\n",
    "\n",
    "f.close()\n",
    "\n",
    "os.chdir(base_dir)\n",
    "print('Done!')"
   ]
  },
  {
   "cell_type": "code",
   "execution_count": 93,
   "id": "63c85af0",
   "metadata": {},
   "outputs": [
    {
     "name": "stdout",
     "output_type": "stream",
     "text": [
      "\\begin{tabular}{rrrr}\n",
      "\\toprule\n",
      "   c &  avg\\_time &  leaves &  height \\\\\n",
      "\\midrule\n",
      "   4 &    42.647 &    7500 &       7 \\\\\n",
      "   8 &    32.094 &    3750 &       4 \\\\\n",
      "  16 &    26.115 &    1875 &       3 \\\\\n",
      "  32 &    24.149 &     938 &       2 \\\\\n",
      "  64 &    21.932 &     469 &       2 \\\\\n",
      " 128 &    21.101 &     235 &       2 \\\\\n",
      " 256 &    21.027 &     118 &       1 \\\\\n",
      " 512 &    21.375 &      59 &       1 \\\\\n",
      "1024 &    21.434 &      30 &       1 \\\\\n",
      "2048 &    24.056 &      15 &       1 \\\\\n",
      "\\bottomrule\n",
      "\\end{tabular}\n",
      "\n"
     ]
    }
   ],
   "source": [
    "# Print the results.\n",
    "df2 = pd.read_csv(output_file2)\n",
    "# Divide by 1000 to convert microseconds to milliseconds.\n",
    "df2['avg_time'] /= 1000\n",
    "# Round the execution times to 3 decimal places.\n",
    "df2 = df2.round({'avg_time': 3})\n",
    "# Convert leaves and height columns to integer type.\n",
    "df2 = df2.astype({'leaves': int, 'height': int})\n",
    "print(df2.to_latex(index=False))"
   ]
  },
  {
   "cell_type": "code",
   "execution_count": 94,
   "id": "8a352677",
   "metadata": {},
   "outputs": [
    {
     "data": {
      "text/plain": [
       "[<matplotlib.lines.Line2D at 0x11c54e490>]"
      ]
     },
     "execution_count": 94,
     "metadata": {},
     "output_type": "execute_result"
    },
    {
     "data": {
      "image/png": "[encoded data removed]",
      "text/plain": [
       "<Figure size 432x288 with 1 Axes>"
      ]
     },
     "metadata": {
      "needs_background": "light"
     },
     "output_type": "display_data"
    }
   ],
   "source": [
    "plt.xscale('log', base=2)\n",
    "plt.plot(df2['c'], df2['avg_time'])"
   ]
  },
  {
   "cell_type": "code",
   "execution_count": 18,
   "id": "c2561dc9",
   "metadata": {},
   "outputs": [
    {
     "data": {
      "text/plain": [
       "8.040566666666665"
      ]
     },
     "execution_count": 18,
     "metadata": {},
     "output_type": "execute_result"
    }
   ],
   "source": [
    "np.mean(df2['avg_time'])"
   ]
  },
  {
   "cell_type": "code",
   "execution_count": null,
   "id": "017208af",
   "metadata": {},
   "outputs": [],
   "source": []
  }
 ],
 "metadata": {
  "kernelspec": {
   "display_name": "Python 3",
   "language": "python",
   "name": "python3"
  },
  "language_info": {
   "codemirror_mode": {
    "name": "ipython",
    "version": 3
   },
   "file_extension": ".py",
   "mimetype": "text/x-python",
   "name": "python",
   "nbconvert_exporter": "python",
   "pygments_lexer": "ipython3",
   "version": "3.8.2"
  }
 },
 "nbformat": 4,
 "nbformat_minor": 5
}
