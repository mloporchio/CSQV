{
 "cells": [
  {
   "cell_type": "code",
   "execution_count": 3,
   "id": "39870f68",
   "metadata": {},
   "outputs": [],
   "source": [
    "import pandas as pd\n",
    "import numpy as np\n",
    "import matplotlib.pyplot as plt\n",
    "import os\n",
    "import struct\n",
    "import subprocess\n",
    "import sys"
   ]
  },
  {
   "cell_type": "code",
   "execution_count": 4,
   "id": "ea3a3e47",
   "metadata": {},
   "outputs": [],
   "source": [
    "base_dir = os.getcwd()\n",
    "exec_dir = '..'"
   ]
  },
  {
   "cell_type": "markdown",
   "id": "76f57b2c",
   "metadata": {},
   "source": [
    "## Construction 1\n",
    "\n",
    "First experiment: keep the page capacity constant and change the number of input records. Then measure how the construction time varies.\n"
   ]
  },
  {
   "cell_type": "code",
   "execution_count": 17,
   "id": "2e00e8b1",
   "metadata": {},
   "outputs": [],
   "source": [
    "sizes = [int(i/100*100000) for i in np.linspace(10,100,num=10)]"
   ]
  },
  {
   "cell_type": "code",
   "execution_count": 18,
   "id": "81233db1",
   "metadata": {},
   "outputs": [],
   "source": [
    "# Create slices of the original data set.\n",
    "df = pd.read_csv('{}/data/crash_data.csv'.format(base_dir))\n",
    "for s in sizes:\n",
    "    part = df.head(s)\n",
    "    part.to_csv('{}/test_construction/crash_data_{}.csv'.format(base_dir, s), index=False)"
   ]
  },
  {
   "cell_type": "code",
   "execution_count": 19,
   "id": "797f9887",
   "metadata": {},
   "outputs": [
    {
     "name": "stdout",
     "output_type": "stream",
     "text": [
      "Testing m=10000...\n",
      "Input file: /Users/matteo/CSQV/test/test_construction/crash_data_10000.csv\n",
      "7294.7\n",
      "Testing m=20000...\n",
      "Input file: /Users/matteo/CSQV/test/test_construction/crash_data_20000.csv\n",
      "15928.2\n",
      "Testing m=30000...\n",
      "Input file: /Users/matteo/CSQV/test/test_construction/crash_data_30000.csv\n",
      "23486.2\n",
      "Testing m=40000...\n",
      "Input file: /Users/matteo/CSQV/test/test_construction/crash_data_40000.csv\n",
      "32983.6\n",
      "Testing m=50000...\n",
      "Input file: /Users/matteo/CSQV/test/test_construction/crash_data_50000.csv\n",
      "41408.5\n",
      "Testing m=60000...\n",
      "Input file: /Users/matteo/CSQV/test/test_construction/crash_data_60000.csv\n",
      "50666.3\n",
      "Testing m=70000...\n",
      "Input file: /Users/matteo/CSQV/test/test_construction/crash_data_70000.csv\n",
      "55979.5\n",
      "Testing m=80000...\n",
      "Input file: /Users/matteo/CSQV/test/test_construction/crash_data_80000.csv\n",
      "63706.1\n",
      "Testing m=90000...\n",
      "Input file: /Users/matteo/CSQV/test/test_construction/crash_data_90000.csv\n",
      "73426.9\n",
      "Testing m=100000...\n",
      "Input file: /Users/matteo/CSQV/test/test_construction/crash_data_100000.csv\n",
      "86293.0\n"
     ]
    }
   ],
   "source": [
    "# Test the implementation.\n",
    "\n",
    "capacity = 10\n",
    "ntrials = 10\n",
    "output_file = '{}/test_construction/test_construction.csv'.format(base_dir)\n",
    "\n",
    "f = open(output_file, 'w')\n",
    "\n",
    "os.chdir(exec_dir)\n",
    "\n",
    "for m in sizes:\n",
    "    if (m == 0): \n",
    "        continue\n",
    "    print('Testing m={}...'.format(m))\n",
    "    input_file = \"{}/test_construction/crash_data_{}.csv\".format(base_dir, m)\n",
    "    print('Input file: ' + input_file)\n",
    "    avg = 0\n",
    "    for i in range(0, ntrials):\n",
    "        p = subprocess.run([\"./TestIndex\", input_file, str(capacity)], capture_output=True, check=True)\n",
    "        lines = p.stdout.decode('utf-8').splitlines()\n",
    "        avg += int((lines[3].split(':'))[1])\n",
    "    avg = avg / ntrials\n",
    "    print(avg)\n",
    "    f.write('{},{}\\n'.format(m, avg))\n",
    "\n",
    "f.close()\n",
    "\n",
    "os.chdir(base_dir)"
   ]
  },
  {
   "cell_type": "code",
   "execution_count": null,
   "id": "58f7a270",
   "metadata": {},
   "outputs": [],
   "source": []
  },
  {
   "cell_type": "code",
   "execution_count": 20,
   "id": "becfe825",
   "metadata": {},
   "outputs": [
    {
     "data": {
      "text/html": [
       "<div>\n",
       "<style scoped>\n",
       "    .dataframe tbody tr th:only-of-type {\n",
       "        vertical-align: middle;\n",
       "    }\n",
       "\n",
       "    .dataframe tbody tr th {\n",
       "        vertical-align: top;\n",
       "    }\n",
       "\n",
       "    .dataframe thead th {\n",
       "        text-align: right;\n",
       "    }\n",
       "</style>\n",
       "<table border=\"1\" class=\"dataframe\">\n",
       "  <thead>\n",
       "    <tr style=\"text-align: right;\">\n",
       "      <th></th>\n",
       "      <th>m</th>\n",
       "      <th>time</th>\n",
       "    </tr>\n",
       "  </thead>\n",
       "  <tbody>\n",
       "    <tr>\n",
       "      <th>0</th>\n",
       "      <td>10000</td>\n",
       "      <td>7.295</td>\n",
       "    </tr>\n",
       "    <tr>\n",
       "      <th>1</th>\n",
       "      <td>20000</td>\n",
       "      <td>15.928</td>\n",
       "    </tr>\n",
       "    <tr>\n",
       "      <th>2</th>\n",
       "      <td>30000</td>\n",
       "      <td>23.486</td>\n",
       "    </tr>\n",
       "    <tr>\n",
       "      <th>3</th>\n",
       "      <td>40000</td>\n",
       "      <td>32.984</td>\n",
       "    </tr>\n",
       "    <tr>\n",
       "      <th>4</th>\n",
       "      <td>50000</td>\n",
       "      <td>41.408</td>\n",
       "    </tr>\n",
       "    <tr>\n",
       "      <th>5</th>\n",
       "      <td>60000</td>\n",
       "      <td>50.666</td>\n",
       "    </tr>\n",
       "    <tr>\n",
       "      <th>6</th>\n",
       "      <td>70000</td>\n",
       "      <td>55.980</td>\n",
       "    </tr>\n",
       "    <tr>\n",
       "      <th>7</th>\n",
       "      <td>80000</td>\n",
       "      <td>63.706</td>\n",
       "    </tr>\n",
       "    <tr>\n",
       "      <th>8</th>\n",
       "      <td>90000</td>\n",
       "      <td>73.427</td>\n",
       "    </tr>\n",
       "    <tr>\n",
       "      <th>9</th>\n",
       "      <td>100000</td>\n",
       "      <td>86.293</td>\n",
       "    </tr>\n",
       "  </tbody>\n",
       "</table>\n",
       "</div>"
      ],
      "text/plain": [
       "        m    time\n",
       "0   10000   7.295\n",
       "1   20000  15.928\n",
       "2   30000  23.486\n",
       "3   40000  32.984\n",
       "4   50000  41.408\n",
       "5   60000  50.666\n",
       "6   70000  55.980\n",
       "7   80000  63.706\n",
       "8   90000  73.427\n",
       "9  100000  86.293"
      ]
     },
     "execution_count": 20,
     "metadata": {},
     "output_type": "execute_result"
    }
   ],
   "source": [
    "# Print the results.\n",
    "pd.set_option(\"display.precision\", 3)\n",
    "df1 = pd.read_csv(output_file, header=None)\n",
    "df1.columns = ['m', 'time']\n",
    "df1.sort_values(ascending=True, by='m', inplace=True)\n",
    "df1['time'] /= 1000\n",
    "df1"
   ]
  },
  {
   "cell_type": "code",
   "execution_count": 23,
   "id": "ae91f79e",
   "metadata": {},
   "outputs": [
    {
     "data": {
      "image/png": "[encoded data removed]",
      "text/plain": [
       "<Figure size 576x360 with 1 Axes>"
      ]
     },
     "metadata": {
      "needs_background": "light"
     },
     "output_type": "display_data"
    }
   ],
   "source": [
    "# Generate a plot.\n",
    "plt.figure(figsize=(8, 5))\n",
    "plt.title(\"MR-tree index construction time (c = 10)\")\n",
    "plt.plot(df1['m'], df1['time'], marker='o', color='black')\n",
    "#plt.plot([x for x in range(100, 100000)], \n",
    "#         [15*np.log2(x) for x in range(100, 100000)], color='black', linestyle=':')\n",
    "plt.ylabel(\"Time [ms]\")\n",
    "plt.xlabel(\"Number of records (m)\")\n",
    "plt.savefig(\"{}/test_construction/test_construction_m.png\".format(base_dir), dpi=170, format='png', bbox_inches='tight')"
   ]
  },
  {
   "cell_type": "code",
   "execution_count": null,
   "id": "3b68c452",
   "metadata": {},
   "outputs": [],
   "source": []
  }
 ],
 "metadata": {
  "kernelspec": {
   "display_name": "Python 3",
   "language": "python",
   "name": "python3"
  },
  "language_info": {
   "codemirror_mode": {
    "name": "ipython",
    "version": 3
   },
   "file_extension": ".py",
   "mimetype": "text/x-python",
   "name": "python",
   "nbconvert_exporter": "python",
   "pygments_lexer": "ipython3",
   "version": "3.8.2"
  }
 },
 "nbformat": 4,
 "nbformat_minor": 5
}
