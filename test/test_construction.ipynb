{
 "cells": [
  {
   "cell_type": "code",
   "execution_count": 1,
   "id": "39870f68",
   "metadata": {},
   "outputs": [],
   "source": [
    "import pandas as pd\n",
    "import numpy as np\n",
    "import matplotlib.pyplot as plt\n",
    "import os\n",
    "import random\n",
    "import struct\n",
    "import subprocess\n",
    "import sys\n",
    "from matplotlib.patches import Rectangle"
   ]
  },
  {
   "cell_type": "code",
   "execution_count": 2,
   "id": "04c625f7",
   "metadata": {},
   "outputs": [],
   "source": [
    "base_dir = os.getcwd()\n",
    "exec_dir = '..'"
   ]
  },
  {
   "cell_type": "code",
   "execution_count": 3,
   "id": "9690fdce",
   "metadata": {},
   "outputs": [
    {
     "name": "stdout",
     "output_type": "stream",
     "text": [
      "[1000, 5125, 9250, 13375, 17500, 21625, 25750, 29875, 34000, 38125, 42250, 46375, 50500, 54625, 58750, 62875, 67000, 71125, 75250, 79375, 83500, 87625, 91750, 95875, 100000]\n"
     ]
    }
   ],
   "source": [
    "sizes = [int(x) for x in np.linspace(1000, 100000, 25)]\n",
    "print(sizes)"
   ]
  },
  {
   "cell_type": "markdown",
   "id": "ece6677b",
   "metadata": {},
   "source": [
    "# Construction test 1\n",
    "\n",
    "First experiment: keep the page capacity constant and change the number of input records. Then measure how the construction time varies."
   ]
  },
  {
   "cell_type": "raw",
   "id": "aed021f2",
   "metadata": {},
   "source": [
    "# Test the implementation.\n",
    "\n",
    "capacity = 128\n",
    "ntrials = 20\n",
    "output_file1 = '{}/test_construction/test_construction.csv'.format(base_dir)\n",
    "\n",
    "f = open(output_file1, 'w')\n",
    "\n",
    "os.chdir(exec_dir)\n",
    "\n",
    "for m in sizes:\n",
    "    print('Testing m={}...'.format(m))\n",
    "    input_file = \"{}/data/crash_data_{}.csv\".format(base_dir, m)\n",
    "    avg_time = 0\n",
    "    for i in range(0, ntrials):\n",
    "        p = subprocess.run([\"./TestIndex\", input_file, str(capacity)], capture_output=True, check=True)\n",
    "        lines = p.stdout.decode('utf-8').splitlines()\n",
    "        avg_time += int((lines[0].split(':'))[1])\n",
    "    avg_time /= ntrials\n",
    "    f.write('{},{}\\n'.format(m, avg_time))\n",
    "\n",
    "f.close()\n",
    "\n",
    "os.chdir(base_dir)\n",
    "\n",
    "print('Done!')"
   ]
  },
  {
   "cell_type": "code",
   "execution_count": 8,
   "id": "58f7a270",
   "metadata": {},
   "outputs": [
    {
     "name": "stdout",
     "output_type": "stream",
     "text": [
      "\\begin{tabular}{rr}\n",
      "\\toprule\n",
      "     m &   time \\\\\n",
      "\\midrule\n",
      "  1000 &  0.596 \\\\\n",
      "  5125 &  2.818 \\\\\n",
      "  9250 &  4.975 \\\\\n",
      " 13375 &  7.031 \\\\\n",
      " 17500 &  9.060 \\\\\n",
      " 21625 & 11.225 \\\\\n",
      " 25750 & 13.586 \\\\\n",
      " 29875 & 15.943 \\\\\n",
      " 34000 & 18.128 \\\\\n",
      " 38125 & 20.459 \\\\\n",
      " 42250 & 23.194 \\\\\n",
      " 46375 & 25.245 \\\\\n",
      " 50500 & 27.511 \\\\\n",
      " 54625 & 29.621 \\\\\n",
      " 58750 & 32.160 \\\\\n",
      " 62875 & 34.670 \\\\\n",
      " 67000 & 36.635 \\\\\n",
      " 71125 & 38.940 \\\\\n",
      " 75250 & 41.601 \\\\\n",
      " 79375 & 44.264 \\\\\n",
      " 83500 & 46.400 \\\\\n",
      " 87625 & 48.120 \\\\\n",
      " 91750 & 51.179 \\\\\n",
      " 95875 & 52.915 \\\\\n",
      "100000 & 56.111 \\\\\n",
      "\\bottomrule\n",
      "\\end{tabular}\n",
      "\n"
     ]
    }
   ],
   "source": [
    "# Print the results.\n",
    "pd.set_option(\"display.precision\", 3)\n",
    "df1 = pd.read_csv(output_file1, header=None)\n",
    "df1.columns = ['m', 'time']\n",
    "df1.sort_values(ascending=True, by='m', inplace=True)\n",
    "df1['time'] /= 1000\n",
    "print(df1.to_latex(index=False, escape=False))"
   ]
  },
  {
   "cell_type": "code",
   "execution_count": 9,
   "id": "becfe825",
   "metadata": {},
   "outputs": [
    {
     "data": {
      "image/png": "[encoded data removed]",
      "text/plain": [
       "<Figure size 360x360 with 1 Axes>"
      ]
     },
     "metadata": {
      "needs_background": "light"
     },
     "output_type": "display_data"
    }
   ],
   "source": [
    "# Generate a plot.\n",
    "plt.figure(figsize=(5, 5))\n",
    "plt.title(\"MR-tree construction time (c = 128)\")\n",
    "plt.xscale('log')\n",
    "plt.plot(df1['m'], df1['time'], marker='o', color='black')\n",
    "plt.ylabel(\"Time [ms]\")\n",
    "plt.xlabel(\"Number of records (m)\")\n",
    "plt.savefig(\"{}/test_construction/test-construction.pdf\".format(base_dir), format='pdf', bbox_inches='tight')"
   ]
  },
  {
   "cell_type": "markdown",
   "id": "82a78200",
   "metadata": {},
   "source": [
    "# Construction test 2\n",
    "\n",
    "We fix the number of records $m$ and change the capacity $c$."
   ]
  },
  {
   "cell_type": "code",
   "execution_count": 18,
   "id": "ab2b18b3",
   "metadata": {},
   "outputs": [
    {
     "name": "stdout",
     "output_type": "stream",
     "text": [
      "[4, 8, 16, 32, 64, 128, 256, 512, 1024, 2048]\n"
     ]
    }
   ],
   "source": [
    "m = 30000\n",
    "n_trials = 20\n",
    "input_file2 = '{}/data/crash_data_{}.csv'.format(base_dir, m)\n",
    "output_file2 = '{}/test_construction/test_construction_capacity.csv'.format(base_dir)\n",
    "capacities = [4, 8, 16, 32, 64, 128, 256, 512, 1024, 2048]\n",
    "#capacities = list(range(10, 250, 10))\n",
    "print(capacities)"
   ]
  },
  {
   "cell_type": "raw",
   "id": "2aaedd8d",
   "metadata": {},
   "source": [
    "# Test the implementation.\n",
    "\n",
    "f = open(output_file2, 'w')\n",
    "f.write('c,leaves,height,avg_time\\n')\n",
    "\n",
    "os.chdir(exec_dir)\n",
    "\n",
    "for c in capacities:\n",
    "    print('Testing c={}...'.format(c))\n",
    "    avg_time, leaves, height = 0, 0, 0\n",
    "    for i in range(0, n_trials):\n",
    "        p = subprocess.run(['./TestIndex', input_file2, str(c)], capture_output=True, check=True)\n",
    "        lines = p.stdout.decode('utf-8').splitlines()\n",
    "        avg_time += int((lines[0].split(':'))[1])\n",
    "        leaves += int((lines[1].split(':'))[1])\n",
    "        height += int((lines[2].split(':'))[1]) \n",
    "    avg_time /= n_trials\n",
    "    leaves /= n_trials\n",
    "    height /= n_trials\n",
    "    f.write('{},{},{},{}\\n'.format(c, leaves, height, avg_time))\n",
    "\n",
    "f.close()\n",
    "\n",
    "os.chdir(base_dir)\n",
    "print('Done!')"
   ]
  },
  {
   "cell_type": "code",
   "execution_count": 20,
   "id": "63c85af0",
   "metadata": {},
   "outputs": [
    {
     "name": "stdout",
     "output_type": "stream",
     "text": [
      "\\begin{tabular}{rrrr}\n",
      "\\toprule\n",
      "   c &  leaves &  height &  avg\\_time \\\\\n",
      "\\midrule\n",
      "   4 &    7500 &       7 &    25.102 \\\\\n",
      "   8 &    3750 &       4 &    19.829 \\\\\n",
      "  16 &    1875 &       3 &    17.233 \\\\\n",
      "  32 &     938 &       2 &    15.994 \\\\\n",
      "  64 &     469 &       2 &    15.671 \\\\\n",
      " 128 &     235 &       2 &    15.274 \\\\\n",
      " 256 &     118 &       1 &    15.036 \\\\\n",
      " 512 &      59 &       1 &    16.352 \\\\\n",
      "1024 &      30 &       1 &    15.955 \\\\\n",
      "2048 &      15 &       1 &    16.095 \\\\\n",
      "\\bottomrule\n",
      "\\end{tabular}\n",
      "\n"
     ]
    }
   ],
   "source": [
    "# Print the results.\n",
    "df2 = pd.read_csv(output_file2)\n",
    "# Divide by 1000 to convert microseconds to milliseconds.\n",
    "df2['avg_time'] /= 1000\n",
    "# Round the execution times to 3 decimal places.\n",
    "df2 = df2.round({'avg_time': 3})\n",
    "# Convert leaves and height columns to integer type.\n",
    "df2 = df2.astype({'leaves': int, 'height': int})\n",
    "print(df2.to_latex(index=False))"
   ]
  },
  {
   "cell_type": "raw",
   "id": "44e8a439",
   "metadata": {},
   "source": [
    "plt.xscale('log', base=2)\n",
    "plt.plot(df2['c'], df2['avg_time'])"
   ]
  }
 ],
 "metadata": {
  "kernelspec": {
   "display_name": "Python 3",
   "language": "python",
   "name": "python3"
  },
  "language_info": {
   "codemirror_mode": {
    "name": "ipython",
    "version": 3
   },
   "file_extension": ".py",
   "mimetype": "text/x-python",
   "name": "python",
   "nbconvert_exporter": "python",
   "pygments_lexer": "ipython3",
   "version": "3.8.2"
  }
 },
 "nbformat": 4,
 "nbformat_minor": 5
}
