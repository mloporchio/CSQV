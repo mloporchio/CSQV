{
 "cells": [
  {
   "cell_type": "code",
   "execution_count": 1,
   "id": "39870f68",
   "metadata": {},
   "outputs": [],
   "source": [
    "import pandas as pd\n",
    "import numpy as np\n",
    "import matplotlib.pyplot as plt\n",
    "import os\n",
    "import random\n",
    "import struct\n",
    "import subprocess\n",
    "import sys\n",
    "from matplotlib.patches import Rectangle"
   ]
  },
  {
   "cell_type": "code",
   "execution_count": 2,
   "id": "04c625f7",
   "metadata": {},
   "outputs": [],
   "source": [
    "base_dir = os.getcwd()\n",
    "exec_dir = '..'"
   ]
  },
  {
   "cell_type": "code",
   "execution_count": 3,
   "id": "9690fdce",
   "metadata": {},
   "outputs": [
    {
     "name": "stdout",
     "output_type": "stream",
     "text": [
      "[1000, 5125, 9250, 13375, 17500, 21625, 25750, 29875, 34000, 38125, 42250, 46375, 50500, 54625, 58750, 62875, 67000, 71125, 75250, 79375, 83500, 87625, 91750, 95875, 100000]\n"
     ]
    }
   ],
   "source": [
    "sizes = [int(x) for x in np.linspace(1000, 100000, 25)]\n",
    "print(sizes)"
   ]
  },
  {
   "cell_type": "markdown",
   "id": "ece6677b",
   "metadata": {},
   "source": [
    "# Construction test 1\n",
    "\n",
    "First experiment: keep the page capacity constant and change the number of input records. Then measure how the construction time varies."
   ]
  },
  {
   "cell_type": "code",
   "execution_count": 4,
   "id": "797f9887",
   "metadata": {},
   "outputs": [
    {
     "name": "stdout",
     "output_type": "stream",
     "text": [
      "Testing m=1000...\n",
      "Testing m=5125...\n",
      "Testing m=9250...\n",
      "Testing m=13375...\n",
      "Testing m=17500...\n",
      "Testing m=21625...\n",
      "Testing m=25750...\n",
      "Testing m=29875...\n",
      "Testing m=34000...\n",
      "Testing m=38125...\n",
      "Testing m=42250...\n",
      "Testing m=46375...\n",
      "Testing m=50500...\n",
      "Testing m=54625...\n",
      "Testing m=58750...\n",
      "Testing m=62875...\n",
      "Testing m=67000...\n",
      "Testing m=71125...\n",
      "Testing m=75250...\n",
      "Testing m=79375...\n",
      "Testing m=83500...\n",
      "Testing m=87625...\n",
      "Testing m=91750...\n",
      "Testing m=95875...\n",
      "Testing m=100000...\n",
      "Done!\n"
     ]
    }
   ],
   "source": [
    "# Test the implementation.\n",
    "\n",
    "capacity = 128\n",
    "ntrials = 20\n",
    "output_file1 = '{}/test_construction/test_construction.csv'.format(base_dir)\n",
    "\n",
    "f = open(output_file1, 'w')\n",
    "\n",
    "os.chdir(exec_dir)\n",
    "\n",
    "for m in sizes:\n",
    "    print('Testing m={}...'.format(m))\n",
    "    input_file = \"{}/data/crash_data_{}.csv\".format(base_dir, m)\n",
    "    avg_time = 0\n",
    "    for i in range(0, ntrials):\n",
    "        p = subprocess.run([\"./TestIndex\", input_file, str(capacity)], capture_output=True, check=True)\n",
    "        lines = p.stdout.decode('utf-8').splitlines()\n",
    "        avg_time += int((lines[0].split(':'))[1])\n",
    "    avg_time /= ntrials\n",
    "    f.write('{},{}\\n'.format(m, avg_time))\n",
    "\n",
    "f.close()\n",
    "\n",
    "os.chdir(base_dir)\n",
    "\n",
    "print('Done!')"
   ]
  },
  {
   "cell_type": "code",
   "execution_count": 5,
   "id": "58f7a270",
   "metadata": {},
   "outputs": [
    {
     "name": "stdout",
     "output_type": "stream",
     "text": [
      "\\begin{tabular}{rr}\n",
      "\\toprule\n",
      "     m &   time \\\\\n",
      "\\midrule\n",
      "  1000 &  0.404 \\\\\n",
      "  5125 &  1.960 \\\\\n",
      "  9250 &  3.819 \\\\\n",
      " 13375 &  5.348 \\\\\n",
      " 17500 &  6.929 \\\\\n",
      " 21625 &  8.796 \\\\\n",
      " 25750 & 10.597 \\\\\n",
      " 29875 & 13.044 \\\\\n",
      " 34000 & 15.113 \\\\\n",
      " 38125 & 17.273 \\\\\n",
      " 42250 & 19.543 \\\\\n",
      " 46375 & 21.505 \\\\\n",
      " 50500 & 23.903 \\\\\n",
      " 54625 & 26.327 \\\\\n",
      " 58750 & 28.456 \\\\\n",
      " 62875 & 30.546 \\\\\n",
      " 67000 & 32.613 \\\\\n",
      " 71125 & 35.000 \\\\\n",
      " 75250 & 37.348 \\\\\n",
      " 79375 & 39.432 \\\\\n",
      " 83500 & 41.545 \\\\\n",
      " 87625 & 44.157 \\\\\n",
      " 91750 & 45.821 \\\\\n",
      " 95875 & 48.552 \\\\\n",
      "100000 & 51.473 \\\\\n",
      "\\bottomrule\n",
      "\\end{tabular}\n",
      "\n"
     ]
    }
   ],
   "source": [
    "# Print the results.\n",
    "pd.set_option(\"display.precision\", 3)\n",
    "df1 = pd.read_csv(output_file1, header=None)\n",
    "df1.columns = ['m', 'time']\n",
    "df1.sort_values(ascending=True, by='m', inplace=True)\n",
    "df1['time'] /= 1000\n",
    "print(df1.to_latex(index=False, escape=False))"
   ]
  },
  {
   "cell_type": "code",
   "execution_count": 6,
   "id": "becfe825",
   "metadata": {},
   "outputs": [
    {
     "data": {
      "image/png": "[encoded data removed]",
      "text/plain": [
       "<Figure size 360x360 with 1 Axes>"
      ]
     },
     "metadata": {
      "needs_background": "light"
     },
     "output_type": "display_data"
    }
   ],
   "source": [
    "# Generate a plot.\n",
    "plt.figure(figsize=(5, 5))\n",
    "plt.title(\"MR-tree construction time (c = 128)\")\n",
    "plt.xscale('log')\n",
    "plt.plot(df1['m'], df1['time'], marker='o', color='black')\n",
    "plt.ylabel(\"Time [ms]\")\n",
    "plt.xlabel(\"Number of records (m)\")\n",
    "plt.savefig(\"{}/test_construction/test-construction.eps\".format(base_dir), format='eps', bbox_inches='tight')"
   ]
  },
  {
   "cell_type": "markdown",
   "id": "82a78200",
   "metadata": {},
   "source": [
    "# Construction test 2\n",
    "\n",
    "We fix the number of records $m$ and change the capacity $c$."
   ]
  },
  {
   "cell_type": "code",
   "execution_count": 20,
   "id": "ab2b18b3",
   "metadata": {},
   "outputs": [
    {
     "name": "stdout",
     "output_type": "stream",
     "text": [
      "[4, 8, 16, 32, 64, 128, 256, 512, 1024, 2048]\n"
     ]
    }
   ],
   "source": [
    "m = 30000\n",
    "n_trials = 50\n",
    "input_file2 = '{}/data/crash_data_{}.csv'.format(base_dir, m)\n",
    "output_file2 = '{}/test_construction/test_construction_capacity.csv'.format(base_dir)\n",
    "capacities = [4, 8, 16, 32, 64, 128, 256, 512, 1024, 2048]\n",
    "#capacities = list(range(10, 250, 10))\n",
    "print(capacities)"
   ]
  },
  {
   "cell_type": "code",
   "execution_count": 21,
   "id": "78b0a494",
   "metadata": {},
   "outputs": [
    {
     "name": "stdout",
     "output_type": "stream",
     "text": [
      "Testing c=4...\n",
      "Testing c=8...\n",
      "Testing c=16...\n",
      "Testing c=32...\n",
      "Testing c=64...\n",
      "Testing c=128...\n",
      "Testing c=256...\n",
      "Testing c=512...\n",
      "Testing c=1024...\n",
      "Testing c=2048...\n",
      "Done!\n"
     ]
    }
   ],
   "source": [
    "# Test the implementation.\n",
    "\n",
    "f = open(output_file2, 'w')\n",
    "f.write('c,leaves,height,avg_time\\n')\n",
    "\n",
    "os.chdir(exec_dir)\n",
    "\n",
    "for c in capacities:\n",
    "    print('Testing c={}...'.format(c))\n",
    "    avg_time, leaves, height = 0, 0, 0\n",
    "    for i in range(0, n_trials):\n",
    "        p = subprocess.run(['./TestIndex', input_file2, str(c)], capture_output=True, check=True)\n",
    "        lines = p.stdout.decode('utf-8').splitlines()\n",
    "        avg_time += int((lines[0].split(':'))[1])\n",
    "        leaves += int((lines[1].split(':'))[1])\n",
    "        height += int((lines[2].split(':'))[1]) \n",
    "    avg_time /= n_trials\n",
    "    leaves /= n_trials\n",
    "    height /= n_trials\n",
    "    f.write('{},{},{},{}\\n'.format(c, leaves, height, avg_time))\n",
    "\n",
    "f.close()\n",
    "\n",
    "os.chdir(base_dir)\n",
    "print('Done!')"
   ]
  },
  {
   "cell_type": "code",
   "execution_count": 22,
   "id": "63c85af0",
   "metadata": {},
   "outputs": [
    {
     "name": "stdout",
     "output_type": "stream",
     "text": [
      "\\begin{tabular}{rrrr}\n",
      "\\toprule\n",
      "   c &  leaves &  height &  avg\\_time \\\\\n",
      "\\midrule\n",
      "   4 &    7500 &       7 &    26.125 \\\\\n",
      "   8 &    3750 &       4 &    20.994 \\\\\n",
      "  16 &    1875 &       3 &    17.593 \\\\\n",
      "  32 &     938 &       2 &    16.532 \\\\\n",
      "  64 &     469 &       2 &    16.265 \\\\\n",
      " 128 &     235 &       2 &    16.183 \\\\\n",
      " 256 &     118 &       1 &    15.894 \\\\\n",
      " 512 &      59 &       1 &    16.687 \\\\\n",
      "1024 &      30 &       1 &    16.606 \\\\\n",
      "2048 &      15 &       1 &    16.641 \\\\\n",
      "\\bottomrule\n",
      "\\end{tabular}\n",
      "\n"
     ]
    }
   ],
   "source": [
    "# Print the results.\n",
    "df2 = pd.read_csv(output_file2)\n",
    "# Divide by 1000 to convert microseconds to milliseconds.\n",
    "df2['avg_time'] /= 1000\n",
    "# Round the execution times to 3 decimal places.\n",
    "df2 = df2.round({'avg_time': 3})\n",
    "# Convert leaves and height columns to integer type.\n",
    "df2 = df2.astype({'leaves': int, 'height': int})\n",
    "print(df2.to_latex(index=False))"
   ]
  },
  {
   "cell_type": "raw",
   "id": "15480106",
   "metadata": {},
   "source": [
    "\\begin{tabular}{rrrr}\n",
    "\\toprule\n",
    "   c &  leaves &  height &  avg\\_time \\\\\n",
    "\\midrule\n",
    "   4 &    7500 &       7 &    25.809 \\\\\n",
    "   8 &    3750 &       4 &    20.443 \\\\\n",
    "  16 &    1875 &       3 &    17.681 \\\\\n",
    "  32 &     938 &       2 &    16.720 \\\\\n",
    "  64 &     469 &       2 &    16.192 \\\\\n",
    " 128 &     235 &       2 &    15.963 \\\\\n",
    " 256 &     118 &       1 &    15.805 \\\\\n",
    " 512 &      59 &       1 &    16.801 \\\\\n",
    "1024 &      30 &       1 &    16.714 \\\\\n",
    "2048 &      15 &       1 &    16.638 \\\\\n",
    "\\bottomrule\n",
    "\\end{tabular}"
   ]
  },
  {
   "cell_type": "code",
   "execution_count": 7,
   "id": "8a352677",
   "metadata": {},
   "outputs": [
    {
     "data": {
      "text/plain": [
       "[<matplotlib.lines.Line2D at 0x11ebcb8b0>]"
      ]
     },
     "execution_count": 7,
     "metadata": {},
     "output_type": "execute_result"
    },
    {
     "data": {
      "image/png": "[encoded data removed]",
      "text/plain": [
       "<Figure size 432x288 with 1 Axes>"
      ]
     },
     "metadata": {
      "needs_background": "light"
     },
     "output_type": "display_data"
    }
   ],
   "source": [
    "plt.xscale('log', base=2)\n",
    "plt.plot(df2['c'], df2['avg_time'])"
   ]
  },
  {
   "cell_type": "code",
   "execution_count": 43,
   "id": "017208af",
   "metadata": {},
   "outputs": [
    {
     "data": {
      "text/plain": [
       "3"
      ]
     },
     "execution_count": 43,
     "metadata": {},
     "output_type": "execute_result"
    }
   ],
   "source": [
    "len('day')"
   ]
  },
  {
   "cell_type": "code",
   "execution_count": null,
   "id": "0f598bf9",
   "metadata": {},
   "outputs": [],
   "source": []
  }
 ],
 "metadata": {
  "kernelspec": {
   "display_name": "Python 3",
   "language": "python",
   "name": "python3"
  },
  "language_info": {
   "codemirror_mode": {
    "name": "ipython",
    "version": 3
   },
   "file_extension": ".py",
   "mimetype": "text/x-python",
   "name": "python",
   "nbconvert_exporter": "python",
   "pygments_lexer": "ipython3",
   "version": "3.8.2"
  }
 },
 "nbformat": 4,
 "nbformat_minor": 5
}
